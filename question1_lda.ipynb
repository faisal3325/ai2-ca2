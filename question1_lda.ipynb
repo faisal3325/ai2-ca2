{
 "cells": [
  {
   "cell_type": "markdown",
   "metadata": {},
   "source": [
    "# CA-2\n",
    "GitHub Repo Link- https://github.com/faisal3325/ai2-ca2"
   ],
   "execution_count": null,
   "outputs": []
  },
  {
   "cell_type": "markdown",
   "metadata": {},
   "source": [
    "## Q1 Text Classification - 1\n",
    "## Running Latent Dirichlet Allocation(LDA)"
   ]
  },
  {
   "cell_type": "markdown",
   "metadata": {},
   "source": [
    "### Importing Libraries and Initializing project"
   ]
  },
  {
   "cell_type": "code",
   "execution_count": 183,
   "metadata": {},
   "outputs": [],
   "source": [
    "# importing libraries\n",
    "import pandas as pd # for dataframe\n",
    "import time # for timer used to calculate execution time\n",
    "import pickle # for exporting model"
   ]
  },
  {
   "cell_type": "code",
   "execution_count": 178,
   "metadata": {},
   "outputs": [],
   "source": [
    "# Helper functions\n",
    "\n",
    "# Timer functions for calculating execution time of models\n",
    "def time_elapsed_start():\n",
    "    # Starting the timer\n",
    "    return time.time()\n",
    "\n",
    "def time_elapsed_stop(start):\n",
    "    # Stoping timer and calculating time in\n",
    "    # seconds, minutes, and hours\n",
    "    sec = time.time() - start\n",
    "    min = sec/60\n",
    "    hour = min/60\n",
    "    print(f\"Execution took {sec} seconds - ({min} minutes), ({hour} hours)\")\n",
    "\n",
    "def save_model(model, model_name):\n",
    "    # Saving the model to disk\n",
    "    filename = f'{model_name}.sav'\n",
    "    pickle.dump(model, open(filename, 'wb'))"
   ]
  },
  {
   "cell_type": "code",
   "execution_count": 130,
   "metadata": {},
   "outputs": [],
   "source": [
    "# loading data\n",
    "ROWS_TO_READ = 200000 # total rows to read\n",
    "df = pd.read_csv('quora_questions.csv', nrows=ROWS_TO_READ) # loading the dataset"
   ]
  },
  {
   "cell_type": "code",
   "execution_count": 131,
   "metadata": {},
   "outputs": [
    {
     "output_type": "execute_result",
     "data": {
      "text/plain": "                                                 question\n174726       Why does it take so long for amazon to ship?\n154585  What is the best diet chart for a student prep...\n35459   Is there a Drug and Alcohol Rehab Center in Ju...\n2108        Is it possible for a mobile phone to explode?\n94343              How beautifully life can be described?",
      "text/html": "<div>\n<style scoped>\n    .dataframe tbody tr th:only-of-type {\n        vertical-align: middle;\n    }\n\n    .dataframe tbody tr th {\n        vertical-align: top;\n    }\n\n    .dataframe thead th {\n        text-align: right;\n    }\n</style>\n<table border=\"1\" class=\"dataframe\">\n  <thead>\n    <tr style=\"text-align: right;\">\n      <th></th>\n      <th>question</th>\n    </tr>\n  </thead>\n  <tbody>\n    <tr>\n      <th>174726</th>\n      <td>Why does it take so long for amazon to ship?</td>\n    </tr>\n    <tr>\n      <th>154585</th>\n      <td>What is the best diet chart for a student prep...</td>\n    </tr>\n    <tr>\n      <th>35459</th>\n      <td>Is there a Drug and Alcohol Rehab Center in Ju...</td>\n    </tr>\n    <tr>\n      <th>2108</th>\n      <td>Is it possible for a mobile phone to explode?</td>\n    </tr>\n    <tr>\n      <th>94343</th>\n      <td>How beautifully life can be described?</td>\n    </tr>\n  </tbody>\n</table>\n</div>"
     },
     "metadata": {},
     "execution_count": 131
    }
   ],
   "source": [
    "df.sample(5)"
   ]
  },
  {
   "cell_type": "code",
   "execution_count": 132,
   "metadata": {},
   "outputs": [
    {
     "output_type": "stream",
     "name": "stdout",
     "text": "What is the step by step guide to invest in share market in india?\nWhat is the story of Kohinoor (Koh-i-Noor) Diamond?\nHow can I increase the speed of my internet connection while using a VPN?\nWhy am I mentally very lonely? How can I solve it?\nWhich one dissolve in water quikly sugar, salt, methane and carbon di oxide?\nAstrology: I am a Capricorn Sun Cap moon and cap rising...what does that say about me?\nShould I buy tiago?\nHow can I be a good geologist?\nWhen do you use ã‚· instead of ã—?\nMotorola (company): Can I hack my Charter Motorolla DCX3400?\n"
    }
   ],
   "source": [
    "for i in range(0, 10):\n",
    "    print(df['question'][i])"
   ]
  },
  {
   "cell_type": "code",
   "execution_count": 133,
   "metadata": {},
   "outputs": [
    {
     "output_type": "stream",
     "name": "stdout",
     "text": "Dataframe size: 200000\n"
    }
   ],
   "source": [
    "# dataframe size\n",
    "print(f\"Dataframe size: {df.size}\")"
   ]
  },
  {
   "cell_type": "markdown",
   "metadata": {},
   "source": [
    "### Pre-processing"
   ],
   "execution_count": null,
   "outputs": []
  },
  {
   "cell_type": "markdown",
   "metadata": {},
   "source": [
    "Here we are using CountVectorizer to vectorize the questions. We are considering that a word should come in atleast 2 documents (min_df) and should not come in more than 90% of the documents (max_df). We are also removing stop words in this process."
   ],
   "execution_count": null,
   "outputs": []
  },
  {
   "cell_type": "code",
   "execution_count": 134,
   "metadata": {},
   "outputs": [],
   "source": [
    "from sklearn.feature_extraction.text import CountVectorizer\n",
    "count_vectorizer = CountVectorizer(max_df=0.9, min_df=2, stop_words='english')"
   ]
  },
  {
   "cell_type": "code",
   "execution_count": 135,
   "metadata": {},
   "outputs": [
    {
     "output_type": "stream",
     "name": "stdout",
     "text": "Execution took 3.311908483505249 seconds - (0.05519847472508748 minutes), (0.000919974578751458 hours)\n"
    }
   ],
   "source": [
    "start = time_elapsed_start()\n",
    "term_matrix = count_vectorizer.fit_transform(df['question'])\n",
    "time_elapsed_stop(start)"
   ]
  },
  {
   "cell_type": "code",
   "execution_count": 136,
   "metadata": {},
   "outputs": [
    {
     "output_type": "execute_result",
     "data": {
      "text/plain": "<200000x50470 sparse matrix of type '<class 'numpy.int64'>'\n\twith 1004332 stored elements in Compressed Sparse Row format>"
     },
     "metadata": {},
     "execution_count": 136
    }
   ],
   "source": [
    "term_matrix"
   ]
  },
  {
   "cell_type": "markdown",
   "metadata": {},
   "source": [
    "The vector has taken 50,470 words in the vocabulary from 2,00,000 questions(rows)."
   ],
   "execution_count": null,
   "outputs": []
  },
  {
   "cell_type": "markdown",
   "metadata": {},
   "source": [
    "### Applying LDA"
   ],
   "execution_count": null,
   "outputs": []
  },
  {
   "cell_type": "code",
   "execution_count": 137,
   "metadata": {},
   "outputs": [],
   "source": [
    "from sklearn.decomposition import LatentDirichletAllocation"
   ]
  },
  {
   "cell_type": "markdown",
   "metadata": {},
   "source": [
    "Initializing LDA with 14 components, random state 3, and default learning decay 0.7"
   ]
  },
  {
   "cell_type": "code",
   "execution_count": 186,
   "metadata": {},
   "outputs": [],
   "source": [
    "lda = LatentDirichletAllocation(n_components=14, random_state=3)"
   ]
  },
  {
   "cell_type": "code",
   "execution_count": 139,
   "metadata": {},
   "outputs": [
    {
     "output_type": "stream",
     "name": "stdout",
     "text": "Execution took 442.35561871528625 seconds - (7.372593645254771 minutes), (0.12287656075424618 hours)\n"
    }
   ],
   "source": [
    "start = time_elapsed_start()\n",
    "lda.fit(term_matrix)\n",
    "time_elapsed_stop(start)"
   ]
  },
  {
   "cell_type": "code",
   "execution_count": 179,
   "metadata": {},
   "outputs": [],
   "source": [
    "# Saving model\n",
    "save_model(lda, 'lda_14_0.7')"
   ]
  },
  {
   "cell_type": "markdown",
   "metadata": {},
   "source": [
    "Checking log likelihood, perplexity"
   ],
   "execution_count": null,
   "outputs": []
  },
  {
   "cell_type": "code",
   "execution_count": 140,
   "metadata": {},
   "outputs": [
    {
     "output_type": "stream",
     "name": "stdout",
     "text": "Execution took 105.48867440223694 seconds - (1.7581445733706156 minutes), (0.029302409556176925 hours)\n"
    }
   ],
   "source": [
    "start = time_elapsed_start()\n",
    "log_likelihood = lda.score(term_matrix)\n",
    "perplexity = lda.perplexity(term_matrix)\n",
    "time_elapsed_stop(start)"
   ]
  },
  {
   "cell_type": "code",
   "execution_count": 141,
   "metadata": {},
   "outputs": [
    {
     "output_type": "stream",
     "name": "stdout",
     "text": "Log likelihood: -8936056.746951483\nPerplexity: 5736.284365840458\n"
    }
   ],
   "source": [
    "print(f\"Log likelihood: {log_likelihood}\")\n",
    "print(f\"Perplexity: {perplexity}\")"
   ]
  },
  {
   "cell_type": "markdown",
   "metadata": {},
   "source": [
    "We have a got quite a low log likelihood (~ -8936057) which is a good value. We good perplexity (~5736) which is also quite low and is a good value."
   ]
  },
  {
   "cell_type": "code",
   "execution_count": 184,
   "metadata": {},
   "outputs": [],
   "source": [
    "# Creating a metrics dataframe for comparison later\n",
    "lda_metrics_df = pd.DataFrame([[log_likelihood, perplexity, 14, 0.7]], columns=['log_likelihood', 'perplexity', 'n_components', 'learning_decay'])"
   ]
  },
  {
   "cell_type": "code",
   "execution_count": 185,
   "metadata": {},
   "outputs": [
    {
     "output_type": "execute_result",
     "data": {
      "text/plain": "   log_likelihood   perplexity  n_components  learning_decay\n0   -8.927290e+06  5687.786516            14             0.7",
      "text/html": "<div>\n<style scoped>\n    .dataframe tbody tr th:only-of-type {\n        vertical-align: middle;\n    }\n\n    .dataframe tbody tr th {\n        vertical-align: top;\n    }\n\n    .dataframe thead th {\n        text-align: right;\n    }\n</style>\n<table border=\"1\" class=\"dataframe\">\n  <thead>\n    <tr style=\"text-align: right;\">\n      <th></th>\n      <th>log_likelihood</th>\n      <th>perplexity</th>\n      <th>n_components</th>\n      <th>learning_decay</th>\n    </tr>\n  </thead>\n  <tbody>\n    <tr>\n      <th>0</th>\n      <td>-8.927290e+06</td>\n      <td>5687.786516</td>\n      <td>14</td>\n      <td>0.7</td>\n    </tr>\n  </tbody>\n</table>\n</div>"
     },
     "metadata": {},
     "execution_count": 185
    }
   ],
   "source": [
    "lda_metrics_df"
   ]
  },
  {
   "cell_type": "markdown",
   "metadata": {},
   "source": [
    "## Applying GridSearch for finding out best parameters for LDA"
   ],
   "execution_count": null,
   "outputs": []
  },
  {
   "cell_type": "code",
   "execution_count": 144,
   "metadata": {},
   "outputs": [],
   "source": [
    "# importing GridSearchCV from sklearn.model_selection\n",
    "from sklearn.model_selection import GridSearchCV"
   ]
  },
  {
   "cell_type": "code",
   "execution_count": 145,
   "metadata": {},
   "outputs": [],
   "source": [
    "# creating parameters for LDA to run in GridSearch\n",
    "params = {'n_components': [10, 12, 14], 'learning_decay': [.5, .7, .9]}"
   ]
  },
  {
   "cell_type": "code",
   "execution_count": 146,
   "metadata": {},
   "outputs": [],
   "source": [
    "# Initializing evaluate LDA and passing parameters to it\n",
    "eval_lda = LatentDirichletAllocation()\n",
    "eval_lda = GridSearchCV(eval_lda, param_grid=params)"
   ]
  },
  {
   "cell_type": "code",
   "execution_count": 147,
   "metadata": {},
   "outputs": [
    {
     "output_type": "stream",
     "name": "stderr",
     "text": "C:\\Users\\faisa\\Anaconda3\\envs\\AI2_course\\lib\\site-packages\\sklearn\\model_selection\\_split.py:2053: FutureWarning: You should specify a value for 'cv' instead of relying on the default value. The default value will change from 3 to 5 in version 0.22.\n  warnings.warn(CV_WARNING, FutureWarning)\nExecution took 8361.387158870697 seconds - (139.35645264784495 minutes), (2.322607544130749 hours)\n"
    }
   ],
   "source": [
    "# Fitting the model\n",
    "# this will search for optimal parameters\n",
    "# Note: this process consumes a significant amount of time and resources\n",
    "start = time_elapsed_start()\n",
    "eval_lda.fit(term_matrix)\n",
    "time_elapsed_stop(start)"
   ]
  },
  {
   "cell_type": "code",
   "execution_count": 180,
   "metadata": {},
   "outputs": [],
   "source": [
    "# saving model\n",
    "save_model(eval_lda, 'eval_lda_gridsearch_10_12_14_.5_.7_.9')"
   ]
  },
  {
   "cell_type": "code",
   "execution_count": 148,
   "metadata": {},
   "outputs": [
    {
     "output_type": "stream",
     "name": "stdout",
     "text": "Best Model's Params:  {'learning_decay': 0.9, 'n_components': 10}\nBest Log Likelihood Score:  -3241856.4356800863\nModel Perplexity:  5552.920307150242\n"
    }
   ],
   "source": [
    "# Finding the best parameters for LDA\n",
    "best_lda_model = eval_lda.best_estimator_\n",
    "print(\"Best Model's Params: \", eval_lda.best_params_)"
   ]
  },
  {
   "cell_type": "code",
   "execution_count": 149,
   "metadata": {},
   "outputs": [],
   "source": [
    "# Using best parameters\n",
    "lda = LatentDirichletAllocation(n_components=10, random_state=3, learning_decay=0.9)"
   ]
  },
  {
   "cell_type": "code",
   "execution_count": 150,
   "metadata": {},
   "outputs": [
    {
     "output_type": "stream",
     "name": "stdout",
     "text": "Execution took 490.63956212997437 seconds - (8.177326035499572 minutes), (0.1362887672583262 hours)\n"
    }
   ],
   "source": [
    "start = time_elapsed_start()\n",
    "lda.fit(term_matrix)\n",
    "time_elapsed_stop(start)"
   ]
  },
  {
   "cell_type": "code",
   "execution_count": 181,
   "metadata": {},
   "outputs": [],
   "source": [
    "save_model(lda, 'lda_10_.9')"
   ]
  },
  {
   "cell_type": "code",
   "execution_count": 151,
   "metadata": {},
   "outputs": [
    {
     "output_type": "stream",
     "name": "stdout",
     "text": "Execution took 86.88231325149536 seconds - (1.4480385541915894 minutes), (0.024133975903193158 hours)\n"
    }
   ],
   "source": [
    "start = time_elapsed_start()\n",
    "log_likelihood = lda.score(term_matrix)\n",
    "perplexity = lda.perplexity(term_matrix)\n",
    "time_elapsed_stop(start)"
   ]
  },
  {
   "cell_type": "code",
   "execution_count": 152,
   "metadata": {},
   "outputs": [
    {
     "output_type": "stream",
     "name": "stdout",
     "text": "Log likelihood: -8927290.074633548\nPerplexity: 5687.786516240722\n"
    }
   ],
   "source": [
    "print(f\"Log likelihood: {log_likelihood}\")\n",
    "print(f\"Perplexity: {perplexity}\")"
   ]
  },
  {
   "cell_type": "code",
   "execution_count": 153,
   "metadata": {},
   "outputs": [],
   "source": [
    "# storing metrics in metrics dataframe\n",
    "lda_metrics_df.loc[-1] = [log_likelihood, perplexity, 12, 0.7]\n",
    "lda_metrics_df.index = lda_metrics_df.index + 1\n",
    "lda_metrics_df = lda_metrics_df.sort_index()"
   ]
  },
  {
   "cell_type": "code",
   "execution_count": 154,
   "metadata": {},
   "outputs": [
    {
     "output_type": "execute_result",
     "data": {
      "text/plain": "   log_likelihood   perplexity  n_components  learning_decay\n0   -8.927290e+06  5687.786516          12.0             0.7\n1   -8.936057e+06  5736.284366          13.0             0.7",
      "text/html": "<div>\n<style scoped>\n    .dataframe tbody tr th:only-of-type {\n        vertical-align: middle;\n    }\n\n    .dataframe tbody tr th {\n        vertical-align: top;\n    }\n\n    .dataframe thead th {\n        text-align: right;\n    }\n</style>\n<table border=\"1\" class=\"dataframe\">\n  <thead>\n    <tr style=\"text-align: right;\">\n      <th></th>\n      <th>log_likelihood</th>\n      <th>perplexity</th>\n      <th>n_components</th>\n      <th>learning_decay</th>\n    </tr>\n  </thead>\n  <tbody>\n    <tr>\n      <th>0</th>\n      <td>-8.927290e+06</td>\n      <td>5687.786516</td>\n      <td>12.0</td>\n      <td>0.7</td>\n    </tr>\n    <tr>\n      <th>1</th>\n      <td>-8.936057e+06</td>\n      <td>5736.284366</td>\n      <td>13.0</td>\n      <td>0.7</td>\n    </tr>\n  </tbody>\n</table>\n</div>"
     },
     "metadata": {},
     "execution_count": 154
    }
   ],
   "source": [
    "lda_metrics_df"
   ]
  },
  {
   "cell_type": "markdown",
   "metadata": {},
   "source": [
    "## Exploring topics and their words"
   ],
   "execution_count": null,
   "outputs": []
  },
  {
   "cell_type": "markdown",
   "metadata": {},
   "source": [
    "We have 27,885 words in the vocabulary. "
   ],
   "execution_count": null,
   "outputs": []
  },
  {
   "cell_type": "code",
   "execution_count": 155,
   "metadata": {},
   "outputs": [
    {
     "output_type": "execute_result",
     "data": {
      "text/plain": "(10, 50470)"
     },
     "metadata": {},
     "execution_count": 155
    }
   ],
   "source": [
    "lda.components_.shape"
   ]
  },
  {
   "cell_type": "markdown",
   "metadata": {},
   "source": [
    "10 topics with 27,885 words"
   ],
   "execution_count": null,
   "outputs": []
  },
  {
   "cell_type": "markdown",
   "metadata": {},
   "source": [
    "Exploring a random topic"
   ],
   "execution_count": null,
   "outputs": []
  },
  {
   "cell_type": "code",
   "execution_count": 156,
   "metadata": {},
   "outputs": [],
   "source": [
    "random_topic = lda.components_[3]"
   ]
  },
  {
   "cell_type": "code",
   "execution_count": 157,
   "metadata": {},
   "outputs": [],
   "source": [
    "import matplotlib.pyplot as plt"
   ]
  },
  {
   "cell_type": "code",
   "execution_count": 158,
   "metadata": {},
   "outputs": [],
   "source": [
    "def show_chart(words, count, chart_title):\n",
    "    d = pd.DataFrame({\"Words\": words, \"Count\": count})\n",
    "    # Sort the dataframe by largest count\n",
    "    d = d.sort_values(by=[\"Count\"], ascending=False)\n",
    "    ax = d.plot.bar(y=\"Count\", x=\"Words\", title=chart_title, figsize=(15, 10), legend=True, fontsize=12, rot=1)\n",
    "    ax.set_xlabel(\"Frequent words\", fontsize=12)\n",
    "    ax.set_ylabel(\"Word count\", fontsize=12)"
   ]
  },
  {
   "cell_type": "code",
   "execution_count": 159,
   "metadata": {},
   "outputs": [
    {
     "output_type": "stream",
     "name": "stdout",
     "text": "class\nlearning\nexam\ngood\nworld\ncollege\nscience\ndifference\ncomputer\nprepare\nlanguage\nprogramming\nstart\nlike\nlearn\n"
    },
    {
     "output_type": "display_data",
     "data": {
      "text/plain": "<Figure size 1080x720 with 1 Axes>",
      "image/svg+xml": "<?xml version=\"1.0\" encoding=\"utf-8\" standalone=\"no\"?>\r\n<!DOCTYPE svg PUBLIC \"-//W3C//DTD SVG 1.1//EN\"\r\n  \"http://www.w3.org/Graphics/SVG/1.1/DTD/svg11.dtd\">\r\n<!-- Created with matplotlib (https://matplotlib.org/) -->\r\n<svg height=\"608.77023pt\" version=\"1.1\" viewBox=\"0 0 915.68875 608.77023\" width=\"915.68875pt\" xmlns=\"http://www.w3.org/2000/svg\" xmlns:xlink=\"http://www.w3.org/1999/xlink\">\r\n <defs>\r\n  <style type=\"text/css\">\r\n*{stroke-linecap:butt;stroke-linejoin:round;}\r\n  </style>\r\n </defs>\r\n <g id=\"figure_1\">\r\n  <g id=\"patch_1\">\r\n   <path d=\"M 0 608.77023 \r\nL 915.68875 608.77023 \r\nL 915.68875 0 \r\nL 0 0 \r\nz\r\n\" style=\"fill:none;\"/>\r\n  </g>\r\n  <g id=\"axes_1\">\r\n   <g id=\"patch_2\">\r\n    <path d=\"M 67.98875 565.918125 \r\nL 904.98875 565.918125 \r\nL 904.98875 22.318125 \r\nL 67.98875 22.318125 \r\nz\r\n\" style=\"fill:#ffffff;\"/>\r\n   </g>\r\n   <g id=\"patch_3\">\r\n    <path clip-path=\"url(#p648605df3b)\" d=\"M 81.93875 565.918125 \r\nL 109.83875 565.918125 \r\nL 109.83875 48.203839 \r\nL 81.93875 48.203839 \r\nz\r\n\" style=\"fill:#1f77b4;\"/>\r\n   </g>\r\n   <g id=\"patch_4\">\r\n    <path clip-path=\"url(#p648605df3b)\" d=\"M 137.73875 565.918125 \r\nL 165.63875 565.918125 \r\nL 165.63875 119.005523 \r\nL 137.73875 119.005523 \r\nz\r\n\" style=\"fill:#ff7f0e;\"/>\r\n   </g>\r\n   <g id=\"patch_5\">\r\n    <path clip-path=\"url(#p648605df3b)\" d=\"M 193.53875 565.918125 \r\nL 221.43875 565.918125 \r\nL 221.43875 149.096501 \r\nL 193.53875 149.096501 \r\nz\r\n\" style=\"fill:#2ca02c;\"/>\r\n   </g>\r\n   <g id=\"patch_6\">\r\n    <path clip-path=\"url(#p648605df3b)\" d=\"M 249.33875 565.918125 \r\nL 277.23875 565.918125 \r\nL 277.23875 191.649081 \r\nL 249.33875 191.649081 \r\nz\r\n\" style=\"fill:#d62728;\"/>\r\n   </g>\r\n   <g id=\"patch_7\">\r\n    <path clip-path=\"url(#p648605df3b)\" d=\"M 305.13875 565.918125 \r\nL 333.03875 565.918125 \r\nL 333.03875 195.395982 \r\nL 305.13875 195.395982 \r\nz\r\n\" style=\"fill:#9467bd;\"/>\r\n   </g>\r\n   <g id=\"patch_8\">\r\n    <path clip-path=\"url(#p648605df3b)\" d=\"M 360.93875 565.918125 \r\nL 388.83875 565.918125 \r\nL 388.83875 287.468692 \r\nL 360.93875 287.468692 \r\nz\r\n\" style=\"fill:#8c564b;\"/>\r\n   </g>\r\n   <g id=\"patch_9\">\r\n    <path clip-path=\"url(#p648605df3b)\" d=\"M 416.73875 565.918125 \r\nL 444.63875 565.918125 \r\nL 444.63875 291.636593 \r\nL 416.73875 291.636593 \r\nz\r\n\" style=\"fill:#e377c2;\"/>\r\n   </g>\r\n   <g id=\"patch_10\">\r\n    <path clip-path=\"url(#p648605df3b)\" d=\"M 472.53875 565.918125 \r\nL 500.43875 565.918125 \r\nL 500.43875 291.689218 \r\nL 472.53875 291.689218 \r\nz\r\n\" style=\"fill:#7f7f7f;\"/>\r\n   </g>\r\n   <g id=\"patch_11\">\r\n    <path clip-path=\"url(#p648605df3b)\" d=\"M 528.33875 565.918125 \r\nL 556.23875 565.918125 \r\nL 556.23875 294.352043 \r\nL 528.33875 294.352043 \r\nz\r\n\" style=\"fill:#bcbd22;\"/>\r\n   </g>\r\n   <g id=\"patch_12\">\r\n    <path clip-path=\"url(#p648605df3b)\" d=\"M 584.13875 565.918125 \r\nL 612.03875 565.918125 \r\nL 612.03875 360.880576 \r\nL 584.13875 360.880576 \r\nz\r\n\" style=\"fill:#17becf;\"/>\r\n   </g>\r\n   <g id=\"patch_13\">\r\n    <path clip-path=\"url(#p648605df3b)\" d=\"M 639.93875 565.918125 \r\nL 667.83875 565.918125 \r\nL 667.83875 392.739755 \r\nL 639.93875 392.739755 \r\nz\r\n\" style=\"fill:#1f77b4;\"/>\r\n   </g>\r\n   <g id=\"patch_14\">\r\n    <path clip-path=\"url(#p648605df3b)\" d=\"M 695.73875 565.918125 \r\nL 723.63875 565.918125 \r\nL 723.63875 422.230808 \r\nL 695.73875 422.230808 \r\nz\r\n\" style=\"fill:#1f77b4;\"/>\r\n   </g>\r\n   <g id=\"patch_15\">\r\n    <path clip-path=\"url(#p648605df3b)\" d=\"M 751.53875 565.918125 \r\nL 779.43875 565.918125 \r\nL 779.43875 453.490062 \r\nL 751.53875 453.490062 \r\nz\r\n\" style=\"fill:#ff7f0e;\"/>\r\n   </g>\r\n   <g id=\"patch_16\">\r\n    <path clip-path=\"url(#p648605df3b)\" d=\"M 807.33875 565.918125 \r\nL 835.23875 565.918125 \r\nL 835.23875 457.784262 \r\nL 807.33875 457.784262 \r\nz\r\n\" style=\"fill:#2ca02c;\"/>\r\n   </g>\r\n   <g id=\"patch_17\">\r\n    <path clip-path=\"url(#p648605df3b)\" d=\"M 863.13875 565.918125 \r\nL 891.03875 565.918125 \r\nL 891.03875 462.773113 \r\nL 863.13875 462.773113 \r\nz\r\n\" style=\"fill:#d62728;\"/>\r\n   </g>\r\n   <g id=\"matplotlib.axis_1\">\r\n    <g id=\"xtick_1\">\r\n     <g id=\"line2d_1\">\r\n      <defs>\r\n       <path d=\"M 0 0 \r\nL 0 3.5 \r\n\" id=\"m3d5dd2c287\" style=\"stroke:#000000;stroke-width:0.8;\"/>\r\n      </defs>\r\n      <g>\r\n       <use style=\"stroke:#000000;stroke-width:0.8;\" x=\"95.88875\" xlink:href=\"#m3d5dd2c287\" y=\"565.918125\"/>\r\n      </g>\r\n     </g>\r\n     <g id=\"text_1\">\r\n      <!-- world -->\r\n      <defs>\r\n       <path d=\"M 4.203125 54.6875 \r\nL 13.1875 54.6875 \r\nL 24.421875 12.015625 \r\nL 35.59375 54.6875 \r\nL 46.1875 54.6875 \r\nL 57.421875 12.015625 \r\nL 68.609375 54.6875 \r\nL 77.59375 54.6875 \r\nL 63.28125 0 \r\nL 52.6875 0 \r\nL 40.921875 44.828125 \r\nL 29.109375 0 \r\nL 18.5 0 \r\nz\r\n\" id=\"DejaVuSans-119\"/>\r\n       <path d=\"M 30.609375 48.390625 \r\nQ 23.390625 48.390625 19.1875 42.75 \r\nQ 14.984375 37.109375 14.984375 27.296875 \r\nQ 14.984375 17.484375 19.15625 11.84375 \r\nQ 23.34375 6.203125 30.609375 6.203125 \r\nQ 37.796875 6.203125 41.984375 11.859375 \r\nQ 46.1875 17.53125 46.1875 27.296875 \r\nQ 46.1875 37.015625 41.984375 42.703125 \r\nQ 37.796875 48.390625 30.609375 48.390625 \r\nz\r\nM 30.609375 56 \r\nQ 42.328125 56 49.015625 48.375 \r\nQ 55.71875 40.765625 55.71875 27.296875 \r\nQ 55.71875 13.875 49.015625 6.21875 \r\nQ 42.328125 -1.421875 30.609375 -1.421875 \r\nQ 18.84375 -1.421875 12.171875 6.21875 \r\nQ 5.515625 13.875 5.515625 27.296875 \r\nQ 5.515625 40.765625 12.171875 48.375 \r\nQ 18.84375 56 30.609375 56 \r\nz\r\n\" id=\"DejaVuSans-111\"/>\r\n       <path d=\"M 41.109375 46.296875 \r\nQ 39.59375 47.171875 37.8125 47.578125 \r\nQ 36.03125 48 33.890625 48 \r\nQ 26.265625 48 22.1875 43.046875 \r\nQ 18.109375 38.09375 18.109375 28.8125 \r\nL 18.109375 0 \r\nL 9.078125 0 \r\nL 9.078125 54.6875 \r\nL 18.109375 54.6875 \r\nL 18.109375 46.1875 \r\nQ 20.953125 51.171875 25.484375 53.578125 \r\nQ 30.03125 56 36.53125 56 \r\nQ 37.453125 56 38.578125 55.875 \r\nQ 39.703125 55.765625 41.0625 55.515625 \r\nz\r\n\" id=\"DejaVuSans-114\"/>\r\n       <path d=\"M 9.421875 75.984375 \r\nL 18.40625 75.984375 \r\nL 18.40625 0 \r\nL 9.421875 0 \r\nz\r\n\" id=\"DejaVuSans-108\"/>\r\n       <path d=\"M 45.40625 46.390625 \r\nL 45.40625 75.984375 \r\nL 54.390625 75.984375 \r\nL 54.390625 0 \r\nL 45.40625 0 \r\nL 45.40625 8.203125 \r\nQ 42.578125 3.328125 38.25 0.953125 \r\nQ 33.9375 -1.421875 27.875 -1.421875 \r\nQ 17.96875 -1.421875 11.734375 6.484375 \r\nQ 5.515625 14.40625 5.515625 27.296875 \r\nQ 5.515625 40.1875 11.734375 48.09375 \r\nQ 17.96875 56 27.875 56 \r\nQ 33.9375 56 38.25 53.625 \r\nQ 42.578125 51.265625 45.40625 46.390625 \r\nz\r\nM 14.796875 27.296875 \r\nQ 14.796875 17.390625 18.875 11.75 \r\nQ 22.953125 6.109375 30.078125 6.109375 \r\nQ 37.203125 6.109375 41.296875 11.75 \r\nQ 45.40625 17.390625 45.40625 27.296875 \r\nQ 45.40625 37.203125 41.296875 42.84375 \r\nQ 37.203125 48.484375 30.078125 48.484375 \r\nQ 22.953125 48.484375 18.875 42.84375 \r\nQ 14.796875 37.203125 14.796875 27.296875 \r\nz\r\n\" id=\"DejaVuSans-100\"/>\r\n      </defs>\r\n      <g transform=\"translate(79.42843 582.611511)rotate(-1)scale(0.12 -0.12)\">\r\n       <use xlink:href=\"#DejaVuSans-119\"/>\r\n       <use x=\"81.787109\" xlink:href=\"#DejaVuSans-111\"/>\r\n       <use x=\"142.96875\" xlink:href=\"#DejaVuSans-114\"/>\r\n       <use x=\"184.082031\" xlink:href=\"#DejaVuSans-108\"/>\r\n       <use x=\"211.865234\" xlink:href=\"#DejaVuSans-100\"/>\r\n      </g>\r\n     </g>\r\n    </g>\r\n    <g id=\"xtick_2\">\r\n     <g id=\"line2d_2\">\r\n      <g>\r\n       <use style=\"stroke:#000000;stroke-width:0.8;\" x=\"151.68875\" xlink:href=\"#m3d5dd2c287\" y=\"565.918125\"/>\r\n      </g>\r\n     </g>\r\n     <g id=\"text_2\">\r\n      <!-- start -->\r\n      <defs>\r\n       <path d=\"M 44.28125 53.078125 \r\nL 44.28125 44.578125 \r\nQ 40.484375 46.53125 36.375 47.5 \r\nQ 32.28125 48.484375 27.875 48.484375 \r\nQ 21.1875 48.484375 17.84375 46.4375 \r\nQ 14.5 44.390625 14.5 40.28125 \r\nQ 14.5 37.15625 16.890625 35.375 \r\nQ 19.28125 33.59375 26.515625 31.984375 \r\nL 29.59375 31.296875 \r\nQ 39.15625 29.25 43.1875 25.515625 \r\nQ 47.21875 21.78125 47.21875 15.09375 \r\nQ 47.21875 7.46875 41.1875 3.015625 \r\nQ 35.15625 -1.421875 24.609375 -1.421875 \r\nQ 20.21875 -1.421875 15.453125 -0.5625 \r\nQ 10.6875 0.296875 5.421875 2 \r\nL 5.421875 11.28125 \r\nQ 10.40625 8.6875 15.234375 7.390625 \r\nQ 20.0625 6.109375 24.8125 6.109375 \r\nQ 31.15625 6.109375 34.5625 8.28125 \r\nQ 37.984375 10.453125 37.984375 14.40625 \r\nQ 37.984375 18.0625 35.515625 20.015625 \r\nQ 33.0625 21.96875 24.703125 23.78125 \r\nL 21.578125 24.515625 \r\nQ 13.234375 26.265625 9.515625 29.90625 \r\nQ 5.8125 33.546875 5.8125 39.890625 \r\nQ 5.8125 47.609375 11.28125 51.796875 \r\nQ 16.75 56 26.8125 56 \r\nQ 31.78125 56 36.171875 55.265625 \r\nQ 40.578125 54.546875 44.28125 53.078125 \r\nz\r\n\" id=\"DejaVuSans-115\"/>\r\n       <path d=\"M 18.3125 70.21875 \r\nL 18.3125 54.6875 \r\nL 36.8125 54.6875 \r\nL 36.8125 47.703125 \r\nL 18.3125 47.703125 \r\nL 18.3125 18.015625 \r\nQ 18.3125 11.328125 20.140625 9.421875 \r\nQ 21.96875 7.515625 27.59375 7.515625 \r\nL 36.8125 7.515625 \r\nL 36.8125 0 \r\nL 27.59375 0 \r\nQ 17.1875 0 13.234375 3.875 \r\nQ 9.28125 7.765625 9.28125 18.015625 \r\nL 9.28125 47.703125 \r\nL 2.6875 47.703125 \r\nL 2.6875 54.6875 \r\nL 9.28125 54.6875 \r\nL 9.28125 70.21875 \r\nz\r\n\" id=\"DejaVuSans-116\"/>\r\n       <path d=\"M 34.28125 27.484375 \r\nQ 23.390625 27.484375 19.1875 25 \r\nQ 14.984375 22.515625 14.984375 16.5 \r\nQ 14.984375 11.71875 18.140625 8.90625 \r\nQ 21.296875 6.109375 26.703125 6.109375 \r\nQ 34.1875 6.109375 38.703125 11.40625 \r\nQ 43.21875 16.703125 43.21875 25.484375 \r\nL 43.21875 27.484375 \r\nz\r\nM 52.203125 31.203125 \r\nL 52.203125 0 \r\nL 43.21875 0 \r\nL 43.21875 8.296875 \r\nQ 40.140625 3.328125 35.546875 0.953125 \r\nQ 30.953125 -1.421875 24.3125 -1.421875 \r\nQ 15.921875 -1.421875 10.953125 3.296875 \r\nQ 6 8.015625 6 15.921875 \r\nQ 6 25.140625 12.171875 29.828125 \r\nQ 18.359375 34.515625 30.609375 34.515625 \r\nL 43.21875 34.515625 \r\nL 43.21875 35.40625 \r\nQ 43.21875 41.609375 39.140625 45 \r\nQ 35.0625 48.390625 27.6875 48.390625 \r\nQ 23 48.390625 18.546875 47.265625 \r\nQ 14.109375 46.140625 10.015625 43.890625 \r\nL 10.015625 52.203125 \r\nQ 14.9375 54.109375 19.578125 55.046875 \r\nQ 24.21875 56 28.609375 56 \r\nQ 40.484375 56 46.34375 49.84375 \r\nQ 52.203125 43.703125 52.203125 31.203125 \r\nz\r\n\" id=\"DejaVuSans-97\"/>\r\n      </defs>\r\n      <g transform=\"translate(137.77523 582.522601)rotate(-1)scale(0.12 -0.12)\">\r\n       <use xlink:href=\"#DejaVuSans-115\"/>\r\n       <use x=\"52.099609\" xlink:href=\"#DejaVuSans-116\"/>\r\n       <use x=\"91.308594\" xlink:href=\"#DejaVuSans-97\"/>\r\n       <use x=\"152.587891\" xlink:href=\"#DejaVuSans-114\"/>\r\n       <use x=\"193.701172\" xlink:href=\"#DejaVuSans-116\"/>\r\n      </g>\r\n     </g>\r\n    </g>\r\n    <g id=\"xtick_3\">\r\n     <g id=\"line2d_3\">\r\n      <g>\r\n       <use style=\"stroke:#000000;stroke-width:0.8;\" x=\"207.48875\" xlink:href=\"#m3d5dd2c287\" y=\"565.918125\"/>\r\n      </g>\r\n     </g>\r\n     <g id=\"text_3\">\r\n      <!-- science -->\r\n      <defs>\r\n       <path d=\"M 48.78125 52.59375 \r\nL 48.78125 44.1875 \r\nQ 44.96875 46.296875 41.140625 47.34375 \r\nQ 37.3125 48.390625 33.40625 48.390625 \r\nQ 24.65625 48.390625 19.8125 42.84375 \r\nQ 14.984375 37.3125 14.984375 27.296875 \r\nQ 14.984375 17.28125 19.8125 11.734375 \r\nQ 24.65625 6.203125 33.40625 6.203125 \r\nQ 37.3125 6.203125 41.140625 7.25 \r\nQ 44.96875 8.296875 48.78125 10.40625 \r\nL 48.78125 2.09375 \r\nQ 45.015625 0.34375 40.984375 -0.53125 \r\nQ 36.96875 -1.421875 32.421875 -1.421875 \r\nQ 20.0625 -1.421875 12.78125 6.34375 \r\nQ 5.515625 14.109375 5.515625 27.296875 \r\nQ 5.515625 40.671875 12.859375 48.328125 \r\nQ 20.21875 56 33.015625 56 \r\nQ 37.15625 56 41.109375 55.140625 \r\nQ 45.0625 54.296875 48.78125 52.59375 \r\nz\r\n\" id=\"DejaVuSans-99\"/>\r\n       <path d=\"M 9.421875 54.6875 \r\nL 18.40625 54.6875 \r\nL 18.40625 0 \r\nL 9.421875 0 \r\nz\r\nM 9.421875 75.984375 \r\nL 18.40625 75.984375 \r\nL 18.40625 64.59375 \r\nL 9.421875 64.59375 \r\nz\r\n\" id=\"DejaVuSans-105\"/>\r\n       <path d=\"M 56.203125 29.59375 \r\nL 56.203125 25.203125 \r\nL 14.890625 25.203125 \r\nQ 15.484375 15.921875 20.484375 11.0625 \r\nQ 25.484375 6.203125 34.421875 6.203125 \r\nQ 39.59375 6.203125 44.453125 7.46875 \r\nQ 49.3125 8.734375 54.109375 11.28125 \r\nL 54.109375 2.78125 \r\nQ 49.265625 0.734375 44.1875 -0.34375 \r\nQ 39.109375 -1.421875 33.890625 -1.421875 \r\nQ 20.796875 -1.421875 13.15625 6.1875 \r\nQ 5.515625 13.8125 5.515625 26.8125 \r\nQ 5.515625 40.234375 12.765625 48.109375 \r\nQ 20.015625 56 32.328125 56 \r\nQ 43.359375 56 49.78125 48.890625 \r\nQ 56.203125 41.796875 56.203125 29.59375 \r\nz\r\nM 47.21875 32.234375 \r\nQ 47.125 39.59375 43.09375 43.984375 \r\nQ 39.0625 48.390625 32.421875 48.390625 \r\nQ 24.90625 48.390625 20.390625 44.140625 \r\nQ 15.875 39.890625 15.1875 32.171875 \r\nz\r\n\" id=\"DejaVuSans-101\"/>\r\n       <path d=\"M 54.890625 33.015625 \r\nL 54.890625 0 \r\nL 45.90625 0 \r\nL 45.90625 32.71875 \r\nQ 45.90625 40.484375 42.875 44.328125 \r\nQ 39.84375 48.1875 33.796875 48.1875 \r\nQ 26.515625 48.1875 22.3125 43.546875 \r\nQ 18.109375 38.921875 18.109375 30.90625 \r\nL 18.109375 0 \r\nL 9.078125 0 \r\nL 9.078125 54.6875 \r\nL 18.109375 54.6875 \r\nL 18.109375 46.1875 \r\nQ 21.34375 51.125 25.703125 53.5625 \r\nQ 30.078125 56 35.796875 56 \r\nQ 45.21875 56 50.046875 50.171875 \r\nQ 54.890625 44.34375 54.890625 33.015625 \r\nz\r\n\" id=\"DejaVuSans-110\"/>\r\n      </defs>\r\n      <g transform=\"translate(184.973103 582.822903)rotate(-1)scale(0.12 -0.12)\">\r\n       <use xlink:href=\"#DejaVuSans-115\"/>\r\n       <use x=\"52.099609\" xlink:href=\"#DejaVuSans-99\"/>\r\n       <use x=\"107.080078\" xlink:href=\"#DejaVuSans-105\"/>\r\n       <use x=\"134.863281\" xlink:href=\"#DejaVuSans-101\"/>\r\n       <use x=\"196.386719\" xlink:href=\"#DejaVuSans-110\"/>\r\n       <use x=\"259.765625\" xlink:href=\"#DejaVuSans-99\"/>\r\n       <use x=\"314.746094\" xlink:href=\"#DejaVuSans-101\"/>\r\n      </g>\r\n     </g>\r\n    </g>\r\n    <g id=\"xtick_4\">\r\n     <g id=\"line2d_4\">\r\n      <g>\r\n       <use style=\"stroke:#000000;stroke-width:0.8;\" x=\"263.28875\" xlink:href=\"#m3d5dd2c287\" y=\"565.918125\"/>\r\n      </g>\r\n     </g>\r\n     <g id=\"text_4\">\r\n      <!-- programming -->\r\n      <defs>\r\n       <path d=\"M 18.109375 8.203125 \r\nL 18.109375 -20.796875 \r\nL 9.078125 -20.796875 \r\nL 9.078125 54.6875 \r\nL 18.109375 54.6875 \r\nL 18.109375 46.390625 \r\nQ 20.953125 51.265625 25.265625 53.625 \r\nQ 29.59375 56 35.59375 56 \r\nQ 45.5625 56 51.78125 48.09375 \r\nQ 58.015625 40.1875 58.015625 27.296875 \r\nQ 58.015625 14.40625 51.78125 6.484375 \r\nQ 45.5625 -1.421875 35.59375 -1.421875 \r\nQ 29.59375 -1.421875 25.265625 0.953125 \r\nQ 20.953125 3.328125 18.109375 8.203125 \r\nz\r\nM 48.6875 27.296875 \r\nQ 48.6875 37.203125 44.609375 42.84375 \r\nQ 40.53125 48.484375 33.40625 48.484375 \r\nQ 26.265625 48.484375 22.1875 42.84375 \r\nQ 18.109375 37.203125 18.109375 27.296875 \r\nQ 18.109375 17.390625 22.1875 11.75 \r\nQ 26.265625 6.109375 33.40625 6.109375 \r\nQ 40.53125 6.109375 44.609375 11.75 \r\nQ 48.6875 17.390625 48.6875 27.296875 \r\nz\r\n\" id=\"DejaVuSans-112\"/>\r\n       <path d=\"M 45.40625 27.984375 \r\nQ 45.40625 37.75 41.375 43.109375 \r\nQ 37.359375 48.484375 30.078125 48.484375 \r\nQ 22.859375 48.484375 18.828125 43.109375 \r\nQ 14.796875 37.75 14.796875 27.984375 \r\nQ 14.796875 18.265625 18.828125 12.890625 \r\nQ 22.859375 7.515625 30.078125 7.515625 \r\nQ 37.359375 7.515625 41.375 12.890625 \r\nQ 45.40625 18.265625 45.40625 27.984375 \r\nz\r\nM 54.390625 6.78125 \r\nQ 54.390625 -7.171875 48.1875 -13.984375 \r\nQ 42 -20.796875 29.203125 -20.796875 \r\nQ 24.46875 -20.796875 20.265625 -20.09375 \r\nQ 16.0625 -19.390625 12.109375 -17.921875 \r\nL 12.109375 -9.1875 \r\nQ 16.0625 -11.328125 19.921875 -12.34375 \r\nQ 23.78125 -13.375 27.78125 -13.375 \r\nQ 36.625 -13.375 41.015625 -8.765625 \r\nQ 45.40625 -4.15625 45.40625 5.171875 \r\nL 45.40625 9.625 \r\nQ 42.625 4.78125 38.28125 2.390625 \r\nQ 33.9375 0 27.875 0 \r\nQ 17.828125 0 11.671875 7.65625 \r\nQ 5.515625 15.328125 5.515625 27.984375 \r\nQ 5.515625 40.671875 11.671875 48.328125 \r\nQ 17.828125 56 27.875 56 \r\nQ 33.9375 56 38.28125 53.609375 \r\nQ 42.625 51.21875 45.40625 46.390625 \r\nL 45.40625 54.6875 \r\nL 54.390625 54.6875 \r\nz\r\n\" id=\"DejaVuSans-103\"/>\r\n       <path d=\"M 52 44.1875 \r\nQ 55.375 50.25 60.0625 53.125 \r\nQ 64.75 56 71.09375 56 \r\nQ 79.640625 56 84.28125 50.015625 \r\nQ 88.921875 44.046875 88.921875 33.015625 \r\nL 88.921875 0 \r\nL 79.890625 0 \r\nL 79.890625 32.71875 \r\nQ 79.890625 40.578125 77.09375 44.375 \r\nQ 74.3125 48.1875 68.609375 48.1875 \r\nQ 61.625 48.1875 57.5625 43.546875 \r\nQ 53.515625 38.921875 53.515625 30.90625 \r\nL 53.515625 0 \r\nL 44.484375 0 \r\nL 44.484375 32.71875 \r\nQ 44.484375 40.625 41.703125 44.40625 \r\nQ 38.921875 48.1875 33.109375 48.1875 \r\nQ 26.21875 48.1875 22.15625 43.53125 \r\nQ 18.109375 38.875 18.109375 30.90625 \r\nL 18.109375 0 \r\nL 9.078125 0 \r\nL 9.078125 54.6875 \r\nL 18.109375 54.6875 \r\nL 18.109375 46.1875 \r\nQ 21.1875 51.21875 25.484375 53.609375 \r\nQ 29.78125 56 35.6875 56 \r\nQ 41.65625 56 45.828125 52.96875 \r\nQ 50 49.953125 52 44.1875 \r\nz\r\n\" id=\"DejaVuSans-109\"/>\r\n      </defs>\r\n      <g transform=\"translate(222.488076 583.461236)rotate(-1)scale(0.12 -0.12)\">\r\n       <use xlink:href=\"#DejaVuSans-112\"/>\r\n       <use x=\"63.476562\" xlink:href=\"#DejaVuSans-114\"/>\r\n       <use x=\"104.558594\" xlink:href=\"#DejaVuSans-111\"/>\r\n       <use x=\"165.740234\" xlink:href=\"#DejaVuSans-103\"/>\r\n       <use x=\"229.216797\" xlink:href=\"#DejaVuSans-114\"/>\r\n       <use x=\"270.330078\" xlink:href=\"#DejaVuSans-97\"/>\r\n       <use x=\"331.609375\" xlink:href=\"#DejaVuSans-109\"/>\r\n       <use x=\"429.021484\" xlink:href=\"#DejaVuSans-109\"/>\r\n       <use x=\"526.433594\" xlink:href=\"#DejaVuSans-105\"/>\r\n       <use x=\"554.216797\" xlink:href=\"#DejaVuSans-110\"/>\r\n       <use x=\"617.595703\" xlink:href=\"#DejaVuSans-103\"/>\r\n      </g>\r\n     </g>\r\n    </g>\r\n    <g id=\"xtick_5\">\r\n     <g id=\"line2d_5\">\r\n      <g>\r\n       <use style=\"stroke:#000000;stroke-width:0.8;\" x=\"319.08875\" xlink:href=\"#m3d5dd2c287\" y=\"565.918125\"/>\r\n      </g>\r\n     </g>\r\n     <g id=\"text_5\">\r\n      <!-- prepare -->\r\n      <g transform=\"translate(295.54201 582.858898)rotate(-1)scale(0.12 -0.12)\">\r\n       <use xlink:href=\"#DejaVuSans-112\"/>\r\n       <use x=\"63.476562\" xlink:href=\"#DejaVuSans-114\"/>\r\n       <use x=\"104.558594\" xlink:href=\"#DejaVuSans-101\"/>\r\n       <use x=\"166.082031\" xlink:href=\"#DejaVuSans-112\"/>\r\n       <use x=\"229.558594\" xlink:href=\"#DejaVuSans-97\"/>\r\n       <use x=\"290.837891\" xlink:href=\"#DejaVuSans-114\"/>\r\n       <use x=\"331.919922\" xlink:href=\"#DejaVuSans-101\"/>\r\n      </g>\r\n     </g>\r\n    </g>\r\n    <g id=\"xtick_6\">\r\n     <g id=\"line2d_6\">\r\n      <g>\r\n       <use style=\"stroke:#000000;stroke-width:0.8;\" x=\"374.88875\" xlink:href=\"#m3d5dd2c287\" y=\"565.918125\"/>\r\n      </g>\r\n     </g>\r\n     <g id=\"text_6\">\r\n      <!-- like -->\r\n      <defs>\r\n       <path d=\"M 9.078125 75.984375 \r\nL 18.109375 75.984375 \r\nL 18.109375 31.109375 \r\nL 44.921875 54.6875 \r\nL 56.390625 54.6875 \r\nL 27.390625 29.109375 \r\nL 57.625 0 \r\nL 45.90625 0 \r\nL 18.109375 26.703125 \r\nL 18.109375 0 \r\nL 9.078125 0 \r\nz\r\n\" id=\"DejaVuSans-107\"/>\r\n      </defs>\r\n      <g transform=\"translate(364.450951 582.401264)rotate(-1)scale(0.12 -0.12)\">\r\n       <use xlink:href=\"#DejaVuSans-108\"/>\r\n       <use x=\"27.783203\" xlink:href=\"#DejaVuSans-105\"/>\r\n       <use x=\"55.566406\" xlink:href=\"#DejaVuSans-107\"/>\r\n       <use x=\"113.429688\" xlink:href=\"#DejaVuSans-101\"/>\r\n      </g>\r\n     </g>\r\n    </g>\r\n    <g id=\"xtick_7\">\r\n     <g id=\"line2d_7\">\r\n      <g>\r\n       <use style=\"stroke:#000000;stroke-width:0.8;\" x=\"430.68875\" xlink:href=\"#m3d5dd2c287\" y=\"565.918125\"/>\r\n      </g>\r\n     </g>\r\n     <g id=\"text_7\">\r\n      <!-- learning -->\r\n      <g transform=\"translate(406.168096 582.892898)rotate(-1)scale(0.12 -0.12)\">\r\n       <use xlink:href=\"#DejaVuSans-108\"/>\r\n       <use x=\"27.783203\" xlink:href=\"#DejaVuSans-101\"/>\r\n       <use x=\"89.306641\" xlink:href=\"#DejaVuSans-97\"/>\r\n       <use x=\"150.585938\" xlink:href=\"#DejaVuSans-114\"/>\r\n       <use x=\"191.683594\" xlink:href=\"#DejaVuSans-110\"/>\r\n       <use x=\"255.0625\" xlink:href=\"#DejaVuSans-105\"/>\r\n       <use x=\"282.845703\" xlink:href=\"#DejaVuSans-110\"/>\r\n       <use x=\"346.224609\" xlink:href=\"#DejaVuSans-103\"/>\r\n      </g>\r\n     </g>\r\n    </g>\r\n    <g id=\"xtick_8\">\r\n     <g id=\"line2d_8\">\r\n      <g>\r\n       <use style=\"stroke:#000000;stroke-width:0.8;\" x=\"486.48875\" xlink:href=\"#m3d5dd2c287\" y=\"565.918125\"/>\r\n      </g>\r\n     </g>\r\n     <g id=\"text_8\">\r\n      <!-- learn -->\r\n      <g transform=\"translate(471.24512 582.569036)rotate(-1)scale(0.12 -0.12)\">\r\n       <use xlink:href=\"#DejaVuSans-108\"/>\r\n       <use x=\"27.783203\" xlink:href=\"#DejaVuSans-101\"/>\r\n       <use x=\"89.306641\" xlink:href=\"#DejaVuSans-97\"/>\r\n       <use x=\"150.585938\" xlink:href=\"#DejaVuSans-114\"/>\r\n       <use x=\"191.683594\" xlink:href=\"#DejaVuSans-110\"/>\r\n      </g>\r\n     </g>\r\n    </g>\r\n    <g id=\"xtick_9\">\r\n     <g id=\"line2d_9\">\r\n      <g>\r\n       <use style=\"stroke:#000000;stroke-width:0.8;\" x=\"542.28875\" xlink:href=\"#m3d5dd2c287\" y=\"565.918125\"/>\r\n      </g>\r\n     </g>\r\n     <g id=\"text_9\">\r\n      <!-- language -->\r\n      <defs>\r\n       <path d=\"M 8.5 21.578125 \r\nL 8.5 54.6875 \r\nL 17.484375 54.6875 \r\nL 17.484375 21.921875 \r\nQ 17.484375 14.15625 20.5 10.265625 \r\nQ 23.53125 6.390625 29.59375 6.390625 \r\nQ 36.859375 6.390625 41.078125 11.03125 \r\nQ 45.3125 15.671875 45.3125 23.6875 \r\nL 45.3125 54.6875 \r\nL 54.296875 54.6875 \r\nL 54.296875 0 \r\nL 45.3125 0 \r\nL 45.3125 8.40625 \r\nQ 42.046875 3.421875 37.71875 1 \r\nQ 33.40625 -1.421875 27.6875 -1.421875 \r\nQ 18.265625 -1.421875 13.375 4.4375 \r\nQ 8.5 10.296875 8.5 21.578125 \r\nz\r\nM 31.109375 56 \r\nz\r\n\" id=\"DejaVuSans-117\"/>\r\n      </defs>\r\n      <g transform=\"translate(514.415169 583.009949)rotate(-1)scale(0.12 -0.12)\">\r\n       <use xlink:href=\"#DejaVuSans-108\"/>\r\n       <use x=\"27.783203\" xlink:href=\"#DejaVuSans-97\"/>\r\n       <use x=\"89.0625\" xlink:href=\"#DejaVuSans-110\"/>\r\n       <use x=\"152.441406\" xlink:href=\"#DejaVuSans-103\"/>\r\n       <use x=\"215.917969\" xlink:href=\"#DejaVuSans-117\"/>\r\n       <use x=\"279.296875\" xlink:href=\"#DejaVuSans-97\"/>\r\n       <use x=\"340.576172\" xlink:href=\"#DejaVuSans-103\"/>\r\n       <use x=\"404.052734\" xlink:href=\"#DejaVuSans-101\"/>\r\n      </g>\r\n     </g>\r\n    </g>\r\n    <g id=\"xtick_10\">\r\n     <g id=\"line2d_10\">\r\n      <g>\r\n       <use style=\"stroke:#000000;stroke-width:0.8;\" x=\"598.08875\" xlink:href=\"#m3d5dd2c287\" y=\"565.918125\"/>\r\n      </g>\r\n     </g>\r\n     <g id=\"text_10\">\r\n      <!-- good -->\r\n      <g transform=\"translate(583.188193 582.557059)rotate(-1)scale(0.12 -0.12)\">\r\n       <use xlink:href=\"#DejaVuSans-103\"/>\r\n       <use x=\"63.476562\" xlink:href=\"#DejaVuSans-111\"/>\r\n       <use x=\"124.658203\" xlink:href=\"#DejaVuSans-111\"/>\r\n       <use x=\"185.839844\" xlink:href=\"#DejaVuSans-100\"/>\r\n      </g>\r\n     </g>\r\n    </g>\r\n    <g id=\"xtick_11\">\r\n     <g id=\"line2d_11\">\r\n      <g>\r\n       <use style=\"stroke:#000000;stroke-width:0.8;\" x=\"653.88875\" xlink:href=\"#m3d5dd2c287\" y=\"565.918125\"/>\r\n      </g>\r\n     </g>\r\n     <g id=\"text_11\">\r\n      <!-- exam -->\r\n      <defs>\r\n       <path d=\"M 54.890625 54.6875 \r\nL 35.109375 28.078125 \r\nL 55.90625 0 \r\nL 45.3125 0 \r\nL 29.390625 21.484375 \r\nL 13.484375 0 \r\nL 2.875 0 \r\nL 24.125 28.609375 \r\nL 4.6875 54.6875 \r\nL 15.28125 54.6875 \r\nL 29.78125 35.203125 \r\nL 44.28125 54.6875 \r\nz\r\n\" id=\"DejaVuSans-120\"/>\r\n      </defs>\r\n      <g transform=\"translate(637.185655 582.619986)rotate(-1)scale(0.12 -0.12)\">\r\n       <use xlink:href=\"#DejaVuSans-101\"/>\r\n       <use x=\"61.507812\" xlink:href=\"#DejaVuSans-120\"/>\r\n       <use x=\"120.6875\" xlink:href=\"#DejaVuSans-97\"/>\r\n       <use x=\"181.966797\" xlink:href=\"#DejaVuSans-109\"/>\r\n      </g>\r\n     </g>\r\n    </g>\r\n    <g id=\"xtick_12\">\r\n     <g id=\"line2d_12\">\r\n      <g>\r\n       <use style=\"stroke:#000000;stroke-width:0.8;\" x=\"709.68875\" xlink:href=\"#m3d5dd2c287\" y=\"565.918125\"/>\r\n      </g>\r\n     </g>\r\n     <g id=\"text_12\">\r\n      <!-- difference -->\r\n      <defs>\r\n       <path d=\"M 37.109375 75.984375 \r\nL 37.109375 68.5 \r\nL 28.515625 68.5 \r\nQ 23.6875 68.5 21.796875 66.546875 \r\nQ 19.921875 64.59375 19.921875 59.515625 \r\nL 19.921875 54.6875 \r\nL 34.71875 54.6875 \r\nL 34.71875 47.703125 \r\nL 19.921875 47.703125 \r\nL 19.921875 0 \r\nL 10.890625 0 \r\nL 10.890625 47.703125 \r\nL 2.296875 47.703125 \r\nL 2.296875 54.6875 \r\nL 10.890625 54.6875 \r\nL 10.890625 58.5 \r\nQ 10.890625 67.625 15.140625 71.796875 \r\nQ 19.390625 75.984375 28.609375 75.984375 \r\nz\r\n\" id=\"DejaVuSans-102\"/>\r\n      </defs>\r\n      <g transform=\"translate(679.408973 583.09395)rotate(-1)scale(0.12 -0.12)\">\r\n       <use xlink:href=\"#DejaVuSans-100\"/>\r\n       <use x=\"63.476562\" xlink:href=\"#DejaVuSans-105\"/>\r\n       <use x=\"91.259766\" xlink:href=\"#DejaVuSans-102\"/>\r\n       <use x=\"126.464844\" xlink:href=\"#DejaVuSans-102\"/>\r\n       <use x=\"161.669922\" xlink:href=\"#DejaVuSans-101\"/>\r\n       <use x=\"223.193359\" xlink:href=\"#DejaVuSans-114\"/>\r\n       <use x=\"264.275391\" xlink:href=\"#DejaVuSans-101\"/>\r\n       <use x=\"325.798828\" xlink:href=\"#DejaVuSans-110\"/>\r\n       <use x=\"389.177734\" xlink:href=\"#DejaVuSans-99\"/>\r\n       <use x=\"444.158203\" xlink:href=\"#DejaVuSans-101\"/>\r\n      </g>\r\n     </g>\r\n    </g>\r\n    <g id=\"xtick_13\">\r\n     <g id=\"line2d_13\">\r\n      <g>\r\n       <use style=\"stroke:#000000;stroke-width:0.8;\" x=\"765.48875\" xlink:href=\"#m3d5dd2c287\" y=\"565.918125\"/>\r\n      </g>\r\n     </g>\r\n     <g id=\"text_13\">\r\n      <!-- computer -->\r\n      <g transform=\"translate(736.614072 583.044897)rotate(-1)scale(0.12 -0.12)\">\r\n       <use xlink:href=\"#DejaVuSans-99\"/>\r\n       <use x=\"54.980469\" xlink:href=\"#DejaVuSans-111\"/>\r\n       <use x=\"116.162109\" xlink:href=\"#DejaVuSans-109\"/>\r\n       <use x=\"213.574219\" xlink:href=\"#DejaVuSans-112\"/>\r\n       <use x=\"277.050781\" xlink:href=\"#DejaVuSans-117\"/>\r\n       <use x=\"340.429688\" xlink:href=\"#DejaVuSans-116\"/>\r\n       <use x=\"379.638672\" xlink:href=\"#DejaVuSans-101\"/>\r\n       <use x=\"441.162109\" xlink:href=\"#DejaVuSans-114\"/>\r\n      </g>\r\n     </g>\r\n    </g>\r\n    <g id=\"xtick_14\">\r\n     <g id=\"line2d_14\">\r\n      <g>\r\n       <use style=\"stroke:#000000;stroke-width:0.8;\" x=\"821.28875\" xlink:href=\"#m3d5dd2c287\" y=\"565.918125\"/>\r\n      </g>\r\n     </g>\r\n     <g id=\"text_14\">\r\n      <!-- college -->\r\n      <g transform=\"translate(799.852938 582.785206)rotate(-1)scale(0.12 -0.12)\">\r\n       <use xlink:href=\"#DejaVuSans-99\"/>\r\n       <use x=\"54.980469\" xlink:href=\"#DejaVuSans-111\"/>\r\n       <use x=\"116.162109\" xlink:href=\"#DejaVuSans-108\"/>\r\n       <use x=\"143.945312\" xlink:href=\"#DejaVuSans-108\"/>\r\n       <use x=\"171.728516\" xlink:href=\"#DejaVuSans-101\"/>\r\n       <use x=\"233.251953\" xlink:href=\"#DejaVuSans-103\"/>\r\n       <use x=\"296.728516\" xlink:href=\"#DejaVuSans-101\"/>\r\n      </g>\r\n     </g>\r\n    </g>\r\n    <g id=\"xtick_15\">\r\n     <g id=\"line2d_15\">\r\n      <g>\r\n       <use style=\"stroke:#000000;stroke-width:0.8;\" x=\"877.08875\" xlink:href=\"#m3d5dd2c287\" y=\"565.918125\"/>\r\n      </g>\r\n     </g>\r\n     <g id=\"text_15\">\r\n      <!-- class -->\r\n      <g transform=\"translate(862.254745 582.554736)rotate(-1)scale(0.12 -0.12)\">\r\n       <use xlink:href=\"#DejaVuSans-99\"/>\r\n       <use x=\"54.980469\" xlink:href=\"#DejaVuSans-108\"/>\r\n       <use x=\"82.763672\" xlink:href=\"#DejaVuSans-97\"/>\r\n       <use x=\"144.042969\" xlink:href=\"#DejaVuSans-115\"/>\r\n       <use x=\"196.142578\" xlink:href=\"#DejaVuSans-115\"/>\r\n      </g>\r\n     </g>\r\n    </g>\r\n    <g id=\"text_16\">\r\n     <!-- Frequent words -->\r\n     <defs>\r\n      <path d=\"M 9.8125 72.90625 \r\nL 51.703125 72.90625 \r\nL 51.703125 64.59375 \r\nL 19.671875 64.59375 \r\nL 19.671875 43.109375 \r\nL 48.578125 43.109375 \r\nL 48.578125 34.8125 \r\nL 19.671875 34.8125 \r\nL 19.671875 0 \r\nL 9.8125 0 \r\nz\r\n\" id=\"DejaVuSans-70\"/>\r\n      <path d=\"M 14.796875 27.296875 \r\nQ 14.796875 17.390625 18.875 11.75 \r\nQ 22.953125 6.109375 30.078125 6.109375 \r\nQ 37.203125 6.109375 41.296875 11.75 \r\nQ 45.40625 17.390625 45.40625 27.296875 \r\nQ 45.40625 37.203125 41.296875 42.84375 \r\nQ 37.203125 48.484375 30.078125 48.484375 \r\nQ 22.953125 48.484375 18.875 42.84375 \r\nQ 14.796875 37.203125 14.796875 27.296875 \r\nz\r\nM 45.40625 8.203125 \r\nQ 42.578125 3.328125 38.25 0.953125 \r\nQ 33.9375 -1.421875 27.875 -1.421875 \r\nQ 17.96875 -1.421875 11.734375 6.484375 \r\nQ 5.515625 14.40625 5.515625 27.296875 \r\nQ 5.515625 40.1875 11.734375 48.09375 \r\nQ 17.96875 56 27.875 56 \r\nQ 33.9375 56 38.25 53.625 \r\nQ 42.578125 51.265625 45.40625 46.390625 \r\nL 45.40625 54.6875 \r\nL 54.390625 54.6875 \r\nL 54.390625 -20.796875 \r\nL 45.40625 -20.796875 \r\nz\r\n\" id=\"DejaVuSans-113\"/>\r\n      <path id=\"DejaVuSans-32\"/>\r\n     </defs>\r\n     <g transform=\"translate(439.544375 599.074605)scale(0.12 -0.12)\">\r\n      <use xlink:href=\"#DejaVuSans-70\"/>\r\n      <use x=\"57.410156\" xlink:href=\"#DejaVuSans-114\"/>\r\n      <use x=\"98.492188\" xlink:href=\"#DejaVuSans-101\"/>\r\n      <use x=\"160.015625\" xlink:href=\"#DejaVuSans-113\"/>\r\n      <use x=\"223.492188\" xlink:href=\"#DejaVuSans-117\"/>\r\n      <use x=\"286.871094\" xlink:href=\"#DejaVuSans-101\"/>\r\n      <use x=\"348.394531\" xlink:href=\"#DejaVuSans-110\"/>\r\n      <use x=\"411.773438\" xlink:href=\"#DejaVuSans-116\"/>\r\n      <use x=\"450.982422\" xlink:href=\"#DejaVuSans-32\"/>\r\n      <use x=\"482.769531\" xlink:href=\"#DejaVuSans-119\"/>\r\n      <use x=\"564.556641\" xlink:href=\"#DejaVuSans-111\"/>\r\n      <use x=\"625.738281\" xlink:href=\"#DejaVuSans-114\"/>\r\n      <use x=\"666.835938\" xlink:href=\"#DejaVuSans-100\"/>\r\n      <use x=\"730.3125\" xlink:href=\"#DejaVuSans-115\"/>\r\n     </g>\r\n    </g>\r\n   </g>\r\n   <g id=\"matplotlib.axis_2\">\r\n    <g id=\"ytick_1\">\r\n     <g id=\"line2d_16\">\r\n      <defs>\r\n       <path d=\"M 0 0 \r\nL -3.5 0 \r\n\" id=\"me176e0db9e\" style=\"stroke:#000000;stroke-width:0.8;\"/>\r\n      </defs>\r\n      <g>\r\n       <use style=\"stroke:#000000;stroke-width:0.8;\" x=\"67.98875\" xlink:href=\"#me176e0db9e\" y=\"565.918125\"/>\r\n      </g>\r\n     </g>\r\n     <g id=\"text_17\">\r\n      <!-- 0 -->\r\n      <defs>\r\n       <path d=\"M 31.78125 66.40625 \r\nQ 24.171875 66.40625 20.328125 58.90625 \r\nQ 16.5 51.421875 16.5 36.375 \r\nQ 16.5 21.390625 20.328125 13.890625 \r\nQ 24.171875 6.390625 31.78125 6.390625 \r\nQ 39.453125 6.390625 43.28125 13.890625 \r\nQ 47.125 21.390625 47.125 36.375 \r\nQ 47.125 51.421875 43.28125 58.90625 \r\nQ 39.453125 66.40625 31.78125 66.40625 \r\nz\r\nM 31.78125 74.21875 \r\nQ 44.046875 74.21875 50.515625 64.515625 \r\nQ 56.984375 54.828125 56.984375 36.375 \r\nQ 56.984375 17.96875 50.515625 8.265625 \r\nQ 44.046875 -1.421875 31.78125 -1.421875 \r\nQ 19.53125 -1.421875 13.0625 8.265625 \r\nQ 6.59375 17.96875 6.59375 36.375 \r\nQ 6.59375 54.828125 13.0625 64.515625 \r\nQ 19.53125 74.21875 31.78125 74.21875 \r\nz\r\n\" id=\"DejaVuSans-48\"/>\r\n      </defs>\r\n      <g transform=\"translate(53.35375 570.477188)scale(0.12 -0.12)\">\r\n       <use xlink:href=\"#DejaVuSans-48\"/>\r\n      </g>\r\n     </g>\r\n    </g>\r\n    <g id=\"ytick_2\">\r\n     <g id=\"line2d_17\">\r\n      <g>\r\n       <use style=\"stroke:#000000;stroke-width:0.8;\" x=\"67.98875\" xlink:href=\"#me176e0db9e\" y=\"460.668113\"/>\r\n      </g>\r\n     </g>\r\n     <g id=\"text_18\">\r\n      <!-- 10000 -->\r\n      <defs>\r\n       <path d=\"M 12.40625 8.296875 \r\nL 28.515625 8.296875 \r\nL 28.515625 63.921875 \r\nL 10.984375 60.40625 \r\nL 10.984375 69.390625 \r\nL 28.421875 72.90625 \r\nL 38.28125 72.90625 \r\nL 38.28125 8.296875 \r\nL 54.390625 8.296875 \r\nL 54.390625 0 \r\nL 12.40625 0 \r\nz\r\n\" id=\"DejaVuSans-49\"/>\r\n      </defs>\r\n      <g transform=\"translate(22.81375 465.227175)scale(0.12 -0.12)\">\r\n       <use xlink:href=\"#DejaVuSans-49\"/>\r\n       <use x=\"63.623047\" xlink:href=\"#DejaVuSans-48\"/>\r\n       <use x=\"127.246094\" xlink:href=\"#DejaVuSans-48\"/>\r\n       <use x=\"190.869141\" xlink:href=\"#DejaVuSans-48\"/>\r\n       <use x=\"254.492188\" xlink:href=\"#DejaVuSans-48\"/>\r\n      </g>\r\n     </g>\r\n    </g>\r\n    <g id=\"ytick_3\">\r\n     <g id=\"line2d_18\">\r\n      <g>\r\n       <use style=\"stroke:#000000;stroke-width:0.8;\" x=\"67.98875\" xlink:href=\"#me176e0db9e\" y=\"355.4181\"/>\r\n      </g>\r\n     </g>\r\n     <g id=\"text_19\">\r\n      <!-- 20000 -->\r\n      <defs>\r\n       <path d=\"M 19.1875 8.296875 \r\nL 53.609375 8.296875 \r\nL 53.609375 0 \r\nL 7.328125 0 \r\nL 7.328125 8.296875 \r\nQ 12.9375 14.109375 22.625 23.890625 \r\nQ 32.328125 33.6875 34.8125 36.53125 \r\nQ 39.546875 41.84375 41.421875 45.53125 \r\nQ 43.3125 49.21875 43.3125 52.78125 \r\nQ 43.3125 58.59375 39.234375 62.25 \r\nQ 35.15625 65.921875 28.609375 65.921875 \r\nQ 23.96875 65.921875 18.8125 64.3125 \r\nQ 13.671875 62.703125 7.8125 59.421875 \r\nL 7.8125 69.390625 \r\nQ 13.765625 71.78125 18.9375 73 \r\nQ 24.125 74.21875 28.421875 74.21875 \r\nQ 39.75 74.21875 46.484375 68.546875 \r\nQ 53.21875 62.890625 53.21875 53.421875 \r\nQ 53.21875 48.921875 51.53125 44.890625 \r\nQ 49.859375 40.875 45.40625 35.40625 \r\nQ 44.1875 33.984375 37.640625 27.21875 \r\nQ 31.109375 20.453125 19.1875 8.296875 \r\nz\r\n\" id=\"DejaVuSans-50\"/>\r\n      </defs>\r\n      <g transform=\"translate(22.81375 359.977163)scale(0.12 -0.12)\">\r\n       <use xlink:href=\"#DejaVuSans-50\"/>\r\n       <use x=\"63.623047\" xlink:href=\"#DejaVuSans-48\"/>\r\n       <use x=\"127.246094\" xlink:href=\"#DejaVuSans-48\"/>\r\n       <use x=\"190.869141\" xlink:href=\"#DejaVuSans-48\"/>\r\n       <use x=\"254.492188\" xlink:href=\"#DejaVuSans-48\"/>\r\n      </g>\r\n     </g>\r\n    </g>\r\n    <g id=\"ytick_4\">\r\n     <g id=\"line2d_19\">\r\n      <g>\r\n       <use style=\"stroke:#000000;stroke-width:0.8;\" x=\"67.98875\" xlink:href=\"#me176e0db9e\" y=\"250.168088\"/>\r\n      </g>\r\n     </g>\r\n     <g id=\"text_20\">\r\n      <!-- 30000 -->\r\n      <defs>\r\n       <path d=\"M 40.578125 39.3125 \r\nQ 47.65625 37.796875 51.625 33 \r\nQ 55.609375 28.21875 55.609375 21.1875 \r\nQ 55.609375 10.40625 48.1875 4.484375 \r\nQ 40.765625 -1.421875 27.09375 -1.421875 \r\nQ 22.515625 -1.421875 17.65625 -0.515625 \r\nQ 12.796875 0.390625 7.625 2.203125 \r\nL 7.625 11.71875 \r\nQ 11.71875 9.328125 16.59375 8.109375 \r\nQ 21.484375 6.890625 26.8125 6.890625 \r\nQ 36.078125 6.890625 40.9375 10.546875 \r\nQ 45.796875 14.203125 45.796875 21.1875 \r\nQ 45.796875 27.640625 41.28125 31.265625 \r\nQ 36.765625 34.90625 28.71875 34.90625 \r\nL 20.21875 34.90625 \r\nL 20.21875 43.015625 \r\nL 29.109375 43.015625 \r\nQ 36.375 43.015625 40.234375 45.921875 \r\nQ 44.09375 48.828125 44.09375 54.296875 \r\nQ 44.09375 59.90625 40.109375 62.90625 \r\nQ 36.140625 65.921875 28.71875 65.921875 \r\nQ 24.65625 65.921875 20.015625 65.03125 \r\nQ 15.375 64.15625 9.8125 62.3125 \r\nL 9.8125 71.09375 \r\nQ 15.4375 72.65625 20.34375 73.4375 \r\nQ 25.25 74.21875 29.59375 74.21875 \r\nQ 40.828125 74.21875 47.359375 69.109375 \r\nQ 53.90625 64.015625 53.90625 55.328125 \r\nQ 53.90625 49.265625 50.4375 45.09375 \r\nQ 46.96875 40.921875 40.578125 39.3125 \r\nz\r\n\" id=\"DejaVuSans-51\"/>\r\n      </defs>\r\n      <g transform=\"translate(22.81375 254.72715)scale(0.12 -0.12)\">\r\n       <use xlink:href=\"#DejaVuSans-51\"/>\r\n       <use x=\"63.623047\" xlink:href=\"#DejaVuSans-48\"/>\r\n       <use x=\"127.246094\" xlink:href=\"#DejaVuSans-48\"/>\r\n       <use x=\"190.869141\" xlink:href=\"#DejaVuSans-48\"/>\r\n       <use x=\"254.492188\" xlink:href=\"#DejaVuSans-48\"/>\r\n      </g>\r\n     </g>\r\n    </g>\r\n    <g id=\"ytick_5\">\r\n     <g id=\"line2d_20\">\r\n      <g>\r\n       <use style=\"stroke:#000000;stroke-width:0.8;\" x=\"67.98875\" xlink:href=\"#me176e0db9e\" y=\"144.918076\"/>\r\n      </g>\r\n     </g>\r\n     <g id=\"text_21\">\r\n      <!-- 40000 -->\r\n      <defs>\r\n       <path d=\"M 37.796875 64.3125 \r\nL 12.890625 25.390625 \r\nL 37.796875 25.390625 \r\nz\r\nM 35.203125 72.90625 \r\nL 47.609375 72.90625 \r\nL 47.609375 25.390625 \r\nL 58.015625 25.390625 \r\nL 58.015625 17.1875 \r\nL 47.609375 17.1875 \r\nL 47.609375 0 \r\nL 37.796875 0 \r\nL 37.796875 17.1875 \r\nL 4.890625 17.1875 \r\nL 4.890625 26.703125 \r\nz\r\n\" id=\"DejaVuSans-52\"/>\r\n      </defs>\r\n      <g transform=\"translate(22.81375 149.477138)scale(0.12 -0.12)\">\r\n       <use xlink:href=\"#DejaVuSans-52\"/>\r\n       <use x=\"63.623047\" xlink:href=\"#DejaVuSans-48\"/>\r\n       <use x=\"127.246094\" xlink:href=\"#DejaVuSans-48\"/>\r\n       <use x=\"190.869141\" xlink:href=\"#DejaVuSans-48\"/>\r\n       <use x=\"254.492188\" xlink:href=\"#DejaVuSans-48\"/>\r\n      </g>\r\n     </g>\r\n    </g>\r\n    <g id=\"ytick_6\">\r\n     <g id=\"line2d_21\">\r\n      <g>\r\n       <use style=\"stroke:#000000;stroke-width:0.8;\" x=\"67.98875\" xlink:href=\"#me176e0db9e\" y=\"39.668063\"/>\r\n      </g>\r\n     </g>\r\n     <g id=\"text_22\">\r\n      <!-- 50000 -->\r\n      <defs>\r\n       <path d=\"M 10.796875 72.90625 \r\nL 49.515625 72.90625 \r\nL 49.515625 64.59375 \r\nL 19.828125 64.59375 \r\nL 19.828125 46.734375 \r\nQ 21.96875 47.46875 24.109375 47.828125 \r\nQ 26.265625 48.1875 28.421875 48.1875 \r\nQ 40.625 48.1875 47.75 41.5 \r\nQ 54.890625 34.8125 54.890625 23.390625 \r\nQ 54.890625 11.625 47.5625 5.09375 \r\nQ 40.234375 -1.421875 26.90625 -1.421875 \r\nQ 22.3125 -1.421875 17.546875 -0.640625 \r\nQ 12.796875 0.140625 7.71875 1.703125 \r\nL 7.71875 11.625 \r\nQ 12.109375 9.234375 16.796875 8.0625 \r\nQ 21.484375 6.890625 26.703125 6.890625 \r\nQ 35.15625 6.890625 40.078125 11.328125 \r\nQ 45.015625 15.765625 45.015625 23.390625 \r\nQ 45.015625 31 40.078125 35.4375 \r\nQ 35.15625 39.890625 26.703125 39.890625 \r\nQ 22.75 39.890625 18.8125 39.015625 \r\nQ 14.890625 38.140625 10.796875 36.28125 \r\nz\r\n\" id=\"DejaVuSans-53\"/>\r\n      </defs>\r\n      <g transform=\"translate(22.81375 44.227126)scale(0.12 -0.12)\">\r\n       <use xlink:href=\"#DejaVuSans-53\"/>\r\n       <use x=\"63.623047\" xlink:href=\"#DejaVuSans-48\"/>\r\n       <use x=\"127.246094\" xlink:href=\"#DejaVuSans-48\"/>\r\n       <use x=\"190.869141\" xlink:href=\"#DejaVuSans-48\"/>\r\n       <use x=\"254.492188\" xlink:href=\"#DejaVuSans-48\"/>\r\n      </g>\r\n     </g>\r\n    </g>\r\n    <g id=\"text_23\">\r\n     <!-- Word count -->\r\n     <defs>\r\n      <path d=\"M 3.328125 72.90625 \r\nL 13.28125 72.90625 \r\nL 28.609375 11.28125 \r\nL 43.890625 72.90625 \r\nL 54.984375 72.90625 \r\nL 70.3125 11.28125 \r\nL 85.59375 72.90625 \r\nL 95.609375 72.90625 \r\nL 77.296875 0 \r\nL 64.890625 0 \r\nL 49.515625 63.28125 \r\nL 33.984375 0 \r\nL 21.578125 0 \r\nz\r\n\" id=\"DejaVuSans-87\"/>\r\n     </defs>\r\n     <g transform=\"translate(16.318125 328.82625)rotate(-90)scale(0.12 -0.12)\">\r\n      <use xlink:href=\"#DejaVuSans-87\"/>\r\n      <use x=\"98.798828\" xlink:href=\"#DejaVuSans-111\"/>\r\n      <use x=\"159.980469\" xlink:href=\"#DejaVuSans-114\"/>\r\n      <use x=\"201.078125\" xlink:href=\"#DejaVuSans-100\"/>\r\n      <use x=\"264.554688\" xlink:href=\"#DejaVuSans-32\"/>\r\n      <use x=\"296.341797\" xlink:href=\"#DejaVuSans-99\"/>\r\n      <use x=\"351.322266\" xlink:href=\"#DejaVuSans-111\"/>\r\n      <use x=\"412.503906\" xlink:href=\"#DejaVuSans-117\"/>\r\n      <use x=\"475.882812\" xlink:href=\"#DejaVuSans-110\"/>\r\n      <use x=\"539.261719\" xlink:href=\"#DejaVuSans-116\"/>\r\n     </g>\r\n    </g>\r\n   </g>\r\n   <g id=\"patch_18\">\r\n    <path d=\"M 67.98875 565.918125 \r\nL 67.98875 22.318125 \r\n\" style=\"fill:none;stroke:#000000;stroke-linecap:square;stroke-linejoin:miter;stroke-width:0.8;\"/>\r\n   </g>\r\n   <g id=\"patch_19\">\r\n    <path d=\"M 904.98875 565.918125 \r\nL 904.98875 22.318125 \r\n\" style=\"fill:none;stroke:#000000;stroke-linecap:square;stroke-linejoin:miter;stroke-width:0.8;\"/>\r\n   </g>\r\n   <g id=\"patch_20\">\r\n    <path d=\"M 67.98875 565.918125 \r\nL 904.98875 565.918125 \r\n\" style=\"fill:none;stroke:#000000;stroke-linecap:square;stroke-linejoin:miter;stroke-width:0.8;\"/>\r\n   </g>\r\n   <g id=\"patch_21\">\r\n    <path d=\"M 67.98875 22.318125 \r\nL 904.98875 22.318125 \r\n\" style=\"fill:none;stroke:#000000;stroke-linecap:square;stroke-linejoin:miter;stroke-width:0.8;\"/>\r\n   </g>\r\n   <g id=\"text_24\">\r\n    <!-- Word probability for first topic -->\r\n    <defs>\r\n     <path d=\"M 48.6875 27.296875 \r\nQ 48.6875 37.203125 44.609375 42.84375 \r\nQ 40.53125 48.484375 33.40625 48.484375 \r\nQ 26.265625 48.484375 22.1875 42.84375 \r\nQ 18.109375 37.203125 18.109375 27.296875 \r\nQ 18.109375 17.390625 22.1875 11.75 \r\nQ 26.265625 6.109375 33.40625 6.109375 \r\nQ 40.53125 6.109375 44.609375 11.75 \r\nQ 48.6875 17.390625 48.6875 27.296875 \r\nz\r\nM 18.109375 46.390625 \r\nQ 20.953125 51.265625 25.265625 53.625 \r\nQ 29.59375 56 35.59375 56 \r\nQ 45.5625 56 51.78125 48.09375 \r\nQ 58.015625 40.1875 58.015625 27.296875 \r\nQ 58.015625 14.40625 51.78125 6.484375 \r\nQ 45.5625 -1.421875 35.59375 -1.421875 \r\nQ 29.59375 -1.421875 25.265625 0.953125 \r\nQ 20.953125 3.328125 18.109375 8.203125 \r\nL 18.109375 0 \r\nL 9.078125 0 \r\nL 9.078125 75.984375 \r\nL 18.109375 75.984375 \r\nz\r\n\" id=\"DejaVuSans-98\"/>\r\n     <path d=\"M 32.171875 -5.078125 \r\nQ 28.375 -14.84375 24.75 -17.8125 \r\nQ 21.140625 -20.796875 15.09375 -20.796875 \r\nL 7.90625 -20.796875 \r\nL 7.90625 -13.28125 \r\nL 13.1875 -13.28125 \r\nQ 16.890625 -13.28125 18.9375 -11.515625 \r\nQ 21 -9.765625 23.484375 -3.21875 \r\nL 25.09375 0.875 \r\nL 2.984375 54.6875 \r\nL 12.5 54.6875 \r\nL 29.59375 11.921875 \r\nL 46.6875 54.6875 \r\nL 56.203125 54.6875 \r\nz\r\n\" id=\"DejaVuSans-121\"/>\r\n    </defs>\r\n    <g transform=\"translate(396.071562 16.318125)scale(0.12 -0.12)\">\r\n     <use xlink:href=\"#DejaVuSans-87\"/>\r\n     <use x=\"98.798828\" xlink:href=\"#DejaVuSans-111\"/>\r\n     <use x=\"159.980469\" xlink:href=\"#DejaVuSans-114\"/>\r\n     <use x=\"201.078125\" xlink:href=\"#DejaVuSans-100\"/>\r\n     <use x=\"264.554688\" xlink:href=\"#DejaVuSans-32\"/>\r\n     <use x=\"296.341797\" xlink:href=\"#DejaVuSans-112\"/>\r\n     <use x=\"359.818359\" xlink:href=\"#DejaVuSans-114\"/>\r\n     <use x=\"400.900391\" xlink:href=\"#DejaVuSans-111\"/>\r\n     <use x=\"462.082031\" xlink:href=\"#DejaVuSans-98\"/>\r\n     <use x=\"525.558594\" xlink:href=\"#DejaVuSans-97\"/>\r\n     <use x=\"586.837891\" xlink:href=\"#DejaVuSans-98\"/>\r\n     <use x=\"650.314453\" xlink:href=\"#DejaVuSans-105\"/>\r\n     <use x=\"678.097656\" xlink:href=\"#DejaVuSans-108\"/>\r\n     <use x=\"705.880859\" xlink:href=\"#DejaVuSans-105\"/>\r\n     <use x=\"733.664062\" xlink:href=\"#DejaVuSans-116\"/>\r\n     <use x=\"772.873047\" xlink:href=\"#DejaVuSans-121\"/>\r\n     <use x=\"832.052734\" xlink:href=\"#DejaVuSans-32\"/>\r\n     <use x=\"863.839844\" xlink:href=\"#DejaVuSans-102\"/>\r\n     <use x=\"899.044922\" xlink:href=\"#DejaVuSans-111\"/>\r\n     <use x=\"960.226562\" xlink:href=\"#DejaVuSans-114\"/>\r\n     <use x=\"1001.339844\" xlink:href=\"#DejaVuSans-32\"/>\r\n     <use x=\"1033.126953\" xlink:href=\"#DejaVuSans-102\"/>\r\n     <use x=\"1068.332031\" xlink:href=\"#DejaVuSans-105\"/>\r\n     <use x=\"1096.115234\" xlink:href=\"#DejaVuSans-114\"/>\r\n     <use x=\"1137.228516\" xlink:href=\"#DejaVuSans-115\"/>\r\n     <use x=\"1189.328125\" xlink:href=\"#DejaVuSans-116\"/>\r\n     <use x=\"1228.537109\" xlink:href=\"#DejaVuSans-32\"/>\r\n     <use x=\"1260.324219\" xlink:href=\"#DejaVuSans-116\"/>\r\n     <use x=\"1299.533203\" xlink:href=\"#DejaVuSans-111\"/>\r\n     <use x=\"1360.714844\" xlink:href=\"#DejaVuSans-112\"/>\r\n     <use x=\"1424.191406\" xlink:href=\"#DejaVuSans-105\"/>\r\n     <use x=\"1451.974609\" xlink:href=\"#DejaVuSans-99\"/>\r\n    </g>\r\n   </g>\r\n   <g id=\"legend_1\">\r\n    <g id=\"patch_22\">\r\n     <path d=\"M 836.291875 44.99625 \r\nL 897.98875 44.99625 \r\nQ 899.98875 44.99625 899.98875 42.99625 \r\nL 899.98875 29.318125 \r\nQ 899.98875 27.318125 897.98875 27.318125 \r\nL 836.291875 27.318125 \r\nQ 834.291875 27.318125 834.291875 29.318125 \r\nL 834.291875 42.99625 \r\nQ 834.291875 44.99625 836.291875 44.99625 \r\nz\r\n\" style=\"fill:#ffffff;opacity:0.8;stroke:#cccccc;stroke-linejoin:miter;\"/>\r\n    </g>\r\n    <g id=\"patch_23\">\r\n     <path d=\"M 838.291875 38.916563 \r\nL 858.291875 38.916563 \r\nL 858.291875 31.916563 \r\nL 838.291875 31.916563 \r\nz\r\n\" style=\"fill:#1f77b4;\"/>\r\n    </g>\r\n    <g id=\"text_25\">\r\n     <!-- Count -->\r\n     <defs>\r\n      <path d=\"M 64.40625 67.28125 \r\nL 64.40625 56.890625 \r\nQ 59.421875 61.53125 53.78125 63.8125 \r\nQ 48.140625 66.109375 41.796875 66.109375 \r\nQ 29.296875 66.109375 22.65625 58.46875 \r\nQ 16.015625 50.828125 16.015625 36.375 \r\nQ 16.015625 21.96875 22.65625 14.328125 \r\nQ 29.296875 6.6875 41.796875 6.6875 \r\nQ 48.140625 6.6875 53.78125 8.984375 \r\nQ 59.421875 11.28125 64.40625 15.921875 \r\nL 64.40625 5.609375 \r\nQ 59.234375 2.09375 53.4375 0.328125 \r\nQ 47.65625 -1.421875 41.21875 -1.421875 \r\nQ 24.65625 -1.421875 15.125 8.703125 \r\nQ 5.609375 18.84375 5.609375 36.375 \r\nQ 5.609375 53.953125 15.125 64.078125 \r\nQ 24.65625 74.21875 41.21875 74.21875 \r\nQ 47.75 74.21875 53.53125 72.484375 \r\nQ 59.328125 70.75 64.40625 67.28125 \r\nz\r\n\" id=\"DejaVuSans-67\"/>\r\n     </defs>\r\n     <g transform=\"translate(866.291875 38.916563)scale(0.1 -0.1)\">\r\n      <use xlink:href=\"#DejaVuSans-67\"/>\r\n      <use x=\"69.824219\" xlink:href=\"#DejaVuSans-111\"/>\r\n      <use x=\"131.005859\" xlink:href=\"#DejaVuSans-117\"/>\r\n      <use x=\"194.384766\" xlink:href=\"#DejaVuSans-110\"/>\r\n      <use x=\"257.763672\" xlink:href=\"#DejaVuSans-116\"/>\r\n     </g>\r\n    </g>\r\n   </g>\r\n  </g>\r\n </g>\r\n <defs>\r\n  <clipPath id=\"p648605df3b\">\r\n   <rect height=\"543.6\" width=\"837\" x=\"67.98875\" y=\"22.318125\"/>\r\n  </clipPath>\r\n </defs>\r\n</svg>\r\n",
      "image/png": "[encoded data removed]"
     },
     "metadata": {
      "needs_background": "light"
     }
    }
   ],
   "source": [
    "word_list = []\n",
    "probability_list = []\n",
    "\n",
    "for index in random_topic.argsort()[-15:]:\n",
    "    frequent_word = count_vectorizer.get_feature_names()[index]\n",
    "    print(frequent_word, sep=\" \")\n",
    "    word_list.append(frequent_word)\n",
    "    probability_list.append(index)\n",
    "    \n",
    "show_chart(word_list, probability_list, \"Word probability for first topic\")"
   ]
  },
  {
   "cell_type": "code",
   "execution_count": 160,
   "metadata": {},
   "outputs": [
    {
     "output_type": "stream",
     "name": "stdout",
     "text": "Top words for topic 0 are : \n['green']['cell']['pay']['come']['death']['compare']['battle']['phone']['cost']['machine']['exist']['believe']['google']['support']['number']['die']['really']['god']['movie']['time']['make']['com']['mean']['did']['does']\n\nTop words for topic 1 are : \n['safe']['meaning']['skills']['laptop']['video']['india']['youtube']['website']['app']['earn']['read']['learn']['free']['buy']['book']['ways']['good']['books']['improve']['english']['online']['make']['money']['way']['best']\n\nTop words for topic 2 are : \n['travel']['possible']['don']['password']['win']['girl']['does']['number']['going']['president']['hillary']['clinton']['like']['facebook']['lose']['weight']['sex']['day']['donald']['account']['things']['time']['love']['trump']['know']\n\nTop words for topic 3 are : \n['war']['cat']['web']['study']['2016']['score']['want']['student']['girls']['experience']['class']['learning']['exam']['good']['world']['college']['science']['difference']['computer']['prepare']['language']['programming']['start']['like']['learn']\n\nTop words for topic 4 are : \n['thing']['2016']['game']['movie']['dark']['series']['use']['purpose']['watch']['places']['effects']['universe']['time']['visit']['tv']['real']['important']['energy']['men']['women']['iphone']['movies']['good']['best']['life']\n\nTop words for topic 5 are : \n['change']['porn']['hours']['facts']['grow']['face']['speak']['reduce']['end']['humans']['human']['sleep']['live']['height']['interesting']['fat']['thing']['did']['body']['rid']['hair']['water']['increase']['stop']['does']\n\nTop words for topic 6 are : \n['tech']['better']['gain']['girl']['majors']['10']['compare']['hard']['looking']['windows']['career']['mechanical']['average']['new']['years']['android']['indian']['math']['job']['feel']['engineering']['year']['old']['like']['does']\n\nTop words for topic 7 are : \n['currency']['write']['2000']['help']['deal']['google']['difference']['answers']['control']['modi']['rupee']['indian']['answer']['rs']['money']['black']['ask']['does']['question']['people']['1000']['500']['notes']['questions']['quora']\n\nTop words for topic 8 are : \n['america']['indians']['happen']['government']['hate']['2017']['don']['business']['chinese']['new']['united']['states']['mind']['countries']['instagram']['pakistan']['indian']['china']['war']['world']['examples']['country']['think']['people']['india']\n\nTop words for topic 9 are : \n['business']['suicide']['health']['amazon']['difference']['successful']['better']['making']['culture']['interview']['use']['tips']['process']['car']['company']['job']['companies']['high']['different']['school']['good']['like']['long']['work']['does']\n\n"
    }
   ],
   "source": [
    "word_list = []\n",
    "probability_list = []\n",
    "\n",
    "top_number = 25\n",
    "count = 0\n",
    "for probability_number in lda.components_:\n",
    "    text_message = f\"Top words for topic {count} are : \"\n",
    "    print(text_message)    \n",
    "    for number in probability_number.argsort()[-top_number:]:\n",
    "        print([count_vectorizer.get_feature_names()[number]], end= \"\")\n",
    "    print(\"\\n\")  \n",
    "    count += 1"
   ]
  },
  {
   "cell_type": "code",
   "execution_count": 161,
   "metadata": {},
   "outputs": [],
   "source": [
    "textfile_topics = lda.transform(term_matrix)"
   ]
  },
  {
   "cell_type": "code",
   "execution_count": 162,
   "metadata": {},
   "outputs": [],
   "source": [
    "topic_list = []\n",
    "# Textfile_topics is a list of arrays containing \n",
    "# all index positions of words for each textfile\n",
    "for popular_index_pos in textfile_topics:\n",
    "    # Get the max index position in each array\n",
    "    # and add to the topic_list list\n",
    "    topic_list.append(popular_index_pos.argmax())\n",
    "\n",
    "# Add a new column to the dataframe\n",
    "df[\"topic_num\"] = topic_list"
   ]
  },
  {
   "cell_type": "code",
   "execution_count": 163,
   "metadata": {},
   "outputs": [
    {
     "output_type": "execute_result",
     "data": {
      "text/plain": "                                                 question  topic_num\n0       What is the step by step guide to invest in sh...          3\n1       What is the story of Kohinoor (Koh-i-Noor) Dia...          8\n2       How can I increase the speed of my internet co...          4\n3       Why am I mentally very lonely? How can I solve...          7\n4       Which one dissolve in water quikly sugar, salt...          5\n5       Astrology: I am a Capricorn Sun Cap moon and c...          4\n6                                     Should I buy tiago?          0\n7                          How can I be a good geologist?          4\n8                     When do you use ã‚· instead of ã—?          7\n9       Motorola (company): Can I hack my Charter Moto...          5\n10      Method to find separation of slits using fresn...          4\n11            How do I read and find my YouTube comments?          1\n12                   What can make Physics easy to learn?          1\n13            What was your first sexual experience like?          3\n14      What are the laws to change your status from a...          6\n15      What would a Trump presidency mean for current...          9\n16                           What does manipulation mean?          0\n17      Why do girls want to be friends with the guy t...          3\n18      Why are so many Quora users posting questions ...          7\n19      Which is the best digital marketing institutio...          2\n20                             Why do rockets look white?          4\n21                  What's causing someone to be jealous?          7\n22        What are the questions should not ask on Quora?          7\n23                               How much is 30 kV in HP?          3\n24      What does it mean that every time I look at th...          0\n25      What are some tips on making it through the jo...          9\n26                               What is web application?          3\n27      Does society place too much importance on sports?          9\n28                 What is best way to make money online?          1\n29                 How should I prepare for CA final law?          3\n...                                                   ...        ...\n199970  What are the things that one should do before ...          2\n199971  In a boat double slit experiment does the boat...          8\n199972      Which are the best Tamil songs by A R Rahman?          4\n199973  Which San Francisco restaurant has the best ok...          6\n199974  How can I enable the insert rows option in my ...          0\n199975  What were the effects of Cuban Missile Crisis ...          8\n199976  How do I gain access to a person's instagram p...          2\n199977                    Are VCDs still popular in Asia?          8\n199978  Can we use old 500 and 1000 notes as described...          7\n199979  How can I meet Brits in Toronto, Ontario, Canada?          9\n199980  What are the best ways to prepare for and crac...          3\n199981  How could I get more answers to my questions o...          7\n199982  Why is the USA the only industrialized country...          9\n199983  Why don't videos play automatically in Quora, ...          5\n199984  What user should do when he looses a USA phone...          2\n199985                 Can you have a DRIP using Zerodha?          6\n199986      Should I take ECE at LNMIIT or JIIT (Sec 62)?          6\n199987                           What is web application?          3\n199988  What is the difference between standard deviat...          3\n199989  Who are Top Writers 2012 who did not become To...          0\n199990  How many different types of car brands are there?          9\n199991        Why are people so selfish and hypocritical?          7\n199992  How do I stop my Pit Bull/English Bulldog mix ...          5\n199993  How can I figure out my girlfriendâ€™s ring si...          7\n199994  When people say urine is sterile, what do they...          9\n199995     Why was the Battle of Vimy Ridge so important?          0\n199996       Which of these TV shows should I watch next?          4\n199997                           Should I change my name?          5\n199998  Should I buy the new MacBook 2016 or one from ...          1\n199999          What is your review of Love (2011 movie)?          0\n\n[200000 rows x 2 columns]",
      "text/html": "<div>\n<style scoped>\n    .dataframe tbody tr th:only-of-type {\n        vertical-align: middle;\n    }\n\n    .dataframe tbody tr th {\n        vertical-align: top;\n    }\n\n    .dataframe thead th {\n        text-align: right;\n    }\n</style>\n<table border=\"1\" class=\"dataframe\">\n  <thead>\n    <tr style=\"text-align: right;\">\n      <th></th>\n      <th>question</th>\n      <th>topic_num</th>\n    </tr>\n  </thead>\n  <tbody>\n    <tr>\n      <th>0</th>\n      <td>What is the step by step guide to invest in sh...</td>\n      <td>3</td>\n    </tr>\n    <tr>\n      <th>1</th>\n      <td>What is the story of Kohinoor (Koh-i-Noor) Dia...</td>\n      <td>8</td>\n    </tr>\n    <tr>\n      <th>2</th>\n      <td>How can I increase the speed of my internet co...</td>\n      <td>4</td>\n    </tr>\n    <tr>\n      <th>3</th>\n      <td>Why am I mentally very lonely? How can I solve...</td>\n      <td>7</td>\n    </tr>\n    <tr>\n      <th>4</th>\n      <td>Which one dissolve in water quikly sugar, salt...</td>\n      <td>5</td>\n    </tr>\n    <tr>\n      <th>5</th>\n      <td>Astrology: I am a Capricorn Sun Cap moon and c...</td>\n      <td>4</td>\n    </tr>\n    <tr>\n      <th>6</th>\n      <td>Should I buy tiago?</td>\n      <td>0</td>\n    </tr>\n    <tr>\n      <th>7</th>\n      <td>How can I be a good geologist?</td>\n      <td>4</td>\n    </tr>\n    <tr>\n      <th>8</th>\n      <td>When do you use ã‚· instead of ã—?</td>\n      <td>7</td>\n    </tr>\n    <tr>\n      <th>9</th>\n      <td>Motorola (company): Can I hack my Charter Moto...</td>\n      <td>5</td>\n    </tr>\n    <tr>\n      <th>10</th>\n      <td>Method to find separation of slits using fresn...</td>\n      <td>4</td>\n    </tr>\n    <tr>\n      <th>11</th>\n      <td>How do I read and find my YouTube comments?</td>\n      <td>1</td>\n    </tr>\n    <tr>\n      <th>12</th>\n      <td>What can make Physics easy to learn?</td>\n      <td>1</td>\n    </tr>\n    <tr>\n      <th>13</th>\n      <td>What was your first sexual experience like?</td>\n      <td>3</td>\n    </tr>\n    <tr>\n      <th>14</th>\n      <td>What are the laws to change your status from a...</td>\n      <td>6</td>\n    </tr>\n    <tr>\n      <th>15</th>\n      <td>What would a Trump presidency mean for current...</td>\n      <td>9</td>\n    </tr>\n    <tr>\n      <th>16</th>\n      <td>What does manipulation mean?</td>\n      <td>0</td>\n    </tr>\n    <tr>\n      <th>17</th>\n      <td>Why do girls want to be friends with the guy t...</td>\n      <td>3</td>\n    </tr>\n    <tr>\n      <th>18</th>\n      <td>Why are so many Quora users posting questions ...</td>\n      <td>7</td>\n    </tr>\n    <tr>\n      <th>19</th>\n      <td>Which is the best digital marketing institutio...</td>\n      <td>2</td>\n    </tr>\n    <tr>\n      <th>20</th>\n      <td>Why do rockets look white?</td>\n      <td>4</td>\n    </tr>\n    <tr>\n      <th>21</th>\n      <td>What's causing someone to be jealous?</td>\n      <td>7</td>\n    </tr>\n    <tr>\n      <th>22</th>\n      <td>What are the questions should not ask on Quora?</td>\n      <td>7</td>\n    </tr>\n    <tr>\n      <th>23</th>\n      <td>How much is 30 kV in HP?</td>\n      <td>3</td>\n    </tr>\n    <tr>\n      <th>24</th>\n      <td>What does it mean that every time I look at th...</td>\n      <td>0</td>\n    </tr>\n    <tr>\n      <th>25</th>\n      <td>What are some tips on making it through the jo...</td>\n      <td>9</td>\n    </tr>\n    <tr>\n      <th>26</th>\n      <td>What is web application?</td>\n      <td>3</td>\n    </tr>\n    <tr>\n      <th>27</th>\n      <td>Does society place too much importance on sports?</td>\n      <td>9</td>\n    </tr>\n    <tr>\n      <th>28</th>\n      <td>What is best way to make money online?</td>\n      <td>1</td>\n    </tr>\n    <tr>\n      <th>29</th>\n      <td>How should I prepare for CA final law?</td>\n      <td>3</td>\n    </tr>\n    <tr>\n      <th>...</th>\n      <td>...</td>\n      <td>...</td>\n    </tr>\n    <tr>\n      <th>199970</th>\n      <td>What are the things that one should do before ...</td>\n      <td>2</td>\n    </tr>\n    <tr>\n      <th>199971</th>\n      <td>In a boat double slit experiment does the boat...</td>\n      <td>8</td>\n    </tr>\n    <tr>\n      <th>199972</th>\n      <td>Which are the best Tamil songs by A R Rahman?</td>\n      <td>4</td>\n    </tr>\n    <tr>\n      <th>199973</th>\n      <td>Which San Francisco restaurant has the best ok...</td>\n      <td>6</td>\n    </tr>\n    <tr>\n      <th>199974</th>\n      <td>How can I enable the insert rows option in my ...</td>\n      <td>0</td>\n    </tr>\n    <tr>\n      <th>199975</th>\n      <td>What were the effects of Cuban Missile Crisis ...</td>\n      <td>8</td>\n    </tr>\n    <tr>\n      <th>199976</th>\n      <td>How do I gain access to a person's instagram p...</td>\n      <td>2</td>\n    </tr>\n    <tr>\n      <th>199977</th>\n      <td>Are VCDs still popular in Asia?</td>\n      <td>8</td>\n    </tr>\n    <tr>\n      <th>199978</th>\n      <td>Can we use old 500 and 1000 notes as described...</td>\n      <td>7</td>\n    </tr>\n    <tr>\n      <th>199979</th>\n      <td>How can I meet Brits in Toronto, Ontario, Canada?</td>\n      <td>9</td>\n    </tr>\n    <tr>\n      <th>199980</th>\n      <td>What are the best ways to prepare for and crac...</td>\n      <td>3</td>\n    </tr>\n    <tr>\n      <th>199981</th>\n      <td>How could I get more answers to my questions o...</td>\n      <td>7</td>\n    </tr>\n    <tr>\n      <th>199982</th>\n      <td>Why is the USA the only industrialized country...</td>\n      <td>9</td>\n    </tr>\n    <tr>\n      <th>199983</th>\n      <td>Why don't videos play automatically in Quora, ...</td>\n      <td>5</td>\n    </tr>\n    <tr>\n      <th>199984</th>\n      <td>What user should do when he looses a USA phone...</td>\n      <td>2</td>\n    </tr>\n    <tr>\n      <th>199985</th>\n      <td>Can you have a DRIP using Zerodha?</td>\n      <td>6</td>\n    </tr>\n    <tr>\n      <th>199986</th>\n      <td>Should I take ECE at LNMIIT or JIIT (Sec 62)?</td>\n      <td>6</td>\n    </tr>\n    <tr>\n      <th>199987</th>\n      <td>What is web application?</td>\n      <td>3</td>\n    </tr>\n    <tr>\n      <th>199988</th>\n      <td>What is the difference between standard deviat...</td>\n      <td>3</td>\n    </tr>\n    <tr>\n      <th>199989</th>\n      <td>Who are Top Writers 2012 who did not become To...</td>\n      <td>0</td>\n    </tr>\n    <tr>\n      <th>199990</th>\n      <td>How many different types of car brands are there?</td>\n      <td>9</td>\n    </tr>\n    <tr>\n      <th>199991</th>\n      <td>Why are people so selfish and hypocritical?</td>\n      <td>7</td>\n    </tr>\n    <tr>\n      <th>199992</th>\n      <td>How do I stop my Pit Bull/English Bulldog mix ...</td>\n      <td>5</td>\n    </tr>\n    <tr>\n      <th>199993</th>\n      <td>How can I figure out my girlfriendâ€™s ring si...</td>\n      <td>7</td>\n    </tr>\n    <tr>\n      <th>199994</th>\n      <td>When people say urine is sterile, what do they...</td>\n      <td>9</td>\n    </tr>\n    <tr>\n      <th>199995</th>\n      <td>Why was the Battle of Vimy Ridge so important?</td>\n      <td>0</td>\n    </tr>\n    <tr>\n      <th>199996</th>\n      <td>Which of these TV shows should I watch next?</td>\n      <td>4</td>\n    </tr>\n    <tr>\n      <th>199997</th>\n      <td>Should I change my name?</td>\n      <td>5</td>\n    </tr>\n    <tr>\n      <th>199998</th>\n      <td>Should I buy the new MacBook 2016 or one from ...</td>\n      <td>1</td>\n    </tr>\n    <tr>\n      <th>199999</th>\n      <td>What is your review of Love (2011 movie)?</td>\n      <td>0</td>\n    </tr>\n  </tbody>\n</table>\n<p>200000 rows × 2 columns</p>\n</div>"
     },
     "metadata": {},
     "execution_count": 163
    }
   ],
   "source": [
    "df"
   ]
  },
  {
   "cell_type": "code",
   "execution_count": 164,
   "metadata": {},
   "outputs": [
    {
     "output_type": "execute_result",
     "data": {
      "text/plain": "                                                 question  topic_num\n133573  Which is the best quickbooks auto data recover...          0\n123328  How many workers died during the first Industr...          0\n101929  What episodes of Supernatural has Jensen Ackle...          0\n10584                                  What does SMTP do?          0\n130708                    Is led flash of phone is harms?          0",
      "text/html": "<div>\n<style scoped>\n    .dataframe tbody tr th:only-of-type {\n        vertical-align: middle;\n    }\n\n    .dataframe tbody tr th {\n        vertical-align: top;\n    }\n\n    .dataframe thead th {\n        text-align: right;\n    }\n</style>\n<table border=\"1\" class=\"dataframe\">\n  <thead>\n    <tr style=\"text-align: right;\">\n      <th></th>\n      <th>question</th>\n      <th>topic_num</th>\n    </tr>\n  </thead>\n  <tbody>\n    <tr>\n      <th>133573</th>\n      <td>Which is the best quickbooks auto data recover...</td>\n      <td>0</td>\n    </tr>\n    <tr>\n      <th>123328</th>\n      <td>How many workers died during the first Industr...</td>\n      <td>0</td>\n    </tr>\n    <tr>\n      <th>101929</th>\n      <td>What episodes of Supernatural has Jensen Ackle...</td>\n      <td>0</td>\n    </tr>\n    <tr>\n      <th>10584</th>\n      <td>What does SMTP do?</td>\n      <td>0</td>\n    </tr>\n    <tr>\n      <th>130708</th>\n      <td>Is led flash of phone is harms?</td>\n      <td>0</td>\n    </tr>\n  </tbody>\n</table>\n</div>"
     },
     "metadata": {},
     "execution_count": 164
    }
   ],
   "source": [
    "df.loc[df['topic_num'] == 0].sample(5)"
   ]
  },
  {
   "cell_type": "code",
   "execution_count": 165,
   "metadata": {},
   "outputs": [
    {
     "output_type": "execute_result",
     "data": {
      "text/plain": "                                                 question  topic_num\n151109      How do I make a good habit of reading a book?          1\n60822   How much money does 500 Startups put for how m...          1\n79051              What is the best way to reduce weight?          1\n139578  What is the best way to make a fashion Lookboo...          1\n26253                  How do I make money fast and easy?          1",
      "text/html": "<div>\n<style scoped>\n    .dataframe tbody tr th:only-of-type {\n        vertical-align: middle;\n    }\n\n    .dataframe tbody tr th {\n        vertical-align: top;\n    }\n\n    .dataframe thead th {\n        text-align: right;\n    }\n</style>\n<table border=\"1\" class=\"dataframe\">\n  <thead>\n    <tr style=\"text-align: right;\">\n      <th></th>\n      <th>question</th>\n      <th>topic_num</th>\n    </tr>\n  </thead>\n  <tbody>\n    <tr>\n      <th>151109</th>\n      <td>How do I make a good habit of reading a book?</td>\n      <td>1</td>\n    </tr>\n    <tr>\n      <th>60822</th>\n      <td>How much money does 500 Startups put for how m...</td>\n      <td>1</td>\n    </tr>\n    <tr>\n      <th>79051</th>\n      <td>What is the best way to reduce weight?</td>\n      <td>1</td>\n    </tr>\n    <tr>\n      <th>139578</th>\n      <td>What is the best way to make a fashion Lookboo...</td>\n      <td>1</td>\n    </tr>\n    <tr>\n      <th>26253</th>\n      <td>How do I make money fast and easy?</td>\n      <td>1</td>\n    </tr>\n  </tbody>\n</table>\n</div>"
     },
     "metadata": {},
     "execution_count": 165
    }
   ],
   "source": [
    "df.loc[df['topic_num'] == 1].sample(5)"
   ]
  },
  {
   "cell_type": "code",
   "execution_count": 166,
   "metadata": {},
   "outputs": [
    {
     "output_type": "execute_result",
     "data": {
      "text/plain": "                                                 question  topic_num\n106208  What happens if a passport arrives and no one ...          2\n58567   Why am I consistently losing followers on Inst...          2\n34847   How do I know someone's email address from a Y...          2\n163502            Why should I not vote for Donald Trump?          2\n68884            Is time travel possible in next 5 years?          2",
      "text/html": "<div>\n<style scoped>\n    .dataframe tbody tr th:only-of-type {\n        vertical-align: middle;\n    }\n\n    .dataframe tbody tr th {\n        vertical-align: top;\n    }\n\n    .dataframe thead th {\n        text-align: right;\n    }\n</style>\n<table border=\"1\" class=\"dataframe\">\n  <thead>\n    <tr style=\"text-align: right;\">\n      <th></th>\n      <th>question</th>\n      <th>topic_num</th>\n    </tr>\n  </thead>\n  <tbody>\n    <tr>\n      <th>106208</th>\n      <td>What happens if a passport arrives and no one ...</td>\n      <td>2</td>\n    </tr>\n    <tr>\n      <th>58567</th>\n      <td>Why am I consistently losing followers on Inst...</td>\n      <td>2</td>\n    </tr>\n    <tr>\n      <th>34847</th>\n      <td>How do I know someone's email address from a Y...</td>\n      <td>2</td>\n    </tr>\n    <tr>\n      <th>163502</th>\n      <td>Why should I not vote for Donald Trump?</td>\n      <td>2</td>\n    </tr>\n    <tr>\n      <th>68884</th>\n      <td>Is time travel possible in next 5 years?</td>\n      <td>2</td>\n    </tr>\n  </tbody>\n</table>\n</div>"
     },
     "metadata": {},
     "execution_count": 166
    }
   ],
   "source": [
    "df.loc[df['topic_num'] == 2].sample(5)"
   ]
  },
  {
   "cell_type": "code",
   "execution_count": 167,
   "metadata": {},
   "outputs": [
    {
     "output_type": "execute_result",
     "data": {
      "text/plain": "                                                 question  topic_num\n40454   Where can I find the multiple-choice questions...          3\n135715      How shall I prepare for CA final Nov 16 exams          3\n85539   I have IELTS score of 7,CGPA is 7.2/10 in Indi...          3\n138898  What are some real-life benefits from learning...          3\n86140   How do you add wireless networking to a deskto...          3",
      "text/html": "<div>\n<style scoped>\n    .dataframe tbody tr th:only-of-type {\n        vertical-align: middle;\n    }\n\n    .dataframe tbody tr th {\n        vertical-align: top;\n    }\n\n    .dataframe thead th {\n        text-align: right;\n    }\n</style>\n<table border=\"1\" class=\"dataframe\">\n  <thead>\n    <tr style=\"text-align: right;\">\n      <th></th>\n      <th>question</th>\n      <th>topic_num</th>\n    </tr>\n  </thead>\n  <tbody>\n    <tr>\n      <th>40454</th>\n      <td>Where can I find the multiple-choice questions...</td>\n      <td>3</td>\n    </tr>\n    <tr>\n      <th>135715</th>\n      <td>How shall I prepare for CA final Nov 16 exams</td>\n      <td>3</td>\n    </tr>\n    <tr>\n      <th>85539</th>\n      <td>I have IELTS score of 7,CGPA is 7.2/10 in Indi...</td>\n      <td>3</td>\n    </tr>\n    <tr>\n      <th>138898</th>\n      <td>What are some real-life benefits from learning...</td>\n      <td>3</td>\n    </tr>\n    <tr>\n      <th>86140</th>\n      <td>How do you add wireless networking to a deskto...</td>\n      <td>3</td>\n    </tr>\n  </tbody>\n</table>\n</div>"
     },
     "metadata": {},
     "execution_count": 167
    }
   ],
   "source": [
    "df.loc[df['topic_num'] == 3].sample(5)"
   ]
  },
  {
   "cell_type": "code",
   "execution_count": 168,
   "metadata": {},
   "outputs": [
    {
     "output_type": "execute_result",
     "data": {
      "text/plain": "                                         question  topic_num\n23974   What are the best places to visit in Goa?          4\n66934            How do I stay motivated in life?          4\n54197     Which are some of the best RTB engines?          4\n17144                       What is garden mulch?          4\n117387                  What is drag coefficient?          4",
      "text/html": "<div>\n<style scoped>\n    .dataframe tbody tr th:only-of-type {\n        vertical-align: middle;\n    }\n\n    .dataframe tbody tr th {\n        vertical-align: top;\n    }\n\n    .dataframe thead th {\n        text-align: right;\n    }\n</style>\n<table border=\"1\" class=\"dataframe\">\n  <thead>\n    <tr style=\"text-align: right;\">\n      <th></th>\n      <th>question</th>\n      <th>topic_num</th>\n    </tr>\n  </thead>\n  <tbody>\n    <tr>\n      <th>23974</th>\n      <td>What are the best places to visit in Goa?</td>\n      <td>4</td>\n    </tr>\n    <tr>\n      <th>66934</th>\n      <td>How do I stay motivated in life?</td>\n      <td>4</td>\n    </tr>\n    <tr>\n      <th>54197</th>\n      <td>Which are some of the best RTB engines?</td>\n      <td>4</td>\n    </tr>\n    <tr>\n      <th>17144</th>\n      <td>What is garden mulch?</td>\n      <td>4</td>\n    </tr>\n    <tr>\n      <th>117387</th>\n      <td>What is drag coefficient?</td>\n      <td>4</td>\n    </tr>\n  </tbody>\n</table>\n</div>"
     },
     "metadata": {},
     "execution_count": 168
    }
   ],
   "source": [
    "df.loc[df['topic_num'] == 4].sample(5)"
   ]
  },
  {
   "cell_type": "code",
   "execution_count": 169,
   "metadata": {},
   "outputs": [
    {
     "output_type": "execute_result",
     "data": {
      "text/plain": "                                                 question  topic_num\n144256  Why is it that I wake up as if someone woke me...          5\n28980   How did Glenn Greenwald learn to speak Portugu...          5\n104185  What is the news behind Rajnikant movie kabali...          5\n189605                                How can I eat less?          5\n3061                      How can anyone increase height?          5",
      "text/html": "<div>\n<style scoped>\n    .dataframe tbody tr th:only-of-type {\n        vertical-align: middle;\n    }\n\n    .dataframe tbody tr th {\n        vertical-align: top;\n    }\n\n    .dataframe thead th {\n        text-align: right;\n    }\n</style>\n<table border=\"1\" class=\"dataframe\">\n  <thead>\n    <tr style=\"text-align: right;\">\n      <th></th>\n      <th>question</th>\n      <th>topic_num</th>\n    </tr>\n  </thead>\n  <tbody>\n    <tr>\n      <th>144256</th>\n      <td>Why is it that I wake up as if someone woke me...</td>\n      <td>5</td>\n    </tr>\n    <tr>\n      <th>28980</th>\n      <td>How did Glenn Greenwald learn to speak Portugu...</td>\n      <td>5</td>\n    </tr>\n    <tr>\n      <th>104185</th>\n      <td>What is the news behind Rajnikant movie kabali...</td>\n      <td>5</td>\n    </tr>\n    <tr>\n      <th>189605</th>\n      <td>How can I eat less?</td>\n      <td>5</td>\n    </tr>\n    <tr>\n      <th>3061</th>\n      <td>How can anyone increase height?</td>\n      <td>5</td>\n    </tr>\n  </tbody>\n</table>\n</div>"
     },
     "metadata": {},
     "execution_count": 169
    }
   ],
   "source": [
    "df.loc[df['topic_num'] == 5].sample(5)"
   ]
  },
  {
   "cell_type": "code",
   "execution_count": 170,
   "metadata": {},
   "outputs": [
    {
     "output_type": "execute_result",
     "data": {
      "text/plain": "                                                 question  topic_num\n106082  What is the best answer to the HR question,\"Yo...          6\n176932  Villanova Football Live Stream | Watch Villano...          6\n95763               How can I join Indian army after BBA?          6\n108258                                  What is dv^2/dt=?          6\n12024   What is the difference between Apple's Mac and...          6",
      "text/html": "<div>\n<style scoped>\n    .dataframe tbody tr th:only-of-type {\n        vertical-align: middle;\n    }\n\n    .dataframe tbody tr th {\n        vertical-align: top;\n    }\n\n    .dataframe thead th {\n        text-align: right;\n    }\n</style>\n<table border=\"1\" class=\"dataframe\">\n  <thead>\n    <tr style=\"text-align: right;\">\n      <th></th>\n      <th>question</th>\n      <th>topic_num</th>\n    </tr>\n  </thead>\n  <tbody>\n    <tr>\n      <th>106082</th>\n      <td>What is the best answer to the HR question,\"Yo...</td>\n      <td>6</td>\n    </tr>\n    <tr>\n      <th>176932</th>\n      <td>Villanova Football Live Stream | Watch Villano...</td>\n      <td>6</td>\n    </tr>\n    <tr>\n      <th>95763</th>\n      <td>How can I join Indian army after BBA?</td>\n      <td>6</td>\n    </tr>\n    <tr>\n      <th>108258</th>\n      <td>What is dv^2/dt=?</td>\n      <td>6</td>\n    </tr>\n    <tr>\n      <th>12024</th>\n      <td>What is the difference between Apple's Mac and...</td>\n      <td>6</td>\n    </tr>\n  </tbody>\n</table>\n</div>"
     },
     "metadata": {},
     "execution_count": 170
    }
   ],
   "source": [
    "df.loc[df['topic_num'] == 6].sample(5)"
   ]
  },
  {
   "cell_type": "code",
   "execution_count": 171,
   "metadata": {},
   "outputs": [
    {
     "output_type": "execute_result",
     "data": {
      "text/plain": "                                                 question  topic_num\n110296  Does a replacement of 500/1000 rupee notes wit...          7\n49233        What if Quora and Yahoo Answers went to war?          7\n116910  How do you draw a realistic flower (step-by-st...          7\n143243                                    What is a hash?          7\n18260   How can you deal with a cat that is scared of ...          7",
      "text/html": "<div>\n<style scoped>\n    .dataframe tbody tr th:only-of-type {\n        vertical-align: middle;\n    }\n\n    .dataframe tbody tr th {\n        vertical-align: top;\n    }\n\n    .dataframe thead th {\n        text-align: right;\n    }\n</style>\n<table border=\"1\" class=\"dataframe\">\n  <thead>\n    <tr style=\"text-align: right;\">\n      <th></th>\n      <th>question</th>\n      <th>topic_num</th>\n    </tr>\n  </thead>\n  <tbody>\n    <tr>\n      <th>110296</th>\n      <td>Does a replacement of 500/1000 rupee notes wit...</td>\n      <td>7</td>\n    </tr>\n    <tr>\n      <th>49233</th>\n      <td>What if Quora and Yahoo Answers went to war?</td>\n      <td>7</td>\n    </tr>\n    <tr>\n      <th>116910</th>\n      <td>How do you draw a realistic flower (step-by-st...</td>\n      <td>7</td>\n    </tr>\n    <tr>\n      <th>143243</th>\n      <td>What is a hash?</td>\n      <td>7</td>\n    </tr>\n    <tr>\n      <th>18260</th>\n      <td>How can you deal with a cat that is scared of ...</td>\n      <td>7</td>\n    </tr>\n  </tbody>\n</table>\n</div>"
     },
     "metadata": {},
     "execution_count": 171
    }
   ],
   "source": [
    "df.loc[df['topic_num'] == 7].sample(5)"
   ]
  },
  {
   "cell_type": "code",
   "execution_count": 172,
   "metadata": {},
   "outputs": [
    {
     "output_type": "execute_result",
     "data": {
      "text/plain": "                                                 question  topic_num\n169827  Are people from the Philippines considered Asi...          8\n85527   What are some unusual aspects about politics a...          8\n158043              Will West Bengal be the next Kashmir?          8\n168744  What is the closest Latvian equivalent of the ...          8\n20706                What do you think about Nikky Haley?          8",
      "text/html": "<div>\n<style scoped>\n    .dataframe tbody tr th:only-of-type {\n        vertical-align: middle;\n    }\n\n    .dataframe tbody tr th {\n        vertical-align: top;\n    }\n\n    .dataframe thead th {\n        text-align: right;\n    }\n</style>\n<table border=\"1\" class=\"dataframe\">\n  <thead>\n    <tr style=\"text-align: right;\">\n      <th></th>\n      <th>question</th>\n      <th>topic_num</th>\n    </tr>\n  </thead>\n  <tbody>\n    <tr>\n      <th>169827</th>\n      <td>Are people from the Philippines considered Asi...</td>\n      <td>8</td>\n    </tr>\n    <tr>\n      <th>85527</th>\n      <td>What are some unusual aspects about politics a...</td>\n      <td>8</td>\n    </tr>\n    <tr>\n      <th>158043</th>\n      <td>Will West Bengal be the next Kashmir?</td>\n      <td>8</td>\n    </tr>\n    <tr>\n      <th>168744</th>\n      <td>What is the closest Latvian equivalent of the ...</td>\n      <td>8</td>\n    </tr>\n    <tr>\n      <th>20706</th>\n      <td>What do you think about Nikky Haley?</td>\n      <td>8</td>\n    </tr>\n  </tbody>\n</table>\n</div>"
     },
     "metadata": {},
     "execution_count": 172
    }
   ],
   "source": [
    "df.loc[df['topic_num'] == 8].sample(5)"
   ]
  },
  {
   "cell_type": "code",
   "execution_count": 173,
   "metadata": {},
   "outputs": [
    {
     "output_type": "execute_result",
     "data": {
      "text/plain": "                                                 question  topic_num\n179365  What does the orange light on a MacBook charge...          9\n114142                   Is there any selfless good deed?          9\n141219                         What does 3/4 + 5/8 equal?          9\n159825                          Can ips officer marryâ€¦?          9\n157585  What will be the pay hike in TCS after ITA pro...          9",
      "text/html": "<div>\n<style scoped>\n    .dataframe tbody tr th:only-of-type {\n        vertical-align: middle;\n    }\n\n    .dataframe tbody tr th {\n        vertical-align: top;\n    }\n\n    .dataframe thead th {\n        text-align: right;\n    }\n</style>\n<table border=\"1\" class=\"dataframe\">\n  <thead>\n    <tr style=\"text-align: right;\">\n      <th></th>\n      <th>question</th>\n      <th>topic_num</th>\n    </tr>\n  </thead>\n  <tbody>\n    <tr>\n      <th>179365</th>\n      <td>What does the orange light on a MacBook charge...</td>\n      <td>9</td>\n    </tr>\n    <tr>\n      <th>114142</th>\n      <td>Is there any selfless good deed?</td>\n      <td>9</td>\n    </tr>\n    <tr>\n      <th>141219</th>\n      <td>What does 3/4 + 5/8 equal?</td>\n      <td>9</td>\n    </tr>\n    <tr>\n      <th>159825</th>\n      <td>Can ips officer marryâ€¦?</td>\n      <td>9</td>\n    </tr>\n    <tr>\n      <th>157585</th>\n      <td>What will be the pay hike in TCS after ITA pro...</td>\n      <td>9</td>\n    </tr>\n  </tbody>\n</table>\n</div>"
     },
     "metadata": {},
     "execution_count": 173
    }
   ],
   "source": [
    "df.loc[df['topic_num'] == 9].sample(5)"
   ]
  },
  {
   "cell_type": "code",
   "execution_count": 174,
   "metadata": {},
   "outputs": [],
   "source": [
    "topic_list = {0: \"Opinions\", \n",
    "              1: \"Recreation, Sports, Travel, and Activities\", \n",
    "              2: \"Quora\", \n",
    "              3: \"Finances/Earning Money\", \n",
    "              4: \"Life\", \n",
    "              5: \"World Politics\", \n",
    "              6: \"Learning, Programming, and Education\", \n",
    "              7: \"US Presedential Elections\", \n",
    "              8: \"Career and Motivation\", \n",
    "              9: \"Relationship\"}\n",
    "\n",
    "topic = df[\"topic_num\"].map(topic_list)\n",
    "df[\"topic\"] = topic"
   ]
  },
  {
   "cell_type": "code",
   "execution_count": 175,
   "metadata": {},
   "outputs": [
    {
     "output_type": "execute_result",
     "data": {
      "text/plain": "                                             question  topic_num  \\\n0   What is the step by step guide to invest in sh...          3   \n1   What is the story of Kohinoor (Koh-i-Noor) Dia...          8   \n2   How can I increase the speed of my internet co...          4   \n3   Why am I mentally very lonely? How can I solve...          7   \n4   Which one dissolve in water quikly sugar, salt...          5   \n5   Astrology: I am a Capricorn Sun Cap moon and c...          4   \n6                                 Should I buy tiago?          0   \n7                      How can I be a good geologist?          4   \n8                 When do you use ã‚· instead of ã—?          7   \n9   Motorola (company): Can I hack my Charter Moto...          5   \n10  Method to find separation of slits using fresn...          4   \n11        How do I read and find my YouTube comments?          1   \n12               What can make Physics easy to learn?          1   \n13        What was your first sexual experience like?          3   \n14  What are the laws to change your status from a...          6   \n15  What would a Trump presidency mean for current...          9   \n16                       What does manipulation mean?          0   \n17  Why do girls want to be friends with the guy t...          3   \n18  Why are so many Quora users posting questions ...          7   \n19  Which is the best digital marketing institutio...          2   \n20                         Why do rockets look white?          4   \n21              What's causing someone to be jealous?          7   \n22    What are the questions should not ask on Quora?          7   \n23                           How much is 30 kV in HP?          3   \n24  What does it mean that every time I look at th...          0   \n\n                                         topic  \n0                       Finances/Earning Money  \n1                        Career and Motivation  \n2                                         Life  \n3                    US Presedential Elections  \n4                               World Politics  \n5                                         Life  \n6                                     Opinions  \n7                                         Life  \n8                    US Presedential Elections  \n9                               World Politics  \n10                                        Life  \n11  Recreation, Sports, Travel, and Activities  \n12  Recreation, Sports, Travel, and Activities  \n13                      Finances/Earning Money  \n14        Learning, Programming, and Education  \n15                                Relationship  \n16                                    Opinions  \n17                      Finances/Earning Money  \n18                   US Presedential Elections  \n19                                       Quora  \n20                                        Life  \n21                   US Presedential Elections  \n22                   US Presedential Elections  \n23                      Finances/Earning Money  \n24                                    Opinions  ",
      "text/html": "<div>\n<style scoped>\n    .dataframe tbody tr th:only-of-type {\n        vertical-align: middle;\n    }\n\n    .dataframe tbody tr th {\n        vertical-align: top;\n    }\n\n    .dataframe thead th {\n        text-align: right;\n    }\n</style>\n<table border=\"1\" class=\"dataframe\">\n  <thead>\n    <tr style=\"text-align: right;\">\n      <th></th>\n      <th>question</th>\n      <th>topic_num</th>\n      <th>topic</th>\n    </tr>\n  </thead>\n  <tbody>\n    <tr>\n      <th>0</th>\n      <td>What is the step by step guide to invest in sh...</td>\n      <td>3</td>\n      <td>Finances/Earning Money</td>\n    </tr>\n    <tr>\n      <th>1</th>\n      <td>What is the story of Kohinoor (Koh-i-Noor) Dia...</td>\n      <td>8</td>\n      <td>Career and Motivation</td>\n    </tr>\n    <tr>\n      <th>2</th>\n      <td>How can I increase the speed of my internet co...</td>\n      <td>4</td>\n      <td>Life</td>\n    </tr>\n    <tr>\n      <th>3</th>\n      <td>Why am I mentally very lonely? How can I solve...</td>\n      <td>7</td>\n      <td>US Presedential Elections</td>\n    </tr>\n    <tr>\n      <th>4</th>\n      <td>Which one dissolve in water quikly sugar, salt...</td>\n      <td>5</td>\n      <td>World Politics</td>\n    </tr>\n    <tr>\n      <th>5</th>\n      <td>Astrology: I am a Capricorn Sun Cap moon and c...</td>\n      <td>4</td>\n      <td>Life</td>\n    </tr>\n    <tr>\n      <th>6</th>\n      <td>Should I buy tiago?</td>\n      <td>0</td>\n      <td>Opinions</td>\n    </tr>\n    <tr>\n      <th>7</th>\n      <td>How can I be a good geologist?</td>\n      <td>4</td>\n      <td>Life</td>\n    </tr>\n    <tr>\n      <th>8</th>\n      <td>When do you use ã‚· instead of ã—?</td>\n      <td>7</td>\n      <td>US Presedential Elections</td>\n    </tr>\n    <tr>\n      <th>9</th>\n      <td>Motorola (company): Can I hack my Charter Moto...</td>\n      <td>5</td>\n      <td>World Politics</td>\n    </tr>\n    <tr>\n      <th>10</th>\n      <td>Method to find separation of slits using fresn...</td>\n      <td>4</td>\n      <td>Life</td>\n    </tr>\n    <tr>\n      <th>11</th>\n      <td>How do I read and find my YouTube comments?</td>\n      <td>1</td>\n      <td>Recreation, Sports, Travel, and Activities</td>\n    </tr>\n    <tr>\n      <th>12</th>\n      <td>What can make Physics easy to learn?</td>\n      <td>1</td>\n      <td>Recreation, Sports, Travel, and Activities</td>\n    </tr>\n    <tr>\n      <th>13</th>\n      <td>What was your first sexual experience like?</td>\n      <td>3</td>\n      <td>Finances/Earning Money</td>\n    </tr>\n    <tr>\n      <th>14</th>\n      <td>What are the laws to change your status from a...</td>\n      <td>6</td>\n      <td>Learning, Programming, and Education</td>\n    </tr>\n    <tr>\n      <th>15</th>\n      <td>What would a Trump presidency mean for current...</td>\n      <td>9</td>\n      <td>Relationship</td>\n    </tr>\n    <tr>\n      <th>16</th>\n      <td>What does manipulation mean?</td>\n      <td>0</td>\n      <td>Opinions</td>\n    </tr>\n    <tr>\n      <th>17</th>\n      <td>Why do girls want to be friends with the guy t...</td>\n      <td>3</td>\n      <td>Finances/Earning Money</td>\n    </tr>\n    <tr>\n      <th>18</th>\n      <td>Why are so many Quora users posting questions ...</td>\n      <td>7</td>\n      <td>US Presedential Elections</td>\n    </tr>\n    <tr>\n      <th>19</th>\n      <td>Which is the best digital marketing institutio...</td>\n      <td>2</td>\n      <td>Quora</td>\n    </tr>\n    <tr>\n      <th>20</th>\n      <td>Why do rockets look white?</td>\n      <td>4</td>\n      <td>Life</td>\n    </tr>\n    <tr>\n      <th>21</th>\n      <td>What's causing someone to be jealous?</td>\n      <td>7</td>\n      <td>US Presedential Elections</td>\n    </tr>\n    <tr>\n      <th>22</th>\n      <td>What are the questions should not ask on Quora?</td>\n      <td>7</td>\n      <td>US Presedential Elections</td>\n    </tr>\n    <tr>\n      <th>23</th>\n      <td>How much is 30 kV in HP?</td>\n      <td>3</td>\n      <td>Finances/Earning Money</td>\n    </tr>\n    <tr>\n      <th>24</th>\n      <td>What does it mean that every time I look at th...</td>\n      <td>0</td>\n      <td>Opinions</td>\n    </tr>\n  </tbody>\n</table>\n</div>"
     },
     "metadata": {},
     "execution_count": 175
    }
   ],
   "source": [
    "df.head(25)"
   ]
  },
  {
   "cell_type": "code",
   "execution_count": 176,
   "metadata": {},
   "outputs": [],
   "source": [
    "df.to_csv('lda_modelled.csv')"
   ]
  }
 ],
 "metadata": {
  "kernelspec": {
   "display_name": "Python 3.7.6 64-bit ('AI2_course': conda)",
   "language": "python",
   "name": "python37664bitai2courseconda371d0ac7346d46c683e74ae2ba78d451"
  },
  "language_info": {
   "codemirror_mode": {
    "name": "ipython",
    "version": 3
   },
   "file_extension": ".py",
   "mimetype": "text/x-python",
   "name": "python",
   "nbconvert_exporter": "python",
   "pygments_lexer": "ipython3",
   "version": "3.8.2-final"
  }
 },
 "nbformat": 4,
 "nbformat_minor": 4
}