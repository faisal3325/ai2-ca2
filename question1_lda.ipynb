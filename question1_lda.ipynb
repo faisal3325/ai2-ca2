{
 "cells": [
  {
   "cell_type": "markdown",
   "metadata": {},
   "source": [
    "## CA-2"
   ],
   "execution_count": null,
   "outputs": []
  },
  {
   "cell_type": "code",
   "execution_count": 3,
   "metadata": {},
   "outputs": [],
   "source": [
    "# importing libraries\n",
    "import pandas as pd\n",
    "import time\n",
    "import re\n",
    "import string"
   ]
  },
  {
   "cell_type": "code",
   "execution_count": 4,
   "metadata": {},
   "outputs": [],
   "source": [
    "# Helper functions\n",
    "\n",
    "def time_elapsed_start():\n",
    "    return time.time()\n",
    "\n",
    "def time_elapsed_stop(start):\n",
    "    sec = time.time() - start\n",
    "    min = sec/60\n",
    "    hour = min/60\n",
    "    print(f\"Execution took {sec} seconds - ({min} minutes), ({hour} hours)\")"
   ]
  },
  {
   "cell_type": "code",
   "execution_count": 130,
   "metadata": {},
   "outputs": [],
   "source": [
    "# loading data\n",
    "ROWS_TO_READ = 200000\n",
    "df = pd.read_csv('quora_questions.csv', nrows=ROWS_TO_READ)"
   ]
  },
  {
   "cell_type": "code",
   "execution_count": 131,
   "metadata": {},
   "outputs": [
    {
     "output_type": "execute_result",
     "data": {
      "text/plain": "                                                 question\n174726       Why does it take so long for amazon to ship?\n154585  What is the best diet chart for a student prep...\n35459   Is there a Drug and Alcohol Rehab Center in Ju...\n2108        Is it possible for a mobile phone to explode?\n94343              How beautifully life can be described?",
      "text/html": "<div>\n<style scoped>\n    .dataframe tbody tr th:only-of-type {\n        vertical-align: middle;\n    }\n\n    .dataframe tbody tr th {\n        vertical-align: top;\n    }\n\n    .dataframe thead th {\n        text-align: right;\n    }\n</style>\n<table border=\"1\" class=\"dataframe\">\n  <thead>\n    <tr style=\"text-align: right;\">\n      <th></th>\n      <th>question</th>\n    </tr>\n  </thead>\n  <tbody>\n    <tr>\n      <th>174726</th>\n      <td>Why does it take so long for amazon to ship?</td>\n    </tr>\n    <tr>\n      <th>154585</th>\n      <td>What is the best diet chart for a student prep...</td>\n    </tr>\n    <tr>\n      <th>35459</th>\n      <td>Is there a Drug and Alcohol Rehab Center in Ju...</td>\n    </tr>\n    <tr>\n      <th>2108</th>\n      <td>Is it possible for a mobile phone to explode?</td>\n    </tr>\n    <tr>\n      <th>94343</th>\n      <td>How beautifully life can be described?</td>\n    </tr>\n  </tbody>\n</table>\n</div>"
     },
     "metadata": {},
     "execution_count": 131
    }
   ],
   "source": [
    "df.sample(5)"
   ]
  },
  {
   "cell_type": "code",
   "execution_count": 132,
   "metadata": {},
   "outputs": [
    {
     "output_type": "stream",
     "name": "stdout",
     "text": "What is the step by step guide to invest in share market in india?\nWhat is the story of Kohinoor (Koh-i-Noor) Diamond?\nHow can I increase the speed of my internet connection while using a VPN?\nWhy am I mentally very lonely? How can I solve it?\nWhich one dissolve in water quikly sugar, salt, methane and carbon di oxide?\nAstrology: I am a Capricorn Sun Cap moon and cap rising...what does that say about me?\nShould I buy tiago?\nHow can I be a good geologist?\nWhen do you use ã‚· instead of ã—?\nMotorola (company): Can I hack my Charter Motorolla DCX3400?\n"
    }
   ],
   "source": [
    "for i in range(0, 10):\n",
    "    print(df['question'][i])"
   ]
  },
  {
   "cell_type": "code",
   "execution_count": 133,
   "metadata": {},
   "outputs": [
    {
     "output_type": "stream",
     "name": "stdout",
     "text": "Dataframe size: 200000\n"
    }
   ],
   "source": [
    "# dataframe size|\n",
    "print(f\"Dataframe size: {df.size}\")"
   ]
  },
  {
   "cell_type": "markdown",
   "metadata": {},
   "source": [
    "### Pre-processing"
   ],
   "execution_count": null,
   "outputs": []
  },
  {
   "cell_type": "markdown",
   "metadata": {},
   "source": [
    "We are considering that a word should come in atleast 2 documents and should not come in more than 90% of the documents."
   ],
   "execution_count": null,
   "outputs": []
  },
  {
   "cell_type": "code",
   "execution_count": 134,
   "metadata": {},
   "outputs": [],
   "source": [
    "from sklearn.feature_extraction.text import CountVectorizer\n",
    "count_vectorizer = CountVectorizer(max_df=0.9, min_df=1, stop_words='english')"
   ]
  },
  {
   "cell_type": "code",
   "execution_count": 135,
   "metadata": {},
   "outputs": [
    {
     "output_type": "stream",
     "name": "stdout",
     "text": "Execution took 3.311908483505249 seconds - (0.05519847472508748 minutes), (0.000919974578751458 hours)\n"
    }
   ],
   "source": [
    "start = time_elapsed_start()\n",
    "term_matrix = count_vectorizer.fit_transform(df['question'])\n",
    "time_elapsed_stop(start)"
   ]
  },
  {
   "cell_type": "code",
   "execution_count": 136,
   "metadata": {},
   "outputs": [
    {
     "output_type": "execute_result",
     "data": {
      "text/plain": "<200000x50470 sparse matrix of type '<class 'numpy.int64'>'\n\twith 1004332 stored elements in Compressed Sparse Row format>"
     },
     "metadata": {},
     "execution_count": 136
    }
   ],
   "source": [
    "term_matrix"
   ]
  },
  {
   "cell_type": "markdown",
   "metadata": {},
   "source": [
    "The vector has taken 27,884 words in the vocabulary from 2,00,000 questions(rows)."
   ],
   "execution_count": null,
   "outputs": []
  },
  {
   "cell_type": "markdown",
   "metadata": {},
   "source": [
    "# Applying LDA"
   ],
   "execution_count": null,
   "outputs": []
  },
  {
   "cell_type": "code",
   "execution_count": 137,
   "metadata": {},
   "outputs": [],
   "source": [
    "from sklearn.decomposition import LatentDirichletAllocation"
   ]
  },
  {
   "cell_type": "code",
   "execution_count": 138,
   "metadata": {},
   "outputs": [],
   "source": [
    "lda = LatentDirichletAllocation(n_components=14, random_state=3)"
   ]
  },
  {
   "cell_type": "code",
   "execution_count": 139,
   "metadata": {},
   "outputs": [
    {
     "output_type": "stream",
     "name": "stdout",
     "text": "Execution took 442.35561871528625 seconds - (7.372593645254771 minutes), (0.12287656075424618 hours)\n"
    }
   ],
   "source": [
    "start = time_elapsed_start()\n",
    "lda.fit(term_matrix)\n",
    "time_elapsed_stop(start)"
   ]
  },
  {
   "cell_type": "markdown",
   "metadata": {},
   "source": [
    "Checking log likelihood, perplexity"
   ],
   "execution_count": null,
   "outputs": []
  },
  {
   "cell_type": "code",
   "execution_count": 140,
   "metadata": {},
   "outputs": [
    {
     "output_type": "stream",
     "name": "stdout",
     "text": "Execution took 105.48867440223694 seconds - (1.7581445733706156 minutes), (0.029302409556176925 hours)\n"
    }
   ],
   "source": [
    "start = time_elapsed_start()\n",
    "log_likelihood = lda.score(term_matrix)\n",
    "perplexity = lda.perplexity(term_matrix)\n",
    "time_elapsed_stop(start)"
   ]
  },
  {
   "cell_type": "code",
   "execution_count": 141,
   "metadata": {},
   "outputs": [
    {
     "output_type": "stream",
     "name": "stdout",
     "text": "Log likelihood: -8936056.746951483\nPerplexity: 5736.284365840458\n"
    }
   ],
   "source": [
    "print(f\"Log likelihood: {log_likelihood}\")\n",
    "print(f\"Perplexity: {perplexity}\")"
   ]
  },
  {
   "cell_type": "code",
   "execution_count": 142,
   "metadata": {},
   "outputs": [],
   "source": [
    "# Creating a metrics dataframe for comparison later\n",
    "lda_metrics_df = pd.DataFrame([[log_likelihood, perplexity, 13, 0.7]], columns=['log_likelihood', 'perplexity', 'n_components', 'learning_decay'])"
   ]
  },
  {
   "cell_type": "code",
   "execution_count": 143,
   "metadata": {},
   "outputs": [
    {
     "output_type": "execute_result",
     "data": {
      "text/plain": "   log_likelihood   perplexity  n_components  learning_decay\n0   -8.936057e+06  5736.284366            13             0.7",
      "text/html": "<div>\n<style scoped>\n    .dataframe tbody tr th:only-of-type {\n        vertical-align: middle;\n    }\n\n    .dataframe tbody tr th {\n        vertical-align: top;\n    }\n\n    .dataframe thead th {\n        text-align: right;\n    }\n</style>\n<table border=\"1\" class=\"dataframe\">\n  <thead>\n    <tr style=\"text-align: right;\">\n      <th></th>\n      <th>log_likelihood</th>\n      <th>perplexity</th>\n      <th>n_components</th>\n      <th>learning_decay</th>\n    </tr>\n  </thead>\n  <tbody>\n    <tr>\n      <th>0</th>\n      <td>-8.936057e+06</td>\n      <td>5736.284366</td>\n      <td>13</td>\n      <td>0.7</td>\n    </tr>\n  </tbody>\n</table>\n</div>"
     },
     "metadata": {},
     "execution_count": 143
    }
   ],
   "source": [
    "lda_metrics_df"
   ]
  },
  {
   "cell_type": "markdown",
   "metadata": {},
   "source": [
    "## Applying GridSearch for finding out best parameters for LDA"
   ],
   "execution_count": null,
   "outputs": []
  },
  {
   "cell_type": "code",
   "execution_count": 144,
   "metadata": {},
   "outputs": [],
   "source": [
    "# importing GridSearchCV from sklearn.model_selection\n",
    "from sklearn.model_selection import GridSearchCV"
   ]
  },
  {
   "cell_type": "code",
   "execution_count": 145,
   "metadata": {},
   "outputs": [],
   "source": [
    "# creating parameters for LDA\n",
    "params = {'n_components': [10, 12, 14], 'learning_decay': [.5, .7, .9]}"
   ]
  },
  {
   "cell_type": "code",
   "execution_count": 146,
   "metadata": {},
   "outputs": [],
   "source": [
    "# Initializing evaluate LDA and passing parameters to it\n",
    "eval_lda = LatentDirichletAllocation()\n",
    "eval_lda = GridSearchCV(eval_lda, param_grid=params)"
   ]
  },
  {
   "cell_type": "code",
   "execution_count": 98,
   "metadata": {},
   "outputs": [
    {
     "output_type": "stream",
     "name": "stdout",
     "text": "Execution took 34.33424115180969 seconds - (0.5722373525301615 minutes), (0.009537289208836026 hours)\n"
    }
   ],
   "source": [
    "# Fitting the model\n",
    "# this will search for optimal parameters\n",
    "# Note: this process consumes a significant amount of time and resources\n",
    "start = time_elapsed_start()\n",
    "eval_lda.fit(term_matrix)\n",
    "time_elapsed_stop(start)"
   ]
  },
  {
   "cell_type": "code",
   "execution_count": 99,
   "metadata": {},
   "outputs": [
    {
     "output_type": "stream",
     "name": "stdout",
     "text": "Best Model's Params:  {'learning_decay': 0.5, 'n_components': 10}\nBest Log Likelihood Score:  -25177.141092697868\nModel Perplexity:  5496.049908100983\n"
    }
   ],
   "source": [
    "# Best Model which gave highest score \n",
    "best_lda_model = eval_lda.best_estimator_\n",
    "\n",
    "# Model Parameters is used to store a list of parameter settings dicts for all the parameter candidates\n",
    "print(\"Best Model's Params: \", eval_lda.best_params_)\n",
    "\n",
    "# Log Likelihood Score\n",
    "print(\"Best Log Likelihood Score: \", eval_lda.best_score_)\n",
    "\n",
    "# Perplexity\n",
    "print(\"Model Perplexity: \", best_lda_model.perplexity(term_matrix))"
   ]
  },
  {
   "cell_type": "code",
   "execution_count": 100,
   "metadata": {},
   "outputs": [],
   "source": [
    "lda = LatentDirichletAllocation(n_components=10, random_state=3)"
   ]
  },
  {
   "cell_type": "code",
   "execution_count": 101,
   "metadata": {},
   "outputs": [
    {
     "output_type": "stream",
     "name": "stdout",
     "text": "Execution took 1.993041753768921 seconds - (0.03321736256281535 minutes), (0.0005536227093802559 hours)\n"
    }
   ],
   "source": [
    "start = time_elapsed_start()\n",
    "lda.fit(term_matrix)\n",
    "time_elapsed_stop(start)"
   ]
  },
  {
   "cell_type": "code",
   "execution_count": 102,
   "metadata": {},
   "outputs": [
    {
     "output_type": "stream",
     "name": "stdout",
     "text": "Execution took 0.3686387538909912 seconds - (0.00614397923151652 minutes), (0.00010239965385860868 hours)\n"
    }
   ],
   "source": [
    "start = time_elapsed_start()\n",
    "log_likelihood = lda.score(term_matrix)\n",
    "perplexity = lda.perplexity(term_matrix)\n",
    "time_elapsed_stop(start)"
   ]
  },
  {
   "cell_type": "code",
   "execution_count": 103,
   "metadata": {},
   "outputs": [
    {
     "output_type": "stream",
     "name": "stdout",
     "text": "Log likelihood: -42937.403544789515\nPerplexity: 5571.572518924214\n"
    }
   ],
   "source": [
    "print(f\"Log likelihood: {log_likelihood}\")\n",
    "print(f\"Perplexity: {perplexity}\")"
   ]
  },
  {
   "cell_type": "code",
   "execution_count": 104,
   "metadata": {},
   "outputs": [],
   "source": [
    "# storing metrics in metrics dataframe\n",
    "lda_metrics_df.loc[-1] = [log_likelihood, perplexity, 12, 0.7]\n",
    "lda_metrics_df.index = lda_metrics_df.index + 1\n",
    "lda_metrics_df = lda_metrics_df.sort_index()"
   ]
  },
  {
   "cell_type": "code",
   "execution_count": 105,
   "metadata": {},
   "outputs": [
    {
     "output_type": "execute_result",
     "data": {
      "text/plain": "   log_likelihood   perplexity  n_components  learning_decay\n0   -42937.403545  5571.572519          12.0             0.7\n1   -43537.043072  6284.807756          13.0             0.7",
      "text/html": "<div>\n<style scoped>\n    .dataframe tbody tr th:only-of-type {\n        vertical-align: middle;\n    }\n\n    .dataframe tbody tr th {\n        vertical-align: top;\n    }\n\n    .dataframe thead th {\n        text-align: right;\n    }\n</style>\n<table border=\"1\" class=\"dataframe\">\n  <thead>\n    <tr style=\"text-align: right;\">\n      <th></th>\n      <th>log_likelihood</th>\n      <th>perplexity</th>\n      <th>n_components</th>\n      <th>learning_decay</th>\n    </tr>\n  </thead>\n  <tbody>\n    <tr>\n      <th>0</th>\n      <td>-42937.403545</td>\n      <td>5571.572519</td>\n      <td>12.0</td>\n      <td>0.7</td>\n    </tr>\n    <tr>\n      <th>1</th>\n      <td>-43537.043072</td>\n      <td>6284.807756</td>\n      <td>13.0</td>\n      <td>0.7</td>\n    </tr>\n  </tbody>\n</table>\n</div>"
     },
     "metadata": {},
     "execution_count": 105
    }
   ],
   "source": [
    "lda_metrics_df"
   ]
  },
  {
   "cell_type": "markdown",
   "metadata": {},
   "source": [
    "## Exploring topics and their words"
   ],
   "execution_count": null,
   "outputs": []
  },
  {
   "cell_type": "markdown",
   "metadata": {},
   "source": [
    "We have 27,885 words in the vocabulary. "
   ],
   "execution_count": null,
   "outputs": []
  },
  {
   "cell_type": "code",
   "execution_count": 106,
   "metadata": {},
   "outputs": [
    {
     "output_type": "execute_result",
     "data": {
      "text/plain": "(10, 2682)"
     },
     "metadata": {},
     "execution_count": 106
    }
   ],
   "source": [
    "lda.components_.shape"
   ]
  },
  {
   "cell_type": "markdown",
   "metadata": {},
   "source": [
    "10 topics with 27,885 words"
   ],
   "execution_count": null,
   "outputs": []
  },
  {
   "cell_type": "markdown",
   "metadata": {},
   "source": [
    "Exploring a random topic"
   ],
   "execution_count": null,
   "outputs": []
  },
  {
   "cell_type": "code",
   "execution_count": 107,
   "metadata": {},
   "outputs": [],
   "source": [
    "random_topic = lda.components_[3]"
   ]
  },
  {
   "cell_type": "code",
   "execution_count": 108,
   "metadata": {},
   "outputs": [],
   "source": [
    "import matplotlib.pyplot as plt"
   ]
  },
  {
   "cell_type": "code",
   "execution_count": 109,
   "metadata": {},
   "outputs": [],
   "source": [
    "def show_chart(words, count, chart_title):\n",
    "    d = pd.DataFrame({\"Words\": words, \"Count\": count})\n",
    "    # Sort the dataframe by largest count\n",
    "    d = d.sort_values(by=[\"Count\"], ascending=False)\n",
    "    ax = d.plot.bar(y=\"Count\", x=\"Words\", title=chart_title, figsize=(15, 10), legend=True, fontsize=12, rot=1)\n",
    "    ax.set_xlabel(\"Frequent words\", fontsize=12)\n",
    "    ax.set_ylabel(\"Word count\", fontsize=12)"
   ]
  },
  {
   "cell_type": "code",
   "execution_count": 110,
   "metadata": {},
   "outputs": [
    {
     "output_type": "stream",
     "name": "stdout",
     "text": "used\n500\nlong\nyears\nuniverse\n1000\nlearn\ntime\nstart\nold\ndid\nlanguage\nlike\nstop\nbest\n"
    },
    {
     "output_type": "display_data",
     "data": {
      "text/plain": "<Figure size 1080x720 with 1 Axes>",
      "image/svg+xml": "<?xml version=\"1.0\" encoding=\"utf-8\" standalone=\"no\"?>\r\n<!DOCTYPE svg PUBLIC \"-//W3C//DTD SVG 1.1//EN\"\r\n  \"http://www.w3.org/Graphics/SVG/1.1/DTD/svg11.dtd\">\r\n<!-- Created with matplotlib (https://matplotlib.org/) -->\r\n<svg height=\"608.318944pt\" version=\"1.1\" viewBox=\"0 0 908.05375 608.318944\" width=\"908.05375pt\" xmlns=\"http://www.w3.org/2000/svg\" xmlns:xlink=\"http://www.w3.org/1999/xlink\">\r\n <defs>\r\n  <style type=\"text/css\">\r\n*{stroke-linecap:butt;stroke-linejoin:round;}\r\n  </style>\r\n </defs>\r\n <g id=\"figure_1\">\r\n  <g id=\"patch_1\">\r\n   <path d=\"M 0 608.318944 \r\nL 908.05375 608.318944 \r\nL 908.05375 0 \r\nL 0 0 \r\nz\r\n\" style=\"fill:none;\"/>\r\n  </g>\r\n  <g id=\"axes_1\">\r\n   <g id=\"patch_2\">\r\n    <path d=\"M 60.35375 565.918125 \r\nL 897.35375 565.918125 \r\nL 897.35375 22.318125 \r\nL 60.35375 22.318125 \r\nz\r\n\" style=\"fill:#ffffff;\"/>\r\n   </g>\r\n   <g id=\"patch_3\">\r\n    <path clip-path=\"url(#pcffa3fb3f4)\" d=\"M 74.30375 565.918125 \r\nL 102.20375 565.918125 \r\nL 102.20375 48.203839 \r\nL 74.30375 48.203839 \r\nz\r\n\" style=\"fill:#1f77b4;\"/>\r\n   </g>\r\n   <g id=\"patch_4\">\r\n    <path clip-path=\"url(#pcffa3fb3f4)\" d=\"M 130.10375 565.918125 \r\nL 158.00375 565.918125 \r\nL 158.00375 74.574305 \r\nL 130.10375 74.574305 \r\nz\r\n\" style=\"fill:#ff7f0e;\"/>\r\n   </g>\r\n   <g id=\"patch_5\">\r\n    <path clip-path=\"url(#pcffa3fb3f4)\" d=\"M 185.90375 565.918125 \r\nL 213.80375 565.918125 \r\nL 213.80375 78.258414 \r\nL 185.90375 78.258414 \r\nz\r\n\" style=\"fill:#2ca02c;\"/>\r\n   </g>\r\n   <g id=\"patch_6\">\r\n    <path clip-path=\"url(#pcffa3fb3f4)\" d=\"M 241.70375 565.918125 \r\nL 269.60375 565.918125 \r\nL 269.60375 93.964353 \r\nL 241.70375 93.964353 \r\nz\r\n\" style=\"fill:#d62728;\"/>\r\n   </g>\r\n   <g id=\"patch_7\">\r\n    <path clip-path=\"url(#pcffa3fb3f4)\" d=\"M 297.50375 565.918125 \r\nL 325.40375 565.918125 \r\nL 325.40375 117.814112 \r\nL 297.50375 117.814112 \r\nz\r\n\" style=\"fill:#9467bd;\"/>\r\n   </g>\r\n   <g id=\"patch_8\">\r\n    <path clip-path=\"url(#pcffa3fb3f4)\" d=\"M 353.30375 565.918125 \r\nL 381.20375 565.918125 \r\nL 381.20375 121.692122 \r\nL 353.30375 121.692122 \r\nz\r\n\" style=\"fill:#8c564b;\"/>\r\n   </g>\r\n   <g id=\"patch_9\">\r\n    <path clip-path=\"url(#pcffa3fb3f4)\" d=\"M 409.10375 565.918125 \r\nL 437.00375 565.918125 \r\nL 437.00375 236.869008 \r\nL 409.10375 236.869008 \r\nz\r\n\" style=\"fill:#e377c2;\"/>\r\n   </g>\r\n   <g id=\"patch_10\">\r\n    <path clip-path=\"url(#pcffa3fb3f4)\" d=\"M 464.90375 565.918125 \r\nL 492.80375 565.918125 \r\nL 492.80375 285.150228 \r\nL 464.90375 285.150228 \r\nz\r\n\" style=\"fill:#7f7f7f;\"/>\r\n   </g>\r\n   <g id=\"patch_11\">\r\n    <path clip-path=\"url(#pcffa3fb3f4)\" d=\"M 520.70375 565.918125 \r\nL 548.60375 565.918125 \r\nL 548.60375 289.99774 \r\nL 520.70375 289.99774 \r\nz\r\n\" style=\"fill:#bcbd22;\"/>\r\n   </g>\r\n   <g id=\"patch_12\">\r\n    <path clip-path=\"url(#pcffa3fb3f4)\" d=\"M 576.50375 565.918125 \r\nL 604.40375 565.918125 \r\nL 604.40375 294.651351 \r\nL 576.50375 294.651351 \r\nz\r\n\" style=\"fill:#17becf;\"/>\r\n   </g>\r\n   <g id=\"patch_13\">\r\n    <path clip-path=\"url(#pcffa3fb3f4)\" d=\"M 632.30375 565.918125 \r\nL 660.20375 565.918125 \r\nL 660.20375 297.94766 \r\nL 632.30375 297.94766 \r\nz\r\n\" style=\"fill:#1f77b4;\"/>\r\n   </g>\r\n   <g id=\"patch_14\">\r\n    <path clip-path=\"url(#pcffa3fb3f4)\" d=\"M 688.10375 565.918125 \r\nL 716.00375 565.918125 \r\nL 716.00375 428.636584 \r\nL 688.10375 428.636584 \r\nz\r\n\" style=\"fill:#1f77b4;\"/>\r\n   </g>\r\n   <g id=\"patch_15\">\r\n    <path clip-path=\"url(#pcffa3fb3f4)\" d=\"M 743.90375 565.918125 \r\nL 771.80375 565.918125 \r\nL 771.80375 509.880886 \r\nL 743.90375 509.880886 \r\nz\r\n\" style=\"fill:#ff7f0e;\"/>\r\n   </g>\r\n   <g id=\"patch_16\">\r\n    <path clip-path=\"url(#pcffa3fb3f4)\" d=\"M 799.70375 565.918125 \r\nL 827.60375 565.918125 \r\nL 827.60375 554.284096 \r\nL 799.70375 554.284096 \r\nz\r\n\" style=\"fill:#2ca02c;\"/>\r\n   </g>\r\n   <g id=\"patch_17\">\r\n    <path clip-path=\"url(#pcffa3fb3f4)\" d=\"M 855.50375 565.918125 \r\nL 883.40375 565.918125 \r\nL 883.40375 565.336424 \r\nL 855.50375 565.336424 \r\nz\r\n\" style=\"fill:#d62728;\"/>\r\n   </g>\r\n   <g id=\"matplotlib.axis_1\">\r\n    <g id=\"xtick_1\">\r\n     <g id=\"line2d_1\">\r\n      <defs>\r\n       <path d=\"M 0 0 \r\nL 0 3.5 \r\n\" id=\"m19febc5e77\" style=\"stroke:#000000;stroke-width:0.8;\"/>\r\n      </defs>\r\n      <g>\r\n       <use style=\"stroke:#000000;stroke-width:0.8;\" x=\"88.25375\" xlink:href=\"#m19febc5e77\" y=\"565.918125\"/>\r\n      </g>\r\n     </g>\r\n     <g id=\"text_1\">\r\n      <!-- years -->\r\n      <defs>\r\n       <path d=\"M 32.171875 -5.078125 \r\nQ 28.375 -14.84375 24.75 -17.8125 \r\nQ 21.140625 -20.796875 15.09375 -20.796875 \r\nL 7.90625 -20.796875 \r\nL 7.90625 -13.28125 \r\nL 13.1875 -13.28125 \r\nQ 16.890625 -13.28125 18.9375 -11.515625 \r\nQ 21 -9.765625 23.484375 -3.21875 \r\nL 25.09375 0.875 \r\nL 2.984375 54.6875 \r\nL 12.5 54.6875 \r\nL 29.59375 11.921875 \r\nL 46.6875 54.6875 \r\nL 56.203125 54.6875 \r\nz\r\n\" id=\"DejaVuSans-121\"/>\r\n       <path d=\"M 56.203125 29.59375 \r\nL 56.203125 25.203125 \r\nL 14.890625 25.203125 \r\nQ 15.484375 15.921875 20.484375 11.0625 \r\nQ 25.484375 6.203125 34.421875 6.203125 \r\nQ 39.59375 6.203125 44.453125 7.46875 \r\nQ 49.3125 8.734375 54.109375 11.28125 \r\nL 54.109375 2.78125 \r\nQ 49.265625 0.734375 44.1875 -0.34375 \r\nQ 39.109375 -1.421875 33.890625 -1.421875 \r\nQ 20.796875 -1.421875 13.15625 6.1875 \r\nQ 5.515625 13.8125 5.515625 26.8125 \r\nQ 5.515625 40.234375 12.765625 48.109375 \r\nQ 20.015625 56 32.328125 56 \r\nQ 43.359375 56 49.78125 48.890625 \r\nQ 56.203125 41.796875 56.203125 29.59375 \r\nz\r\nM 47.21875 32.234375 \r\nQ 47.125 39.59375 43.09375 43.984375 \r\nQ 39.0625 48.390625 32.421875 48.390625 \r\nQ 24.90625 48.390625 20.390625 44.140625 \r\nQ 15.875 39.890625 15.1875 32.171875 \r\nz\r\n\" id=\"DejaVuSans-101\"/>\r\n       <path d=\"M 34.28125 27.484375 \r\nQ 23.390625 27.484375 19.1875 25 \r\nQ 14.984375 22.515625 14.984375 16.5 \r\nQ 14.984375 11.71875 18.140625 8.90625 \r\nQ 21.296875 6.109375 26.703125 6.109375 \r\nQ 34.1875 6.109375 38.703125 11.40625 \r\nQ 43.21875 16.703125 43.21875 25.484375 \r\nL 43.21875 27.484375 \r\nz\r\nM 52.203125 31.203125 \r\nL 52.203125 0 \r\nL 43.21875 0 \r\nL 43.21875 8.296875 \r\nQ 40.140625 3.328125 35.546875 0.953125 \r\nQ 30.953125 -1.421875 24.3125 -1.421875 \r\nQ 15.921875 -1.421875 10.953125 3.296875 \r\nQ 6 8.015625 6 15.921875 \r\nQ 6 25.140625 12.171875 29.828125 \r\nQ 18.359375 34.515625 30.609375 34.515625 \r\nL 43.21875 34.515625 \r\nL 43.21875 35.40625 \r\nQ 43.21875 41.609375 39.140625 45 \r\nQ 35.0625 48.390625 27.6875 48.390625 \r\nQ 23 48.390625 18.546875 47.265625 \r\nQ 14.109375 46.140625 10.015625 43.890625 \r\nL 10.015625 52.203125 \r\nQ 14.9375 54.109375 19.578125 55.046875 \r\nQ 24.21875 56 28.609375 56 \r\nQ 40.484375 56 46.34375 49.84375 \r\nQ 52.203125 43.703125 52.203125 31.203125 \r\nz\r\n\" id=\"DejaVuSans-97\"/>\r\n       <path d=\"M 41.109375 46.296875 \r\nQ 39.59375 47.171875 37.8125 47.578125 \r\nQ 36.03125 48 33.890625 48 \r\nQ 26.265625 48 22.1875 43.046875 \r\nQ 18.109375 38.09375 18.109375 28.8125 \r\nL 18.109375 0 \r\nL 9.078125 0 \r\nL 9.078125 54.6875 \r\nL 18.109375 54.6875 \r\nL 18.109375 46.1875 \r\nQ 20.953125 51.171875 25.484375 53.578125 \r\nQ 30.03125 56 36.53125 56 \r\nQ 37.453125 56 38.578125 55.875 \r\nQ 39.703125 55.765625 41.0625 55.515625 \r\nz\r\n\" id=\"DejaVuSans-114\"/>\r\n       <path d=\"M 44.28125 53.078125 \r\nL 44.28125 44.578125 \r\nQ 40.484375 46.53125 36.375 47.5 \r\nQ 32.28125 48.484375 27.875 48.484375 \r\nQ 21.1875 48.484375 17.84375 46.4375 \r\nQ 14.5 44.390625 14.5 40.28125 \r\nQ 14.5 37.15625 16.890625 35.375 \r\nQ 19.28125 33.59375 26.515625 31.984375 \r\nL 29.59375 31.296875 \r\nQ 39.15625 29.25 43.1875 25.515625 \r\nQ 47.21875 21.78125 47.21875 15.09375 \r\nQ 47.21875 7.46875 41.1875 3.015625 \r\nQ 35.15625 -1.421875 24.609375 -1.421875 \r\nQ 20.21875 -1.421875 15.453125 -0.5625 \r\nQ 10.6875 0.296875 5.421875 2 \r\nL 5.421875 11.28125 \r\nQ 10.40625 8.6875 15.234375 7.390625 \r\nQ 20.0625 6.109375 24.8125 6.109375 \r\nQ 31.15625 6.109375 34.5625 8.28125 \r\nQ 37.984375 10.453125 37.984375 14.40625 \r\nQ 37.984375 18.0625 35.515625 20.015625 \r\nQ 33.0625 21.96875 24.703125 23.78125 \r\nL 21.578125 24.515625 \r\nQ 13.234375 26.265625 9.515625 29.90625 \r\nQ 5.8125 33.546875 5.8125 39.890625 \r\nQ 5.8125 47.609375 11.28125 51.796875 \r\nQ 16.75 56 26.8125 56 \r\nQ 31.78125 56 36.171875 55.265625 \r\nQ 40.578125 54.546875 44.28125 53.078125 \r\nz\r\n\" id=\"DejaVuSans-115\"/>\r\n      </defs>\r\n      <g transform=\"translate(71.801867 582.611216)rotate(-1)scale(0.12 -0.12)\">\r\n       <use xlink:href=\"#DejaVuSans-121\"/>\r\n       <use x=\"59.179688\" xlink:href=\"#DejaVuSans-101\"/>\r\n       <use x=\"120.703125\" xlink:href=\"#DejaVuSans-97\"/>\r\n       <use x=\"181.982422\" xlink:href=\"#DejaVuSans-114\"/>\r\n       <use x=\"223.095703\" xlink:href=\"#DejaVuSans-115\"/>\r\n      </g>\r\n     </g>\r\n    </g>\r\n    <g id=\"xtick_2\">\r\n     <g id=\"line2d_2\">\r\n      <g>\r\n       <use style=\"stroke:#000000;stroke-width:0.8;\" x=\"144.05375\" xlink:href=\"#m19febc5e77\" y=\"565.918125\"/>\r\n      </g>\r\n     </g>\r\n     <g id=\"text_2\">\r\n      <!-- used -->\r\n      <defs>\r\n       <path d=\"M 8.5 21.578125 \r\nL 8.5 54.6875 \r\nL 17.484375 54.6875 \r\nL 17.484375 21.921875 \r\nQ 17.484375 14.15625 20.5 10.265625 \r\nQ 23.53125 6.390625 29.59375 6.390625 \r\nQ 36.859375 6.390625 41.078125 11.03125 \r\nQ 45.3125 15.671875 45.3125 23.6875 \r\nL 45.3125 54.6875 \r\nL 54.296875 54.6875 \r\nL 54.296875 0 \r\nL 45.3125 0 \r\nL 45.3125 8.40625 \r\nQ 42.046875 3.421875 37.71875 1 \r\nQ 33.40625 -1.421875 27.6875 -1.421875 \r\nQ 18.265625 -1.421875 13.375 4.4375 \r\nQ 8.5 10.296875 8.5 21.578125 \r\nz\r\nM 31.109375 56 \r\nz\r\n\" id=\"DejaVuSans-117\"/>\r\n       <path d=\"M 45.40625 46.390625 \r\nL 45.40625 75.984375 \r\nL 54.390625 75.984375 \r\nL 54.390625 0 \r\nL 45.40625 0 \r\nL 45.40625 8.203125 \r\nQ 42.578125 3.328125 38.25 0.953125 \r\nQ 33.9375 -1.421875 27.875 -1.421875 \r\nQ 17.96875 -1.421875 11.734375 6.484375 \r\nQ 5.515625 14.40625 5.515625 27.296875 \r\nQ 5.515625 40.1875 11.734375 48.09375 \r\nQ 17.96875 56 27.875 56 \r\nQ 33.9375 56 38.25 53.625 \r\nQ 42.578125 51.265625 45.40625 46.390625 \r\nz\r\nM 14.796875 27.296875 \r\nQ 14.796875 17.390625 18.875 11.75 \r\nQ 22.953125 6.109375 30.078125 6.109375 \r\nQ 37.203125 6.109375 41.296875 11.75 \r\nQ 45.40625 17.390625 45.40625 27.296875 \r\nQ 45.40625 37.203125 41.296875 42.84375 \r\nQ 37.203125 48.484375 30.078125 48.484375 \r\nQ 22.953125 48.484375 18.875 42.84375 \r\nQ 14.796875 37.203125 14.796875 27.296875 \r\nz\r\n\" id=\"DejaVuSans-100\"/>\r\n      </defs>\r\n      <g transform=\"translate(129.684674 582.538505)rotate(-1)scale(0.12 -0.12)\">\r\n       <use xlink:href=\"#DejaVuSans-117\"/>\r\n       <use x=\"63.378906\" xlink:href=\"#DejaVuSans-115\"/>\r\n       <use x=\"115.478516\" xlink:href=\"#DejaVuSans-101\"/>\r\n       <use x=\"177.001953\" xlink:href=\"#DejaVuSans-100\"/>\r\n      </g>\r\n     </g>\r\n    </g>\r\n    <g id=\"xtick_3\">\r\n     <g id=\"line2d_3\">\r\n      <g>\r\n       <use style=\"stroke:#000000;stroke-width:0.8;\" x=\"199.85375\" xlink:href=\"#m19febc5e77\" y=\"565.918125\"/>\r\n      </g>\r\n     </g>\r\n     <g id=\"text_3\">\r\n      <!-- universe -->\r\n      <defs>\r\n       <path d=\"M 54.890625 33.015625 \r\nL 54.890625 0 \r\nL 45.90625 0 \r\nL 45.90625 32.71875 \r\nQ 45.90625 40.484375 42.875 44.328125 \r\nQ 39.84375 48.1875 33.796875 48.1875 \r\nQ 26.515625 48.1875 22.3125 43.546875 \r\nQ 18.109375 38.921875 18.109375 30.90625 \r\nL 18.109375 0 \r\nL 9.078125 0 \r\nL 9.078125 54.6875 \r\nL 18.109375 54.6875 \r\nL 18.109375 46.1875 \r\nQ 21.34375 51.125 25.703125 53.5625 \r\nQ 30.078125 56 35.796875 56 \r\nQ 45.21875 56 50.046875 50.171875 \r\nQ 54.890625 44.34375 54.890625 33.015625 \r\nz\r\n\" id=\"DejaVuSans-110\"/>\r\n       <path d=\"M 9.421875 54.6875 \r\nL 18.40625 54.6875 \r\nL 18.40625 0 \r\nL 9.421875 0 \r\nz\r\nM 9.421875 75.984375 \r\nL 18.40625 75.984375 \r\nL 18.40625 64.59375 \r\nL 9.421875 64.59375 \r\nz\r\n\" id=\"DejaVuSans-105\"/>\r\n       <path d=\"M 2.984375 54.6875 \r\nL 12.5 54.6875 \r\nL 29.59375 8.796875 \r\nL 46.6875 54.6875 \r\nL 56.203125 54.6875 \r\nL 35.6875 0 \r\nL 23.484375 0 \r\nz\r\n\" id=\"DejaVuSans-118\"/>\r\n      </defs>\r\n      <g transform=\"translate(174.116406 582.935373)rotate(-1)scale(0.12 -0.12)\">\r\n       <use xlink:href=\"#DejaVuSans-117\"/>\r\n       <use x=\"63.378906\" xlink:href=\"#DejaVuSans-110\"/>\r\n       <use x=\"126.757812\" xlink:href=\"#DejaVuSans-105\"/>\r\n       <use x=\"154.541016\" xlink:href=\"#DejaVuSans-118\"/>\r\n       <use x=\"213.720703\" xlink:href=\"#DejaVuSans-101\"/>\r\n       <use x=\"275.244141\" xlink:href=\"#DejaVuSans-114\"/>\r\n       <use x=\"316.357422\" xlink:href=\"#DejaVuSans-115\"/>\r\n       <use x=\"368.457031\" xlink:href=\"#DejaVuSans-101\"/>\r\n      </g>\r\n     </g>\r\n    </g>\r\n    <g id=\"xtick_4\">\r\n     <g id=\"line2d_4\">\r\n      <g>\r\n       <use style=\"stroke:#000000;stroke-width:0.8;\" x=\"255.65375\" xlink:href=\"#m19febc5e77\" y=\"565.918125\"/>\r\n      </g>\r\n     </g>\r\n     <g id=\"text_4\">\r\n      <!-- time -->\r\n      <defs>\r\n       <path d=\"M 18.3125 70.21875 \r\nL 18.3125 54.6875 \r\nL 36.8125 54.6875 \r\nL 36.8125 47.703125 \r\nL 18.3125 47.703125 \r\nL 18.3125 18.015625 \r\nQ 18.3125 11.328125 20.140625 9.421875 \r\nQ 21.96875 7.515625 27.59375 7.515625 \r\nL 36.8125 7.515625 \r\nL 36.8125 0 \r\nL 27.59375 0 \r\nQ 17.1875 0 13.234375 3.875 \r\nQ 9.28125 7.765625 9.28125 18.015625 \r\nL 9.28125 47.703125 \r\nL 2.6875 47.703125 \r\nL 2.6875 54.6875 \r\nL 9.28125 54.6875 \r\nL 9.28125 70.21875 \r\nz\r\n\" id=\"DejaVuSans-116\"/>\r\n       <path d=\"M 52 44.1875 \r\nQ 55.375 50.25 60.0625 53.125 \r\nQ 64.75 56 71.09375 56 \r\nQ 79.640625 56 84.28125 50.015625 \r\nQ 88.921875 44.046875 88.921875 33.015625 \r\nL 88.921875 0 \r\nL 79.890625 0 \r\nL 79.890625 32.71875 \r\nQ 79.890625 40.578125 77.09375 44.375 \r\nQ 74.3125 48.1875 68.609375 48.1875 \r\nQ 61.625 48.1875 57.5625 43.546875 \r\nQ 53.515625 38.921875 53.515625 30.90625 \r\nL 53.515625 0 \r\nL 44.484375 0 \r\nL 44.484375 32.71875 \r\nQ 44.484375 40.625 41.703125 44.40625 \r\nQ 38.921875 48.1875 33.109375 48.1875 \r\nQ 26.21875 48.1875 22.15625 43.53125 \r\nQ 18.109375 38.875 18.109375 30.90625 \r\nL 18.109375 0 \r\nL 9.078125 0 \r\nL 9.078125 54.6875 \r\nL 18.109375 54.6875 \r\nL 18.109375 46.1875 \r\nQ 21.1875 51.21875 25.484375 53.609375 \r\nQ 29.78125 56 35.6875 56 \r\nQ 41.65625 56 45.828125 52.96875 \r\nQ 50 49.953125 52 44.1875 \r\nz\r\n\" id=\"DejaVuSans-109\"/>\r\n      </defs>\r\n      <g transform=\"translate(242.158291 582.508007)rotate(-1)scale(0.12 -0.12)\">\r\n       <use xlink:href=\"#DejaVuSans-116\"/>\r\n       <use x=\"39.208984\" xlink:href=\"#DejaVuSans-105\"/>\r\n       <use x=\"66.992188\" xlink:href=\"#DejaVuSans-109\"/>\r\n       <use x=\"164.404297\" xlink:href=\"#DejaVuSans-101\"/>\r\n      </g>\r\n     </g>\r\n    </g>\r\n    <g id=\"xtick_5\">\r\n     <g id=\"line2d_5\">\r\n      <g>\r\n       <use style=\"stroke:#000000;stroke-width:0.8;\" x=\"311.45375\" xlink:href=\"#m19febc5e77\" y=\"565.918125\"/>\r\n      </g>\r\n     </g>\r\n     <g id=\"text_5\">\r\n      <!-- stop -->\r\n      <defs>\r\n       <path d=\"M 30.609375 48.390625 \r\nQ 23.390625 48.390625 19.1875 42.75 \r\nQ 14.984375 37.109375 14.984375 27.296875 \r\nQ 14.984375 17.484375 19.15625 11.84375 \r\nQ 23.34375 6.203125 30.609375 6.203125 \r\nQ 37.796875 6.203125 41.984375 11.859375 \r\nQ 46.1875 17.53125 46.1875 27.296875 \r\nQ 46.1875 37.015625 41.984375 42.703125 \r\nQ 37.796875 48.390625 30.609375 48.390625 \r\nz\r\nM 30.609375 56 \r\nQ 42.328125 56 49.015625 48.375 \r\nQ 55.71875 40.765625 55.71875 27.296875 \r\nQ 55.71875 13.875 49.015625 6.21875 \r\nQ 42.328125 -1.421875 30.609375 -1.421875 \r\nQ 18.84375 -1.421875 12.171875 6.21875 \r\nQ 5.515625 13.875 5.515625 27.296875 \r\nQ 5.515625 40.765625 12.171875 48.375 \r\nQ 18.84375 56 30.609375 56 \r\nz\r\n\" id=\"DejaVuSans-111\"/>\r\n       <path d=\"M 18.109375 8.203125 \r\nL 18.109375 -20.796875 \r\nL 9.078125 -20.796875 \r\nL 9.078125 54.6875 \r\nL 18.109375 54.6875 \r\nL 18.109375 46.390625 \r\nQ 20.953125 51.265625 25.265625 53.625 \r\nQ 29.59375 56 35.59375 56 \r\nQ 45.5625 56 51.78125 48.09375 \r\nQ 58.015625 40.1875 58.015625 27.296875 \r\nQ 58.015625 14.40625 51.78125 6.484375 \r\nQ 45.5625 -1.421875 35.59375 -1.421875 \r\nQ 29.59375 -1.421875 25.265625 0.953125 \r\nQ 20.953125 3.328125 18.109375 8.203125 \r\nz\r\nM 48.6875 27.296875 \r\nQ 48.6875 37.203125 44.609375 42.84375 \r\nQ 40.53125 48.484375 33.40625 48.484375 \r\nQ 26.265625 48.484375 22.1875 42.84375 \r\nQ 18.109375 37.203125 18.109375 27.296875 \r\nQ 18.109375 17.390625 22.1875 11.75 \r\nQ 26.265625 6.109375 33.40625 6.109375 \r\nQ 40.53125 6.109375 44.609375 11.75 \r\nQ 48.6875 17.390625 48.6875 27.296875 \r\nz\r\n\" id=\"DejaVuSans-112\"/>\r\n      </defs>\r\n      <g transform=\"translate(298.555388 582.487162)rotate(-1)scale(0.12 -0.12)\">\r\n       <use xlink:href=\"#DejaVuSans-115\"/>\r\n       <use x=\"52.099609\" xlink:href=\"#DejaVuSans-116\"/>\r\n       <use x=\"91.308594\" xlink:href=\"#DejaVuSans-111\"/>\r\n       <use x=\"152.490234\" xlink:href=\"#DejaVuSans-112\"/>\r\n      </g>\r\n     </g>\r\n    </g>\r\n    <g id=\"xtick_6\">\r\n     <g id=\"line2d_6\">\r\n      <g>\r\n       <use style=\"stroke:#000000;stroke-width:0.8;\" x=\"367.25375\" xlink:href=\"#m19febc5e77\" y=\"565.918125\"/>\r\n      </g>\r\n     </g>\r\n     <g id=\"text_6\">\r\n      <!-- start -->\r\n      <g transform=\"translate(353.34023 582.522601)rotate(-1)scale(0.12 -0.12)\">\r\n       <use xlink:href=\"#DejaVuSans-115\"/>\r\n       <use x=\"52.099609\" xlink:href=\"#DejaVuSans-116\"/>\r\n       <use x=\"91.308594\" xlink:href=\"#DejaVuSans-97\"/>\r\n       <use x=\"152.587891\" xlink:href=\"#DejaVuSans-114\"/>\r\n       <use x=\"193.701172\" xlink:href=\"#DejaVuSans-116\"/>\r\n      </g>\r\n     </g>\r\n    </g>\r\n    <g id=\"xtick_7\">\r\n     <g id=\"line2d_7\">\r\n      <g>\r\n       <use style=\"stroke:#000000;stroke-width:0.8;\" x=\"423.05375\" xlink:href=\"#m19febc5e77\" y=\"565.918125\"/>\r\n      </g>\r\n     </g>\r\n     <g id=\"text_7\">\r\n      <!-- old -->\r\n      <defs>\r\n       <path d=\"M 9.421875 75.984375 \r\nL 18.40625 75.984375 \r\nL 18.40625 0 \r\nL 9.421875 0 \r\nz\r\n\" id=\"DejaVuSans-108\"/>\r\n      </defs>\r\n      <g transform=\"translate(413.965745 582.354142)rotate(-1)scale(0.12 -0.12)\">\r\n       <use xlink:href=\"#DejaVuSans-111\"/>\r\n       <use x=\"61.181641\" xlink:href=\"#DejaVuSans-108\"/>\r\n       <use x=\"88.964844\" xlink:href=\"#DejaVuSans-100\"/>\r\n      </g>\r\n     </g>\r\n    </g>\r\n    <g id=\"xtick_8\">\r\n     <g id=\"line2d_8\">\r\n      <g>\r\n       <use style=\"stroke:#000000;stroke-width:0.8;\" x=\"478.85375\" xlink:href=\"#m19febc5e77\" y=\"565.918125\"/>\r\n      </g>\r\n     </g>\r\n     <g id=\"text_8\">\r\n      <!-- long -->\r\n      <defs>\r\n       <path d=\"M 45.40625 27.984375 \r\nQ 45.40625 37.75 41.375 43.109375 \r\nQ 37.359375 48.484375 30.078125 48.484375 \r\nQ 22.859375 48.484375 18.828125 43.109375 \r\nQ 14.796875 37.75 14.796875 27.984375 \r\nQ 14.796875 18.265625 18.828125 12.890625 \r\nQ 22.859375 7.515625 30.078125 7.515625 \r\nQ 37.359375 7.515625 41.375 12.890625 \r\nQ 45.40625 18.265625 45.40625 27.984375 \r\nz\r\nM 54.390625 6.78125 \r\nQ 54.390625 -7.171875 48.1875 -13.984375 \r\nQ 42 -20.796875 29.203125 -20.796875 \r\nQ 24.46875 -20.796875 20.265625 -20.09375 \r\nQ 16.0625 -19.390625 12.109375 -17.921875 \r\nL 12.109375 -9.1875 \r\nQ 16.0625 -11.328125 19.921875 -12.34375 \r\nQ 23.78125 -13.375 27.78125 -13.375 \r\nQ 36.625 -13.375 41.015625 -8.765625 \r\nQ 45.40625 -4.15625 45.40625 5.171875 \r\nL 45.40625 9.625 \r\nQ 42.625 4.78125 38.28125 2.390625 \r\nQ 33.9375 0 27.875 0 \r\nQ 17.828125 0 11.671875 7.65625 \r\nQ 5.515625 15.328125 5.515625 27.984375 \r\nQ 5.515625 40.671875 11.671875 48.328125 \r\nQ 17.828125 56 27.875 56 \r\nQ 33.9375 56 38.28125 53.609375 \r\nQ 42.625 51.21875 45.40625 46.390625 \r\nL 45.40625 54.6875 \r\nL 54.390625 54.6875 \r\nz\r\n\" id=\"DejaVuSans-103\"/>\r\n      </defs>\r\n      <g transform=\"translate(465.963824 582.486868)rotate(-1)scale(0.12 -0.12)\">\r\n       <use xlink:href=\"#DejaVuSans-108\"/>\r\n       <use x=\"27.783203\" xlink:href=\"#DejaVuSans-111\"/>\r\n       <use x=\"88.964844\" xlink:href=\"#DejaVuSans-110\"/>\r\n       <use x=\"152.34375\" xlink:href=\"#DejaVuSans-103\"/>\r\n      </g>\r\n     </g>\r\n    </g>\r\n    <g id=\"xtick_9\">\r\n     <g id=\"line2d_9\">\r\n      <g>\r\n       <use style=\"stroke:#000000;stroke-width:0.8;\" x=\"534.65375\" xlink:href=\"#m19febc5e77\" y=\"565.918125\"/>\r\n      </g>\r\n     </g>\r\n     <g id=\"text_9\">\r\n      <!-- like -->\r\n      <defs>\r\n       <path d=\"M 9.078125 75.984375 \r\nL 18.109375 75.984375 \r\nL 18.109375 31.109375 \r\nL 44.921875 54.6875 \r\nL 56.390625 54.6875 \r\nL 27.390625 29.109375 \r\nL 57.625 0 \r\nL 45.90625 0 \r\nL 18.109375 26.703125 \r\nL 18.109375 0 \r\nL 9.078125 0 \r\nz\r\n\" id=\"DejaVuSans-107\"/>\r\n      </defs>\r\n      <g transform=\"translate(524.215951 582.401264)rotate(-1)scale(0.12 -0.12)\">\r\n       <use xlink:href=\"#DejaVuSans-108\"/>\r\n       <use x=\"27.783203\" xlink:href=\"#DejaVuSans-105\"/>\r\n       <use x=\"55.566406\" xlink:href=\"#DejaVuSans-107\"/>\r\n       <use x=\"113.429688\" xlink:href=\"#DejaVuSans-101\"/>\r\n      </g>\r\n     </g>\r\n    </g>\r\n    <g id=\"xtick_10\">\r\n     <g id=\"line2d_10\">\r\n      <g>\r\n       <use style=\"stroke:#000000;stroke-width:0.8;\" x=\"590.45375\" xlink:href=\"#m19febc5e77\" y=\"565.918125\"/>\r\n      </g>\r\n     </g>\r\n     <g id=\"text_10\">\r\n      <!-- learn -->\r\n      <g transform=\"translate(575.21012 582.569036)rotate(-1)scale(0.12 -0.12)\">\r\n       <use xlink:href=\"#DejaVuSans-108\"/>\r\n       <use x=\"27.783203\" xlink:href=\"#DejaVuSans-101\"/>\r\n       <use x=\"89.306641\" xlink:href=\"#DejaVuSans-97\"/>\r\n       <use x=\"150.585938\" xlink:href=\"#DejaVuSans-114\"/>\r\n       <use x=\"191.683594\" xlink:href=\"#DejaVuSans-110\"/>\r\n      </g>\r\n     </g>\r\n    </g>\r\n    <g id=\"xtick_11\">\r\n     <g id=\"line2d_11\">\r\n      <g>\r\n       <use style=\"stroke:#000000;stroke-width:0.8;\" x=\"646.25375\" xlink:href=\"#m19febc5e77\" y=\"565.918125\"/>\r\n      </g>\r\n     </g>\r\n     <g id=\"text_11\">\r\n      <!-- language -->\r\n      <g transform=\"translate(618.380169 583.009949)rotate(-1)scale(0.12 -0.12)\">\r\n       <use xlink:href=\"#DejaVuSans-108\"/>\r\n       <use x=\"27.783203\" xlink:href=\"#DejaVuSans-97\"/>\r\n       <use x=\"89.0625\" xlink:href=\"#DejaVuSans-110\"/>\r\n       <use x=\"152.441406\" xlink:href=\"#DejaVuSans-103\"/>\r\n       <use x=\"215.917969\" xlink:href=\"#DejaVuSans-117\"/>\r\n       <use x=\"279.296875\" xlink:href=\"#DejaVuSans-97\"/>\r\n       <use x=\"340.576172\" xlink:href=\"#DejaVuSans-103\"/>\r\n       <use x=\"404.052734\" xlink:href=\"#DejaVuSans-101\"/>\r\n      </g>\r\n     </g>\r\n    </g>\r\n    <g id=\"xtick_12\">\r\n     <g id=\"line2d_12\">\r\n      <g>\r\n       <use style=\"stroke:#000000;stroke-width:0.8;\" x=\"702.05375\" xlink:href=\"#m19febc5e77\" y=\"565.918125\"/>\r\n      </g>\r\n     </g>\r\n     <g id=\"text_12\">\r\n      <!-- did -->\r\n      <g transform=\"translate(692.827953 582.358952)rotate(-1)scale(0.12 -0.12)\">\r\n       <use xlink:href=\"#DejaVuSans-100\"/>\r\n       <use x=\"63.476562\" xlink:href=\"#DejaVuSans-105\"/>\r\n       <use x=\"91.259766\" xlink:href=\"#DejaVuSans-100\"/>\r\n      </g>\r\n     </g>\r\n    </g>\r\n    <g id=\"xtick_13\">\r\n     <g id=\"line2d_13\">\r\n      <g>\r\n       <use style=\"stroke:#000000;stroke-width:0.8;\" x=\"757.85375\" xlink:href=\"#m19febc5e77\" y=\"565.918125\"/>\r\n      </g>\r\n     </g>\r\n     <g id=\"text_13\">\r\n      <!-- best -->\r\n      <defs>\r\n       <path d=\"M 48.6875 27.296875 \r\nQ 48.6875 37.203125 44.609375 42.84375 \r\nQ 40.53125 48.484375 33.40625 48.484375 \r\nQ 26.265625 48.484375 22.1875 42.84375 \r\nQ 18.109375 37.203125 18.109375 27.296875 \r\nQ 18.109375 17.390625 22.1875 11.75 \r\nQ 26.265625 6.109375 33.40625 6.109375 \r\nQ 40.53125 6.109375 44.609375 11.75 \r\nQ 48.6875 17.390625 48.6875 27.296875 \r\nz\r\nM 18.109375 46.390625 \r\nQ 20.953125 51.265625 25.265625 53.625 \r\nQ 29.59375 56 35.59375 56 \r\nQ 45.5625 56 51.78125 48.09375 \r\nQ 58.015625 40.1875 58.015625 27.296875 \r\nQ 58.015625 14.40625 51.78125 6.484375 \r\nQ 45.5625 -1.421875 35.59375 -1.421875 \r\nQ 29.59375 -1.421875 25.265625 0.953125 \r\nQ 20.953125 3.328125 18.109375 8.203125 \r\nL 18.109375 0 \r\nL 9.078125 0 \r\nL 9.078125 75.984375 \r\nL 18.109375 75.984375 \r\nz\r\n\" id=\"DejaVuSans-98\"/>\r\n      </defs>\r\n      <g transform=\"translate(744.934766 582.487882)rotate(-1)scale(0.12 -0.12)\">\r\n       <use xlink:href=\"#DejaVuSans-98\"/>\r\n       <use x=\"63.476562\" xlink:href=\"#DejaVuSans-101\"/>\r\n       <use x=\"125\" xlink:href=\"#DejaVuSans-115\"/>\r\n       <use x=\"177.099609\" xlink:href=\"#DejaVuSans-116\"/>\r\n      </g>\r\n     </g>\r\n    </g>\r\n    <g id=\"xtick_14\">\r\n     <g id=\"line2d_14\">\r\n      <g>\r\n       <use style=\"stroke:#000000;stroke-width:0.8;\" x=\"813.65375\" xlink:href=\"#m19febc5e77\" y=\"565.918125\"/>\r\n      </g>\r\n     </g>\r\n     <g id=\"text_14\">\r\n      <!-- 500 -->\r\n      <defs>\r\n       <path d=\"M 10.796875 72.90625 \r\nL 49.515625 72.90625 \r\nL 49.515625 64.59375 \r\nL 19.828125 64.59375 \r\nL 19.828125 46.734375 \r\nQ 21.96875 47.46875 24.109375 47.828125 \r\nQ 26.265625 48.1875 28.421875 48.1875 \r\nQ 40.625 48.1875 47.75 41.5 \r\nQ 54.890625 34.8125 54.890625 23.390625 \r\nQ 54.890625 11.625 47.5625 5.09375 \r\nQ 40.234375 -1.421875 26.90625 -1.421875 \r\nQ 22.3125 -1.421875 17.546875 -0.640625 \r\nQ 12.796875 0.140625 7.71875 1.703125 \r\nL 7.71875 11.625 \r\nQ 12.109375 9.234375 16.796875 8.0625 \r\nQ 21.484375 6.890625 26.703125 6.890625 \r\nQ 35.15625 6.890625 40.078125 11.328125 \r\nQ 45.015625 15.765625 45.015625 23.390625 \r\nQ 45.015625 31 40.078125 35.4375 \r\nQ 35.15625 39.890625 26.703125 39.890625 \r\nQ 22.75 39.890625 18.8125 39.015625 \r\nQ 14.890625 38.140625 10.796875 36.28125 \r\nz\r\n\" id=\"DejaVuSans-53\"/>\r\n       <path d=\"M 31.78125 66.40625 \r\nQ 24.171875 66.40625 20.328125 58.90625 \r\nQ 16.5 51.421875 16.5 36.375 \r\nQ 16.5 21.390625 20.328125 13.890625 \r\nQ 24.171875 6.390625 31.78125 6.390625 \r\nQ 39.453125 6.390625 43.28125 13.890625 \r\nQ 47.125 21.390625 47.125 36.375 \r\nQ 47.125 51.421875 43.28125 58.90625 \r\nQ 39.453125 66.40625 31.78125 66.40625 \r\nz\r\nM 31.78125 74.21875 \r\nQ 44.046875 74.21875 50.515625 64.515625 \r\nQ 56.984375 54.828125 56.984375 36.375 \r\nQ 56.984375 17.96875 50.515625 8.265625 \r\nQ 44.046875 -1.421875 31.78125 -1.421875 \r\nQ 19.53125 -1.421875 13.0625 8.265625 \r\nQ 6.59375 17.96875 6.59375 36.375 \r\nQ 6.59375 54.828125 13.0625 64.515625 \r\nQ 19.53125 74.21875 31.78125 74.21875 \r\nz\r\n\" id=\"DejaVuSans-48\"/>\r\n      </defs>\r\n      <g transform=\"translate(802.260784 582.434609)rotate(-1)scale(0.12 -0.12)\">\r\n       <use xlink:href=\"#DejaVuSans-53\"/>\r\n       <use x=\"63.623047\" xlink:href=\"#DejaVuSans-48\"/>\r\n       <use x=\"127.246094\" xlink:href=\"#DejaVuSans-48\"/>\r\n      </g>\r\n     </g>\r\n    </g>\r\n    <g id=\"xtick_15\">\r\n     <g id=\"line2d_15\">\r\n      <g>\r\n       <use style=\"stroke:#000000;stroke-width:0.8;\" x=\"869.45375\" xlink:href=\"#m19febc5e77\" y=\"565.918125\"/>\r\n      </g>\r\n     </g>\r\n     <g id=\"text_15\">\r\n      <!-- 1000 -->\r\n      <defs>\r\n       <path d=\"M 12.40625 8.296875 \r\nL 28.515625 8.296875 \r\nL 28.515625 63.921875 \r\nL 10.984375 60.40625 \r\nL 10.984375 69.390625 \r\nL 28.421875 72.90625 \r\nL 38.28125 72.90625 \r\nL 38.28125 8.296875 \r\nL 54.390625 8.296875 \r\nL 54.390625 0 \r\nL 12.40625 0 \r\nz\r\n\" id=\"DejaVuSans-49\"/>\r\n      </defs>\r\n      <g transform=\"translate(854.243865 582.567858)rotate(-1)scale(0.12 -0.12)\">\r\n       <use xlink:href=\"#DejaVuSans-49\"/>\r\n       <use x=\"63.623047\" xlink:href=\"#DejaVuSans-48\"/>\r\n       <use x=\"127.246094\" xlink:href=\"#DejaVuSans-48\"/>\r\n       <use x=\"190.869141\" xlink:href=\"#DejaVuSans-48\"/>\r\n      </g>\r\n     </g>\r\n    </g>\r\n    <g id=\"text_16\">\r\n     <!-- Frequent words -->\r\n     <defs>\r\n      <path d=\"M 9.8125 72.90625 \r\nL 51.703125 72.90625 \r\nL 51.703125 64.59375 \r\nL 19.671875 64.59375 \r\nL 19.671875 43.109375 \r\nL 48.578125 43.109375 \r\nL 48.578125 34.8125 \r\nL 19.671875 34.8125 \r\nL 19.671875 0 \r\nL 9.8125 0 \r\nz\r\n\" id=\"DejaVuSans-70\"/>\r\n      <path d=\"M 14.796875 27.296875 \r\nQ 14.796875 17.390625 18.875 11.75 \r\nQ 22.953125 6.109375 30.078125 6.109375 \r\nQ 37.203125 6.109375 41.296875 11.75 \r\nQ 45.40625 17.390625 45.40625 27.296875 \r\nQ 45.40625 37.203125 41.296875 42.84375 \r\nQ 37.203125 48.484375 30.078125 48.484375 \r\nQ 22.953125 48.484375 18.875 42.84375 \r\nQ 14.796875 37.203125 14.796875 27.296875 \r\nz\r\nM 45.40625 8.203125 \r\nQ 42.578125 3.328125 38.25 0.953125 \r\nQ 33.9375 -1.421875 27.875 -1.421875 \r\nQ 17.96875 -1.421875 11.734375 6.484375 \r\nQ 5.515625 14.40625 5.515625 27.296875 \r\nQ 5.515625 40.1875 11.734375 48.09375 \r\nQ 17.96875 56 27.875 56 \r\nQ 33.9375 56 38.25 53.625 \r\nQ 42.578125 51.265625 45.40625 46.390625 \r\nL 45.40625 54.6875 \r\nL 54.390625 54.6875 \r\nL 54.390625 -20.796875 \r\nL 45.40625 -20.796875 \r\nz\r\n\" id=\"DejaVuSans-113\"/>\r\n      <path id=\"DejaVuSans-32\"/>\r\n      <path d=\"M 4.203125 54.6875 \r\nL 13.1875 54.6875 \r\nL 24.421875 12.015625 \r\nL 35.59375 54.6875 \r\nL 46.1875 54.6875 \r\nL 57.421875 12.015625 \r\nL 68.609375 54.6875 \r\nL 77.59375 54.6875 \r\nL 63.28125 0 \r\nL 52.6875 0 \r\nL 40.921875 44.828125 \r\nL 29.109375 0 \r\nL 18.5 0 \r\nz\r\n\" id=\"DejaVuSans-119\"/>\r\n     </defs>\r\n     <g transform=\"translate(431.909375 598.623319)scale(0.12 -0.12)\">\r\n      <use xlink:href=\"#DejaVuSans-70\"/>\r\n      <use x=\"57.410156\" xlink:href=\"#DejaVuSans-114\"/>\r\n      <use x=\"98.492188\" xlink:href=\"#DejaVuSans-101\"/>\r\n      <use x=\"160.015625\" xlink:href=\"#DejaVuSans-113\"/>\r\n      <use x=\"223.492188\" xlink:href=\"#DejaVuSans-117\"/>\r\n      <use x=\"286.871094\" xlink:href=\"#DejaVuSans-101\"/>\r\n      <use x=\"348.394531\" xlink:href=\"#DejaVuSans-110\"/>\r\n      <use x=\"411.773438\" xlink:href=\"#DejaVuSans-116\"/>\r\n      <use x=\"450.982422\" xlink:href=\"#DejaVuSans-32\"/>\r\n      <use x=\"482.769531\" xlink:href=\"#DejaVuSans-119\"/>\r\n      <use x=\"564.556641\" xlink:href=\"#DejaVuSans-111\"/>\r\n      <use x=\"625.738281\" xlink:href=\"#DejaVuSans-114\"/>\r\n      <use x=\"666.835938\" xlink:href=\"#DejaVuSans-100\"/>\r\n      <use x=\"730.3125\" xlink:href=\"#DejaVuSans-115\"/>\r\n     </g>\r\n    </g>\r\n   </g>\r\n   <g id=\"matplotlib.axis_2\">\r\n    <g id=\"ytick_1\">\r\n     <g id=\"line2d_16\">\r\n      <defs>\r\n       <path d=\"M 0 0 \r\nL -3.5 0 \r\n\" id=\"m54ebf04c9b\" style=\"stroke:#000000;stroke-width:0.8;\"/>\r\n      </defs>\r\n      <g>\r\n       <use style=\"stroke:#000000;stroke-width:0.8;\" x=\"60.35375\" xlink:href=\"#m54ebf04c9b\" y=\"565.918125\"/>\r\n      </g>\r\n     </g>\r\n     <g id=\"text_17\">\r\n      <!-- 0 -->\r\n      <g transform=\"translate(45.71875 570.477188)scale(0.12 -0.12)\">\r\n       <use xlink:href=\"#DejaVuSans-48\"/>\r\n      </g>\r\n     </g>\r\n    </g>\r\n    <g id=\"ytick_2\">\r\n     <g id=\"line2d_17\">\r\n      <g>\r\n       <use style=\"stroke:#000000;stroke-width:0.8;\" x=\"60.35375\" xlink:href=\"#m54ebf04c9b\" y=\"468.967884\"/>\r\n      </g>\r\n     </g>\r\n     <g id=\"text_18\">\r\n      <!-- 500 -->\r\n      <g transform=\"translate(30.44875 473.526947)scale(0.12 -0.12)\">\r\n       <use xlink:href=\"#DejaVuSans-53\"/>\r\n       <use x=\"63.623047\" xlink:href=\"#DejaVuSans-48\"/>\r\n       <use x=\"127.246094\" xlink:href=\"#DejaVuSans-48\"/>\r\n      </g>\r\n     </g>\r\n    </g>\r\n    <g id=\"ytick_3\">\r\n     <g id=\"line2d_18\">\r\n      <g>\r\n       <use style=\"stroke:#000000;stroke-width:0.8;\" x=\"60.35375\" xlink:href=\"#m54ebf04c9b\" y=\"372.017643\"/>\r\n      </g>\r\n     </g>\r\n     <g id=\"text_19\">\r\n      <!-- 1000 -->\r\n      <g transform=\"translate(22.81375 376.576706)scale(0.12 -0.12)\">\r\n       <use xlink:href=\"#DejaVuSans-49\"/>\r\n       <use x=\"63.623047\" xlink:href=\"#DejaVuSans-48\"/>\r\n       <use x=\"127.246094\" xlink:href=\"#DejaVuSans-48\"/>\r\n       <use x=\"190.869141\" xlink:href=\"#DejaVuSans-48\"/>\r\n      </g>\r\n     </g>\r\n    </g>\r\n    <g id=\"ytick_4\">\r\n     <g id=\"line2d_19\">\r\n      <g>\r\n       <use style=\"stroke:#000000;stroke-width:0.8;\" x=\"60.35375\" xlink:href=\"#m54ebf04c9b\" y=\"275.067403\"/>\r\n      </g>\r\n     </g>\r\n     <g id=\"text_20\">\r\n      <!-- 1500 -->\r\n      <g transform=\"translate(22.81375 279.626465)scale(0.12 -0.12)\">\r\n       <use xlink:href=\"#DejaVuSans-49\"/>\r\n       <use x=\"63.623047\" xlink:href=\"#DejaVuSans-53\"/>\r\n       <use x=\"127.246094\" xlink:href=\"#DejaVuSans-48\"/>\r\n       <use x=\"190.869141\" xlink:href=\"#DejaVuSans-48\"/>\r\n      </g>\r\n     </g>\r\n    </g>\r\n    <g id=\"ytick_5\">\r\n     <g id=\"line2d_20\">\r\n      <g>\r\n       <use style=\"stroke:#000000;stroke-width:0.8;\" x=\"60.35375\" xlink:href=\"#m54ebf04c9b\" y=\"178.117162\"/>\r\n      </g>\r\n     </g>\r\n     <g id=\"text_21\">\r\n      <!-- 2000 -->\r\n      <defs>\r\n       <path d=\"M 19.1875 8.296875 \r\nL 53.609375 8.296875 \r\nL 53.609375 0 \r\nL 7.328125 0 \r\nL 7.328125 8.296875 \r\nQ 12.9375 14.109375 22.625 23.890625 \r\nQ 32.328125 33.6875 34.8125 36.53125 \r\nQ 39.546875 41.84375 41.421875 45.53125 \r\nQ 43.3125 49.21875 43.3125 52.78125 \r\nQ 43.3125 58.59375 39.234375 62.25 \r\nQ 35.15625 65.921875 28.609375 65.921875 \r\nQ 23.96875 65.921875 18.8125 64.3125 \r\nQ 13.671875 62.703125 7.8125 59.421875 \r\nL 7.8125 69.390625 \r\nQ 13.765625 71.78125 18.9375 73 \r\nQ 24.125 74.21875 28.421875 74.21875 \r\nQ 39.75 74.21875 46.484375 68.546875 \r\nQ 53.21875 62.890625 53.21875 53.421875 \r\nQ 53.21875 48.921875 51.53125 44.890625 \r\nQ 49.859375 40.875 45.40625 35.40625 \r\nQ 44.1875 33.984375 37.640625 27.21875 \r\nQ 31.109375 20.453125 19.1875 8.296875 \r\nz\r\n\" id=\"DejaVuSans-50\"/>\r\n      </defs>\r\n      <g transform=\"translate(22.81375 182.676224)scale(0.12 -0.12)\">\r\n       <use xlink:href=\"#DejaVuSans-50\"/>\r\n       <use x=\"63.623047\" xlink:href=\"#DejaVuSans-48\"/>\r\n       <use x=\"127.246094\" xlink:href=\"#DejaVuSans-48\"/>\r\n       <use x=\"190.869141\" xlink:href=\"#DejaVuSans-48\"/>\r\n      </g>\r\n     </g>\r\n    </g>\r\n    <g id=\"ytick_6\">\r\n     <g id=\"line2d_21\">\r\n      <g>\r\n       <use style=\"stroke:#000000;stroke-width:0.8;\" x=\"60.35375\" xlink:href=\"#m54ebf04c9b\" y=\"81.166921\"/>\r\n      </g>\r\n     </g>\r\n     <g id=\"text_22\">\r\n      <!-- 2500 -->\r\n      <g transform=\"translate(22.81375 85.725984)scale(0.12 -0.12)\">\r\n       <use xlink:href=\"#DejaVuSans-50\"/>\r\n       <use x=\"63.623047\" xlink:href=\"#DejaVuSans-53\"/>\r\n       <use x=\"127.246094\" xlink:href=\"#DejaVuSans-48\"/>\r\n       <use x=\"190.869141\" xlink:href=\"#DejaVuSans-48\"/>\r\n      </g>\r\n     </g>\r\n    </g>\r\n    <g id=\"text_23\">\r\n     <!-- Word count -->\r\n     <defs>\r\n      <path d=\"M 3.328125 72.90625 \r\nL 13.28125 72.90625 \r\nL 28.609375 11.28125 \r\nL 43.890625 72.90625 \r\nL 54.984375 72.90625 \r\nL 70.3125 11.28125 \r\nL 85.59375 72.90625 \r\nL 95.609375 72.90625 \r\nL 77.296875 0 \r\nL 64.890625 0 \r\nL 49.515625 63.28125 \r\nL 33.984375 0 \r\nL 21.578125 0 \r\nz\r\n\" id=\"DejaVuSans-87\"/>\r\n      <path d=\"M 48.78125 52.59375 \r\nL 48.78125 44.1875 \r\nQ 44.96875 46.296875 41.140625 47.34375 \r\nQ 37.3125 48.390625 33.40625 48.390625 \r\nQ 24.65625 48.390625 19.8125 42.84375 \r\nQ 14.984375 37.3125 14.984375 27.296875 \r\nQ 14.984375 17.28125 19.8125 11.734375 \r\nQ 24.65625 6.203125 33.40625 6.203125 \r\nQ 37.3125 6.203125 41.140625 7.25 \r\nQ 44.96875 8.296875 48.78125 10.40625 \r\nL 48.78125 2.09375 \r\nQ 45.015625 0.34375 40.984375 -0.53125 \r\nQ 36.96875 -1.421875 32.421875 -1.421875 \r\nQ 20.0625 -1.421875 12.78125 6.34375 \r\nQ 5.515625 14.109375 5.515625 27.296875 \r\nQ 5.515625 40.671875 12.859375 48.328125 \r\nQ 20.21875 56 33.015625 56 \r\nQ 37.15625 56 41.109375 55.140625 \r\nQ 45.0625 54.296875 48.78125 52.59375 \r\nz\r\n\" id=\"DejaVuSans-99\"/>\r\n     </defs>\r\n     <g transform=\"translate(16.318125 328.82625)rotate(-90)scale(0.12 -0.12)\">\r\n      <use xlink:href=\"#DejaVuSans-87\"/>\r\n      <use x=\"98.798828\" xlink:href=\"#DejaVuSans-111\"/>\r\n      <use x=\"159.980469\" xlink:href=\"#DejaVuSans-114\"/>\r\n      <use x=\"201.078125\" xlink:href=\"#DejaVuSans-100\"/>\r\n      <use x=\"264.554688\" xlink:href=\"#DejaVuSans-32\"/>\r\n      <use x=\"296.341797\" xlink:href=\"#DejaVuSans-99\"/>\r\n      <use x=\"351.322266\" xlink:href=\"#DejaVuSans-111\"/>\r\n      <use x=\"412.503906\" xlink:href=\"#DejaVuSans-117\"/>\r\n      <use x=\"475.882812\" xlink:href=\"#DejaVuSans-110\"/>\r\n      <use x=\"539.261719\" xlink:href=\"#DejaVuSans-116\"/>\r\n     </g>\r\n    </g>\r\n   </g>\r\n   <g id=\"patch_18\">\r\n    <path d=\"M 60.35375 565.918125 \r\nL 60.35375 22.318125 \r\n\" style=\"fill:none;stroke:#000000;stroke-linecap:square;stroke-linejoin:miter;stroke-width:0.8;\"/>\r\n   </g>\r\n   <g id=\"patch_19\">\r\n    <path d=\"M 897.35375 565.918125 \r\nL 897.35375 22.318125 \r\n\" style=\"fill:none;stroke:#000000;stroke-linecap:square;stroke-linejoin:miter;stroke-width:0.8;\"/>\r\n   </g>\r\n   <g id=\"patch_20\">\r\n    <path d=\"M 60.35375 565.918125 \r\nL 897.35375 565.918125 \r\n\" style=\"fill:none;stroke:#000000;stroke-linecap:square;stroke-linejoin:miter;stroke-width:0.8;\"/>\r\n   </g>\r\n   <g id=\"patch_21\">\r\n    <path d=\"M 60.35375 22.318125 \r\nL 897.35375 22.318125 \r\n\" style=\"fill:none;stroke:#000000;stroke-linecap:square;stroke-linejoin:miter;stroke-width:0.8;\"/>\r\n   </g>\r\n   <g id=\"text_24\">\r\n    <!-- Word probability for first topic -->\r\n    <defs>\r\n     <path d=\"M 37.109375 75.984375 \r\nL 37.109375 68.5 \r\nL 28.515625 68.5 \r\nQ 23.6875 68.5 21.796875 66.546875 \r\nQ 19.921875 64.59375 19.921875 59.515625 \r\nL 19.921875 54.6875 \r\nL 34.71875 54.6875 \r\nL 34.71875 47.703125 \r\nL 19.921875 47.703125 \r\nL 19.921875 0 \r\nL 10.890625 0 \r\nL 10.890625 47.703125 \r\nL 2.296875 47.703125 \r\nL 2.296875 54.6875 \r\nL 10.890625 54.6875 \r\nL 10.890625 58.5 \r\nQ 10.890625 67.625 15.140625 71.796875 \r\nQ 19.390625 75.984375 28.609375 75.984375 \r\nz\r\n\" id=\"DejaVuSans-102\"/>\r\n    </defs>\r\n    <g transform=\"translate(388.436562 16.318125)scale(0.12 -0.12)\">\r\n     <use xlink:href=\"#DejaVuSans-87\"/>\r\n     <use x=\"98.798828\" xlink:href=\"#DejaVuSans-111\"/>\r\n     <use x=\"159.980469\" xlink:href=\"#DejaVuSans-114\"/>\r\n     <use x=\"201.078125\" xlink:href=\"#DejaVuSans-100\"/>\r\n     <use x=\"264.554688\" xlink:href=\"#DejaVuSans-32\"/>\r\n     <use x=\"296.341797\" xlink:href=\"#DejaVuSans-112\"/>\r\n     <use x=\"359.818359\" xlink:href=\"#DejaVuSans-114\"/>\r\n     <use x=\"400.900391\" xlink:href=\"#DejaVuSans-111\"/>\r\n     <use x=\"462.082031\" xlink:href=\"#DejaVuSans-98\"/>\r\n     <use x=\"525.558594\" xlink:href=\"#DejaVuSans-97\"/>\r\n     <use x=\"586.837891\" xlink:href=\"#DejaVuSans-98\"/>\r\n     <use x=\"650.314453\" xlink:href=\"#DejaVuSans-105\"/>\r\n     <use x=\"678.097656\" xlink:href=\"#DejaVuSans-108\"/>\r\n     <use x=\"705.880859\" xlink:href=\"#DejaVuSans-105\"/>\r\n     <use x=\"733.664062\" xlink:href=\"#DejaVuSans-116\"/>\r\n     <use x=\"772.873047\" xlink:href=\"#DejaVuSans-121\"/>\r\n     <use x=\"832.052734\" xlink:href=\"#DejaVuSans-32\"/>\r\n     <use x=\"863.839844\" xlink:href=\"#DejaVuSans-102\"/>\r\n     <use x=\"899.044922\" xlink:href=\"#DejaVuSans-111\"/>\r\n     <use x=\"960.226562\" xlink:href=\"#DejaVuSans-114\"/>\r\n     <use x=\"1001.339844\" xlink:href=\"#DejaVuSans-32\"/>\r\n     <use x=\"1033.126953\" xlink:href=\"#DejaVuSans-102\"/>\r\n     <use x=\"1068.332031\" xlink:href=\"#DejaVuSans-105\"/>\r\n     <use x=\"1096.115234\" xlink:href=\"#DejaVuSans-114\"/>\r\n     <use x=\"1137.228516\" xlink:href=\"#DejaVuSans-115\"/>\r\n     <use x=\"1189.328125\" xlink:href=\"#DejaVuSans-116\"/>\r\n     <use x=\"1228.537109\" xlink:href=\"#DejaVuSans-32\"/>\r\n     <use x=\"1260.324219\" xlink:href=\"#DejaVuSans-116\"/>\r\n     <use x=\"1299.533203\" xlink:href=\"#DejaVuSans-111\"/>\r\n     <use x=\"1360.714844\" xlink:href=\"#DejaVuSans-112\"/>\r\n     <use x=\"1424.191406\" xlink:href=\"#DejaVuSans-105\"/>\r\n     <use x=\"1451.974609\" xlink:href=\"#DejaVuSans-99\"/>\r\n    </g>\r\n   </g>\r\n   <g id=\"legend_1\">\r\n    <g id=\"patch_22\">\r\n     <path d=\"M 828.656875 44.99625 \r\nL 890.35375 44.99625 \r\nQ 892.35375 44.99625 892.35375 42.99625 \r\nL 892.35375 29.318125 \r\nQ 892.35375 27.318125 890.35375 27.318125 \r\nL 828.656875 27.318125 \r\nQ 826.656875 27.318125 826.656875 29.318125 \r\nL 826.656875 42.99625 \r\nQ 826.656875 44.99625 828.656875 44.99625 \r\nz\r\n\" style=\"fill:#ffffff;opacity:0.8;stroke:#cccccc;stroke-linejoin:miter;\"/>\r\n    </g>\r\n    <g id=\"patch_23\">\r\n     <path d=\"M 830.656875 38.916563 \r\nL 850.656875 38.916563 \r\nL 850.656875 31.916563 \r\nL 830.656875 31.916563 \r\nz\r\n\" style=\"fill:#1f77b4;\"/>\r\n    </g>\r\n    <g id=\"text_25\">\r\n     <!-- Count -->\r\n     <defs>\r\n      <path d=\"M 64.40625 67.28125 \r\nL 64.40625 56.890625 \r\nQ 59.421875 61.53125 53.78125 63.8125 \r\nQ 48.140625 66.109375 41.796875 66.109375 \r\nQ 29.296875 66.109375 22.65625 58.46875 \r\nQ 16.015625 50.828125 16.015625 36.375 \r\nQ 16.015625 21.96875 22.65625 14.328125 \r\nQ 29.296875 6.6875 41.796875 6.6875 \r\nQ 48.140625 6.6875 53.78125 8.984375 \r\nQ 59.421875 11.28125 64.40625 15.921875 \r\nL 64.40625 5.609375 \r\nQ 59.234375 2.09375 53.4375 0.328125 \r\nQ 47.65625 -1.421875 41.21875 -1.421875 \r\nQ 24.65625 -1.421875 15.125 8.703125 \r\nQ 5.609375 18.84375 5.609375 36.375 \r\nQ 5.609375 53.953125 15.125 64.078125 \r\nQ 24.65625 74.21875 41.21875 74.21875 \r\nQ 47.75 74.21875 53.53125 72.484375 \r\nQ 59.328125 70.75 64.40625 67.28125 \r\nz\r\n\" id=\"DejaVuSans-67\"/>\r\n     </defs>\r\n     <g transform=\"translate(858.656875 38.916563)scale(0.1 -0.1)\">\r\n      <use xlink:href=\"#DejaVuSans-67\"/>\r\n      <use x=\"69.824219\" xlink:href=\"#DejaVuSans-111\"/>\r\n      <use x=\"131.005859\" xlink:href=\"#DejaVuSans-117\"/>\r\n      <use x=\"194.384766\" xlink:href=\"#DejaVuSans-110\"/>\r\n      <use x=\"257.763672\" xlink:href=\"#DejaVuSans-116\"/>\r\n     </g>\r\n    </g>\r\n   </g>\r\n  </g>\r\n </g>\r\n <defs>\r\n  <clipPath id=\"pcffa3fb3f4\">\r\n   <rect height=\"543.6\" width=\"837\" x=\"60.35375\" y=\"22.318125\"/>\r\n  </clipPath>\r\n </defs>\r\n</svg>\r\n",
      "image/png": "[encoded data removed]"
     },
     "metadata": {
      "needs_background": "light"
     }
    }
   ],
   "source": [
    "word_list = []\n",
    "probability_list = []\n",
    "\n",
    "for index in random_topic.argsort()[-15:]:\n",
    "    frequent_word = count_vectorizer.get_feature_names()[index]\n",
    "    print(frequent_word, sep=\" \")\n",
    "    word_list.append(frequent_word)\n",
    "    probability_list.append(index)\n",
    "    \n",
    "show_chart(word_list, probability_list, \"Word probability for first topic\")"
   ]
  },
  {
   "cell_type": "code",
   "execution_count": 111,
   "metadata": {},
   "outputs": [
    {
     "output_type": "stream",
     "name": "stdout",
     "text": "Top words for topic 0 are : \n['lakes']['degree']['state']['app']['purpose']['quality']['iphone']['compare']['meaning']['sex']['possible']['white']['taking']['interesting']['2016']['bachelors']['battle']['exist']['time']['school']['late']['does']['life']['best']['difference']\n\nTop words for topic 1 are : \n['pros']['live']['2017']['gmail']['college']['science']['improve']['book']['series']['like']['computer']['android']['online']['english']['feel']['good']['mean']['learn']['prepare']['free']['year']['new']['does']['india']['best']\n\nTop words for topic 2 are : \n['love']['mobile']['possible']['think']['play']['funds']['engineering']['better']['account']['india']['fm']['open']['canada']['change']['business']['cost']['feel']['learning']['way']['time']['does']['work']['best']['start']['good']\n\nTop words for topic 3 are : \n['know']['lose']['friend']['india']['run']['programming']['relationship']['big']['bang']['work']['used']['500']['long']['years']['universe']['1000']['learn']['time']['start']['old']['did']['language']['like']['stop']['best']\n\nTop words for topic 4 are : \n['usa']['women']['1000']['hard']['really']['european']['causes']['effects']['people']['quora']['did']['red']['using']['india']['money']['questions']['youtube']['differences']['life']['important']['different']['does']['best']['war']['world']\n\nTop words for topic 5 are : \n['germany']['places']['clothes']['things']['comments']['non']['batman']['question']['did']['private']['ios']['mean']['preparation']['fake']['start']['boyfriend']['examples']['change']['pm']['experience']['answer']['salary']['job']['quora']['best']\n\nTop words for topic 6 are : \n['interview']['technology']['mean']['election']['use']['ways']['laptop']['earn']['book']['dreams']['process']['right']['want']['think']['feelings']['guy']['did']['programming']['trump']['person']['friends']['good']['like']['math']['does']\n\nTop words for topic 7 are : \n['similar']['use']['feel']['energy']['good']['3d']['muslims']['healthy']['bullet']['quora']['gain']['website']['people']['know']['best']['way']['facebook']['created']['weight']['money']['movies']['like']['life']['does']['make']\n\nTop words for topic 8 are : \n['travel']['web']['india']['work']['time']['recruit']['majors']['design']['grads']['make']['programming']['possible']['courses']['modi']['universities']['looking']['new']['love']['way']['use']['life']['best']['learn']['like']['does']\n\nTop words for topic 9 are : \n['states']['films']['tv']['questions']['phone']['day']['online']['books']['united']['don']['pakistan']['place']['watch']['people']['india']['year']['hillary']['clinton']['porn']['movies']['2016']['number']['did']['does']['best']\n\n"
    }
   ],
   "source": [
    "word_list = []\n",
    "probability_list = []\n",
    "\n",
    "top_number = 25\n",
    "count = 0\n",
    "for probability_number in lda.components_:\n",
    "    text_message = f\"Top words for topic {count} are : \"\n",
    "    print(text_message)    \n",
    "    for number in probability_number.argsort()[-top_number:]:\n",
    "        print([count_vectorizer.get_feature_names()[number]], end= \"\")\n",
    "    print(\"\\n\")  \n",
    "    count += 1"
   ]
  },
  {
   "cell_type": "code",
   "execution_count": 113,
   "metadata": {},
   "outputs": [],
   "source": [
    "textfile_topics = lda.transform(term_matrix)"
   ]
  },
  {
   "cell_type": "code",
   "execution_count": 114,
   "metadata": {},
   "outputs": [],
   "source": [
    "topic_list = []\n",
    "# Textfile_topics is a list of arrays containing \n",
    "# all index positions of words for each textfile\n",
    "for popular_index_pos in textfile_topics:\n",
    "    # Get the max index position in each array\n",
    "    # and add to the topic_list list\n",
    "    topic_list.append(popular_index_pos.argmax())\n",
    "\n",
    "# Add a new column to the dataframe\n",
    "df[\"topic_num\"] = topic_list"
   ]
  },
  {
   "cell_type": "code",
   "execution_count": 115,
   "metadata": {},
   "outputs": [
    {
     "output_type": "execute_result",
     "data": {
      "text/plain": "                                              question  topic_num\n0    What is the step by step guide to invest in sh...          1\n1    What is the story of Kohinoor (Koh-i-Noor) Dia...          6\n2    How can I increase the speed of my internet co...          7\n3    Why am I mentally very lonely? How can I solve...          9\n4    Which one dissolve in water quikly sugar, salt...          7\n5    Astrology: I am a Capricorn Sun Cap moon and c...          7\n6                                  Should I buy tiago?          8\n7                       How can I be a good geologist?          2\n8                  When do you use ã‚· instead of ã—?          8\n9    Motorola (company): Can I hack my Charter Moto...          3\n10   Method to find separation of slits using fresn...          3\n11         How do I read and find my YouTube comments?          8\n12                What can make Physics easy to learn?          8\n13         What was your first sexual experience like?          7\n14   What are the laws to change your status from a...          2\n15   What would a Trump presidency mean for current...          4\n16                        What does manipulation mean?          1\n17   Why do girls want to be friends with the guy t...          6\n18   Why are so many Quora users posting questions ...          6\n19   Which is the best digital marketing institutio...          5\n20                          Why do rockets look white?          2\n21               What's causing someone to be jealous?          3\n22     What are the questions should not ask on Quora?          9\n23                            How much is 30 kV in HP?          3\n24   What does it mean that every time I look at th...          1\n25   What are some tips on making it through the jo...          6\n26                            What is web application?          3\n27   Does society place too much importance on sports?          8\n28              What is best way to make money online?          7\n29              How should I prepare for CA final law?          1\n..                                                 ...        ...\n970  Considering your position as Secretary of Stat...          4\n971       What exactly is MIKE2.0 (in layman's terms)?          5\n972  Why don't buffalo and the like evolve to band ...          8\n973          Where can I find a hacker for good cause?          2\n974  How can I change my snapdeal account's mobile ...          5\n975  What are some tips on making it through the jo...          6\n976  What are the main imports and exports of Venez...          9\n977  How did Lucifer and Gabrielle relate to each o...          9\n978                What are some good movies to watch?          9\n979  How do I install Cydia without jailbreak on iO...          2\n980           What can I do to get a job at Microsoft?          1\n981    Why is 'fahrenheit 451'  perceived as dystopia?          4\n982  What is your review of Love in Thoughts (2004 ...          8\n983  Is it physically possible to travel back in time?          8\n984  Why am I only awkward with some people but not...          1\n985     How do I recover deleted messages in Facebook?          1\n986            How is the compensation system in Uber?          6\n987  Is it feasible for Flipkart to offer an EMI on...          4\n988  How do I define tasks vs milestones vs deliver...          4\n989                    Life can be boring. What to do?          3\n990               Where can I buy meldonium in Canada?          2\n991        What would be a cool way to commit suicide?          8\n992  I accidentally took my blood pressure medicine...          1\n993             Do you have any paranormal experience?          5\n994  Which 2G Band (900/1800Mhz) was sold during 2G...          4\n995  I am a straight A student but have no motivati...          3\n996  Which is the best shares to purchase and sale ...          2\n997  I and my girlfriends private partstouched each...          9\n998  Could we use cherenkov atmosphere radiation (w...          7\n999               What is a good song for lyric prank?          6\n\n[1000 rows x 2 columns]",
      "text/html": "<div>\n<style scoped>\n    .dataframe tbody tr th:only-of-type {\n        vertical-align: middle;\n    }\n\n    .dataframe tbody tr th {\n        vertical-align: top;\n    }\n\n    .dataframe thead th {\n        text-align: right;\n    }\n</style>\n<table border=\"1\" class=\"dataframe\">\n  <thead>\n    <tr style=\"text-align: right;\">\n      <th></th>\n      <th>question</th>\n      <th>topic_num</th>\n    </tr>\n  </thead>\n  <tbody>\n    <tr>\n      <th>0</th>\n      <td>What is the step by step guide to invest in sh...</td>\n      <td>1</td>\n    </tr>\n    <tr>\n      <th>1</th>\n      <td>What is the story of Kohinoor (Koh-i-Noor) Dia...</td>\n      <td>6</td>\n    </tr>\n    <tr>\n      <th>2</th>\n      <td>How can I increase the speed of my internet co...</td>\n      <td>7</td>\n    </tr>\n    <tr>\n      <th>3</th>\n      <td>Why am I mentally very lonely? How can I solve...</td>\n      <td>9</td>\n    </tr>\n    <tr>\n      <th>4</th>\n      <td>Which one dissolve in water quikly sugar, salt...</td>\n      <td>7</td>\n    </tr>\n    <tr>\n      <th>5</th>\n      <td>Astrology: I am a Capricorn Sun Cap moon and c...</td>\n      <td>7</td>\n    </tr>\n    <tr>\n      <th>6</th>\n      <td>Should I buy tiago?</td>\n      <td>8</td>\n    </tr>\n    <tr>\n      <th>7</th>\n      <td>How can I be a good geologist?</td>\n      <td>2</td>\n    </tr>\n    <tr>\n      <th>8</th>\n      <td>When do you use ã‚· instead of ã—?</td>\n      <td>8</td>\n    </tr>\n    <tr>\n      <th>9</th>\n      <td>Motorola (company): Can I hack my Charter Moto...</td>\n      <td>3</td>\n    </tr>\n    <tr>\n      <th>10</th>\n      <td>Method to find separation of slits using fresn...</td>\n      <td>3</td>\n    </tr>\n    <tr>\n      <th>11</th>\n      <td>How do I read and find my YouTube comments?</td>\n      <td>8</td>\n    </tr>\n    <tr>\n      <th>12</th>\n      <td>What can make Physics easy to learn?</td>\n      <td>8</td>\n    </tr>\n    <tr>\n      <th>13</th>\n      <td>What was your first sexual experience like?</td>\n      <td>7</td>\n    </tr>\n    <tr>\n      <th>14</th>\n      <td>What are the laws to change your status from a...</td>\n      <td>2</td>\n    </tr>\n    <tr>\n      <th>15</th>\n      <td>What would a Trump presidency mean for current...</td>\n      <td>4</td>\n    </tr>\n    <tr>\n      <th>16</th>\n      <td>What does manipulation mean?</td>\n      <td>1</td>\n    </tr>\n    <tr>\n      <th>17</th>\n      <td>Why do girls want to be friends with the guy t...</td>\n      <td>6</td>\n    </tr>\n    <tr>\n      <th>18</th>\n      <td>Why are so many Quora users posting questions ...</td>\n      <td>6</td>\n    </tr>\n    <tr>\n      <th>19</th>\n      <td>Which is the best digital marketing institutio...</td>\n      <td>5</td>\n    </tr>\n    <tr>\n      <th>20</th>\n      <td>Why do rockets look white?</td>\n      <td>2</td>\n    </tr>\n    <tr>\n      <th>21</th>\n      <td>What's causing someone to be jealous?</td>\n      <td>3</td>\n    </tr>\n    <tr>\n      <th>22</th>\n      <td>What are the questions should not ask on Quora?</td>\n      <td>9</td>\n    </tr>\n    <tr>\n      <th>23</th>\n      <td>How much is 30 kV in HP?</td>\n      <td>3</td>\n    </tr>\n    <tr>\n      <th>24</th>\n      <td>What does it mean that every time I look at th...</td>\n      <td>1</td>\n    </tr>\n    <tr>\n      <th>25</th>\n      <td>What are some tips on making it through the jo...</td>\n      <td>6</td>\n    </tr>\n    <tr>\n      <th>26</th>\n      <td>What is web application?</td>\n      <td>3</td>\n    </tr>\n    <tr>\n      <th>27</th>\n      <td>Does society place too much importance on sports?</td>\n      <td>8</td>\n    </tr>\n    <tr>\n      <th>28</th>\n      <td>What is best way to make money online?</td>\n      <td>7</td>\n    </tr>\n    <tr>\n      <th>29</th>\n      <td>How should I prepare for CA final law?</td>\n      <td>1</td>\n    </tr>\n    <tr>\n      <th>...</th>\n      <td>...</td>\n      <td>...</td>\n    </tr>\n    <tr>\n      <th>970</th>\n      <td>Considering your position as Secretary of Stat...</td>\n      <td>4</td>\n    </tr>\n    <tr>\n      <th>971</th>\n      <td>What exactly is MIKE2.0 (in layman's terms)?</td>\n      <td>5</td>\n    </tr>\n    <tr>\n      <th>972</th>\n      <td>Why don't buffalo and the like evolve to band ...</td>\n      <td>8</td>\n    </tr>\n    <tr>\n      <th>973</th>\n      <td>Where can I find a hacker for good cause?</td>\n      <td>2</td>\n    </tr>\n    <tr>\n      <th>974</th>\n      <td>How can I change my snapdeal account's mobile ...</td>\n      <td>5</td>\n    </tr>\n    <tr>\n      <th>975</th>\n      <td>What are some tips on making it through the jo...</td>\n      <td>6</td>\n    </tr>\n    <tr>\n      <th>976</th>\n      <td>What are the main imports and exports of Venez...</td>\n      <td>9</td>\n    </tr>\n    <tr>\n      <th>977</th>\n      <td>How did Lucifer and Gabrielle relate to each o...</td>\n      <td>9</td>\n    </tr>\n    <tr>\n      <th>978</th>\n      <td>What are some good movies to watch?</td>\n      <td>9</td>\n    </tr>\n    <tr>\n      <th>979</th>\n      <td>How do I install Cydia without jailbreak on iO...</td>\n      <td>2</td>\n    </tr>\n    <tr>\n      <th>980</th>\n      <td>What can I do to get a job at Microsoft?</td>\n      <td>1</td>\n    </tr>\n    <tr>\n      <th>981</th>\n      <td>Why is 'fahrenheit 451'  perceived as dystopia?</td>\n      <td>4</td>\n    </tr>\n    <tr>\n      <th>982</th>\n      <td>What is your review of Love in Thoughts (2004 ...</td>\n      <td>8</td>\n    </tr>\n    <tr>\n      <th>983</th>\n      <td>Is it physically possible to travel back in time?</td>\n      <td>8</td>\n    </tr>\n    <tr>\n      <th>984</th>\n      <td>Why am I only awkward with some people but not...</td>\n      <td>1</td>\n    </tr>\n    <tr>\n      <th>985</th>\n      <td>How do I recover deleted messages in Facebook?</td>\n      <td>1</td>\n    </tr>\n    <tr>\n      <th>986</th>\n      <td>How is the compensation system in Uber?</td>\n      <td>6</td>\n    </tr>\n    <tr>\n      <th>987</th>\n      <td>Is it feasible for Flipkart to offer an EMI on...</td>\n      <td>4</td>\n    </tr>\n    <tr>\n      <th>988</th>\n      <td>How do I define tasks vs milestones vs deliver...</td>\n      <td>4</td>\n    </tr>\n    <tr>\n      <th>989</th>\n      <td>Life can be boring. What to do?</td>\n      <td>3</td>\n    </tr>\n    <tr>\n      <th>990</th>\n      <td>Where can I buy meldonium in Canada?</td>\n      <td>2</td>\n    </tr>\n    <tr>\n      <th>991</th>\n      <td>What would be a cool way to commit suicide?</td>\n      <td>8</td>\n    </tr>\n    <tr>\n      <th>992</th>\n      <td>I accidentally took my blood pressure medicine...</td>\n      <td>1</td>\n    </tr>\n    <tr>\n      <th>993</th>\n      <td>Do you have any paranormal experience?</td>\n      <td>5</td>\n    </tr>\n    <tr>\n      <th>994</th>\n      <td>Which 2G Band (900/1800Mhz) was sold during 2G...</td>\n      <td>4</td>\n    </tr>\n    <tr>\n      <th>995</th>\n      <td>I am a straight A student but have no motivati...</td>\n      <td>3</td>\n    </tr>\n    <tr>\n      <th>996</th>\n      <td>Which is the best shares to purchase and sale ...</td>\n      <td>2</td>\n    </tr>\n    <tr>\n      <th>997</th>\n      <td>I and my girlfriends private partstouched each...</td>\n      <td>9</td>\n    </tr>\n    <tr>\n      <th>998</th>\n      <td>Could we use cherenkov atmosphere radiation (w...</td>\n      <td>7</td>\n    </tr>\n    <tr>\n      <th>999</th>\n      <td>What is a good song for lyric prank?</td>\n      <td>6</td>\n    </tr>\n  </tbody>\n</table>\n<p>1000 rows × 2 columns</p>\n</div>"
     },
     "metadata": {},
     "execution_count": 115
    }
   ],
   "source": [
    "df"
   ]
  },
  {
   "cell_type": "code",
   "execution_count": 116,
   "metadata": {},
   "outputs": [
    {
     "output_type": "execute_result",
     "data": {
      "text/plain": "                                              question  topic_num\n951  Which are the best part-time jobs to do in Ban...          0\n856      What does it mean if a dog vomits white foam?          0\n288              How do you deal with a fear of dying?          0\n399     How do I pass a drug test for methamphetamine?          0\n311              What are some unwritten rules in USA?          0",
      "text/html": "<div>\n<style scoped>\n    .dataframe tbody tr th:only-of-type {\n        vertical-align: middle;\n    }\n\n    .dataframe tbody tr th {\n        vertical-align: top;\n    }\n\n    .dataframe thead th {\n        text-align: right;\n    }\n</style>\n<table border=\"1\" class=\"dataframe\">\n  <thead>\n    <tr style=\"text-align: right;\">\n      <th></th>\n      <th>question</th>\n      <th>topic_num</th>\n    </tr>\n  </thead>\n  <tbody>\n    <tr>\n      <th>951</th>\n      <td>Which are the best part-time jobs to do in Ban...</td>\n      <td>0</td>\n    </tr>\n    <tr>\n      <th>856</th>\n      <td>What does it mean if a dog vomits white foam?</td>\n      <td>0</td>\n    </tr>\n    <tr>\n      <th>288</th>\n      <td>How do you deal with a fear of dying?</td>\n      <td>0</td>\n    </tr>\n    <tr>\n      <th>399</th>\n      <td>How do I pass a drug test for methamphetamine?</td>\n      <td>0</td>\n    </tr>\n    <tr>\n      <th>311</th>\n      <td>What are some unwritten rules in USA?</td>\n      <td>0</td>\n    </tr>\n  </tbody>\n</table>\n</div>"
     },
     "metadata": {},
     "execution_count": 116
    }
   ],
   "source": [
    "df.loc[df['topic_num'] == 0].sample(5)"
   ]
  },
  {
   "cell_type": "code",
   "execution_count": 118,
   "metadata": {},
   "outputs": [
    {
     "output_type": "execute_result",
     "data": {
      "text/plain": "                                              question  topic_num\n187  What would happen if you cover one of your eye...          1\n180            How do you get deleted Instagram chats?          1\n858  How is the job situation in New Zealand for co...          1\n738  Why is it that every teen girl has a crush on ...          1\n352  How do I send message from one Android phone t...          1",
      "text/html": "<div>\n<style scoped>\n    .dataframe tbody tr th:only-of-type {\n        vertical-align: middle;\n    }\n\n    .dataframe tbody tr th {\n        vertical-align: top;\n    }\n\n    .dataframe thead th {\n        text-align: right;\n    }\n</style>\n<table border=\"1\" class=\"dataframe\">\n  <thead>\n    <tr style=\"text-align: right;\">\n      <th></th>\n      <th>question</th>\n      <th>topic_num</th>\n    </tr>\n  </thead>\n  <tbody>\n    <tr>\n      <th>187</th>\n      <td>What would happen if you cover one of your eye...</td>\n      <td>1</td>\n    </tr>\n    <tr>\n      <th>180</th>\n      <td>How do you get deleted Instagram chats?</td>\n      <td>1</td>\n    </tr>\n    <tr>\n      <th>858</th>\n      <td>How is the job situation in New Zealand for co...</td>\n      <td>1</td>\n    </tr>\n    <tr>\n      <th>738</th>\n      <td>Why is it that every teen girl has a crush on ...</td>\n      <td>1</td>\n    </tr>\n    <tr>\n      <th>352</th>\n      <td>How do I send message from one Android phone t...</td>\n      <td>1</td>\n    </tr>\n  </tbody>\n</table>\n</div>"
     },
     "metadata": {},
     "execution_count": 118
    }
   ],
   "source": [
    "df.loc[df['topic_num'] == 1].sample(5)"
   ]
  },
  {
   "cell_type": "code",
   "execution_count": 119,
   "metadata": {},
   "outputs": [
    {
     "output_type": "execute_result",
     "data": {
      "text/plain": "                                              question  topic_num\n52                               Nd she is always sad?          2\n624  What are cheap and budget stay options in Nort...          2\n345  What is the VTU 1st sem exam time table of 201...          2\n353    What are the most important books ever written?          2\n482              What are some cute shounen ai series?          2",
      "text/html": "<div>\n<style scoped>\n    .dataframe tbody tr th:only-of-type {\n        vertical-align: middle;\n    }\n\n    .dataframe tbody tr th {\n        vertical-align: top;\n    }\n\n    .dataframe thead th {\n        text-align: right;\n    }\n</style>\n<table border=\"1\" class=\"dataframe\">\n  <thead>\n    <tr style=\"text-align: right;\">\n      <th></th>\n      <th>question</th>\n      <th>topic_num</th>\n    </tr>\n  </thead>\n  <tbody>\n    <tr>\n      <th>52</th>\n      <td>Nd she is always sad?</td>\n      <td>2</td>\n    </tr>\n    <tr>\n      <th>624</th>\n      <td>What are cheap and budget stay options in Nort...</td>\n      <td>2</td>\n    </tr>\n    <tr>\n      <th>345</th>\n      <td>What is the VTU 1st sem exam time table of 201...</td>\n      <td>2</td>\n    </tr>\n    <tr>\n      <th>353</th>\n      <td>What are the most important books ever written?</td>\n      <td>2</td>\n    </tr>\n    <tr>\n      <th>482</th>\n      <td>What are some cute shounen ai series?</td>\n      <td>2</td>\n    </tr>\n  </tbody>\n</table>\n</div>"
     },
     "metadata": {},
     "execution_count": 119
    }
   ],
   "source": [
    "df.loc[df['topic_num'] == 2].sample(5)"
   ]
  },
  {
   "cell_type": "code",
   "execution_count": 120,
   "metadata": {},
   "outputs": [
    {
     "output_type": "execute_result",
     "data": {
      "text/plain": "                                              question  topic_num\n67     Can we ever store energy produced in lightning?          3\n910                   Why have I been so angry lately?          3\n259  What will happen if I cancel TQWL tickets befo...          3\n756             How can I calculate 72 hours from now?          3\n43   Is being a good kid and not being a rebel wort...          3",
      "text/html": "<div>\n<style scoped>\n    .dataframe tbody tr th:only-of-type {\n        vertical-align: middle;\n    }\n\n    .dataframe tbody tr th {\n        vertical-align: top;\n    }\n\n    .dataframe thead th {\n        text-align: right;\n    }\n</style>\n<table border=\"1\" class=\"dataframe\">\n  <thead>\n    <tr style=\"text-align: right;\">\n      <th></th>\n      <th>question</th>\n      <th>topic_num</th>\n    </tr>\n  </thead>\n  <tbody>\n    <tr>\n      <th>67</th>\n      <td>Can we ever store energy produced in lightning?</td>\n      <td>3</td>\n    </tr>\n    <tr>\n      <th>910</th>\n      <td>Why have I been so angry lately?</td>\n      <td>3</td>\n    </tr>\n    <tr>\n      <th>259</th>\n      <td>What will happen if I cancel TQWL tickets befo...</td>\n      <td>3</td>\n    </tr>\n    <tr>\n      <th>756</th>\n      <td>How can I calculate 72 hours from now?</td>\n      <td>3</td>\n    </tr>\n    <tr>\n      <th>43</th>\n      <td>Is being a good kid and not being a rebel wort...</td>\n      <td>3</td>\n    </tr>\n  </tbody>\n</table>\n</div>"
     },
     "metadata": {},
     "execution_count": 120
    }
   ],
   "source": [
    "df.loc[df['topic_num'] == 3].sample(5)"
   ]
  },
  {
   "cell_type": "code",
   "execution_count": 121,
   "metadata": {},
   "outputs": [
    {
     "output_type": "execute_result",
     "data": {
      "text/plain": "                                              question  topic_num\n772  What is the main difference between socialism ...          4\n808  What are the differences between larceny and r...          4\n471     Is it wrong for me to be content with my life?          4\n942            Can I overdraft my Wells Fargo account?          4\n230  How many Champions are there in League of Lege...          4",
      "text/html": "<div>\n<style scoped>\n    .dataframe tbody tr th:only-of-type {\n        vertical-align: middle;\n    }\n\n    .dataframe tbody tr th {\n        vertical-align: top;\n    }\n\n    .dataframe thead th {\n        text-align: right;\n    }\n</style>\n<table border=\"1\" class=\"dataframe\">\n  <thead>\n    <tr style=\"text-align: right;\">\n      <th></th>\n      <th>question</th>\n      <th>topic_num</th>\n    </tr>\n  </thead>\n  <tbody>\n    <tr>\n      <th>772</th>\n      <td>What is the main difference between socialism ...</td>\n      <td>4</td>\n    </tr>\n    <tr>\n      <th>808</th>\n      <td>What are the differences between larceny and r...</td>\n      <td>4</td>\n    </tr>\n    <tr>\n      <th>471</th>\n      <td>Is it wrong for me to be content with my life?</td>\n      <td>4</td>\n    </tr>\n    <tr>\n      <th>942</th>\n      <td>Can I overdraft my Wells Fargo account?</td>\n      <td>4</td>\n    </tr>\n    <tr>\n      <th>230</th>\n      <td>How many Champions are there in League of Lege...</td>\n      <td>4</td>\n    </tr>\n  </tbody>\n</table>\n</div>"
     },
     "metadata": {},
     "execution_count": 121
    }
   ],
   "source": [
    "df.loc[df['topic_num'] == 4].sample(5)"
   ]
  },
  {
   "cell_type": "code",
   "execution_count": 122,
   "metadata": {},
   "outputs": [
    {
     "output_type": "execute_result",
     "data": {
      "text/plain": "                                              question  topic_num\n692                 In C++, what are access modifiers?          5\n971       What exactly is MIKE2.0 (in layman's terms)?          5\n736      What are the multiple uses of hollow columns?          5\n527  What are the best places to recommend foreigne...          5\n274  How do you feel when someone upvotes your answ...          5",
      "text/html": "<div>\n<style scoped>\n    .dataframe tbody tr th:only-of-type {\n        vertical-align: middle;\n    }\n\n    .dataframe tbody tr th {\n        vertical-align: top;\n    }\n\n    .dataframe thead th {\n        text-align: right;\n    }\n</style>\n<table border=\"1\" class=\"dataframe\">\n  <thead>\n    <tr style=\"text-align: right;\">\n      <th></th>\n      <th>question</th>\n      <th>topic_num</th>\n    </tr>\n  </thead>\n  <tbody>\n    <tr>\n      <th>692</th>\n      <td>In C++, what are access modifiers?</td>\n      <td>5</td>\n    </tr>\n    <tr>\n      <th>971</th>\n      <td>What exactly is MIKE2.0 (in layman's terms)?</td>\n      <td>5</td>\n    </tr>\n    <tr>\n      <th>736</th>\n      <td>What are the multiple uses of hollow columns?</td>\n      <td>5</td>\n    </tr>\n    <tr>\n      <th>527</th>\n      <td>What are the best places to recommend foreigne...</td>\n      <td>5</td>\n    </tr>\n    <tr>\n      <th>274</th>\n      <td>How do you feel when someone upvotes your answ...</td>\n      <td>5</td>\n    </tr>\n  </tbody>\n</table>\n</div>"
     },
     "metadata": {},
     "execution_count": 122
    }
   ],
   "source": [
    "df.loc[df['topic_num'] == 5].sample(5)"
   ]
  },
  {
   "cell_type": "code",
   "execution_count": 123,
   "metadata": {},
   "outputs": [
    {
     "output_type": "execute_result",
     "data": {
      "text/plain": "                                              question  topic_num\n731                          Why did Venuetastic fail?          6\n821      What's the meaning of \"I gotta take a shit!\"?          6\n722                  How will I contact a good hacker?          6\n61   Is it normal to have a dark ring around the ir...          6\n653          Is (male) circumcision required in Islam?          6",
      "text/html": "<div>\n<style scoped>\n    .dataframe tbody tr th:only-of-type {\n        vertical-align: middle;\n    }\n\n    .dataframe tbody tr th {\n        vertical-align: top;\n    }\n\n    .dataframe thead th {\n        text-align: right;\n    }\n</style>\n<table border=\"1\" class=\"dataframe\">\n  <thead>\n    <tr style=\"text-align: right;\">\n      <th></th>\n      <th>question</th>\n      <th>topic_num</th>\n    </tr>\n  </thead>\n  <tbody>\n    <tr>\n      <th>731</th>\n      <td>Why did Venuetastic fail?</td>\n      <td>6</td>\n    </tr>\n    <tr>\n      <th>821</th>\n      <td>What's the meaning of \"I gotta take a shit!\"?</td>\n      <td>6</td>\n    </tr>\n    <tr>\n      <th>722</th>\n      <td>How will I contact a good hacker?</td>\n      <td>6</td>\n    </tr>\n    <tr>\n      <th>61</th>\n      <td>Is it normal to have a dark ring around the ir...</td>\n      <td>6</td>\n    </tr>\n    <tr>\n      <th>653</th>\n      <td>Is (male) circumcision required in Islam?</td>\n      <td>6</td>\n    </tr>\n  </tbody>\n</table>\n</div>"
     },
     "metadata": {},
     "execution_count": 123
    }
   ],
   "source": [
    "df.loc[df['topic_num'] == 6].sample(5)"
   ]
  },
  {
   "cell_type": "code",
   "execution_count": 124,
   "metadata": {},
   "outputs": [
    {
     "output_type": "execute_result",
     "data": {
      "text/plain": "                                              question  topic_num\n13         What was your first sexual experience like?          7\n560  What are some common facts every mechanical en...          7\n119  Should the toothbrush be wet or dry before app...          7\n541  Is it necessary to unlock bootloader before ro...          7\n737       Which are some commonly mispronounced words?          7",
      "text/html": "<div>\n<style scoped>\n    .dataframe tbody tr th:only-of-type {\n        vertical-align: middle;\n    }\n\n    .dataframe tbody tr th {\n        vertical-align: top;\n    }\n\n    .dataframe thead th {\n        text-align: right;\n    }\n</style>\n<table border=\"1\" class=\"dataframe\">\n  <thead>\n    <tr style=\"text-align: right;\">\n      <th></th>\n      <th>question</th>\n      <th>topic_num</th>\n    </tr>\n  </thead>\n  <tbody>\n    <tr>\n      <th>13</th>\n      <td>What was your first sexual experience like?</td>\n      <td>7</td>\n    </tr>\n    <tr>\n      <th>560</th>\n      <td>What are some common facts every mechanical en...</td>\n      <td>7</td>\n    </tr>\n    <tr>\n      <th>119</th>\n      <td>Should the toothbrush be wet or dry before app...</td>\n      <td>7</td>\n    </tr>\n    <tr>\n      <th>541</th>\n      <td>Is it necessary to unlock bootloader before ro...</td>\n      <td>7</td>\n    </tr>\n    <tr>\n      <th>737</th>\n      <td>Which are some commonly mispronounced words?</td>\n      <td>7</td>\n    </tr>\n  </tbody>\n</table>\n</div>"
     },
     "metadata": {},
     "execution_count": 124
    }
   ],
   "source": [
    "df.loc[df['topic_num'] == 7].sample(5)"
   ]
  },
  {
   "cell_type": "code",
   "execution_count": 125,
   "metadata": {},
   "outputs": [
    {
     "output_type": "execute_result",
     "data": {
      "text/plain": "                                              question  topic_num\n354  What universities does Sigma Designs recruit n...          8\n402  Do cricket players really drink tea on a tea b...          8\n592                       How is time travel possible?          8\n427  How can the drive from Brooklyn to Staten Isla...          8\n45   What is the quickest way to increase Instagram...          8",
      "text/html": "<div>\n<style scoped>\n    .dataframe tbody tr th:only-of-type {\n        vertical-align: middle;\n    }\n\n    .dataframe tbody tr th {\n        vertical-align: top;\n    }\n\n    .dataframe thead th {\n        text-align: right;\n    }\n</style>\n<table border=\"1\" class=\"dataframe\">\n  <thead>\n    <tr style=\"text-align: right;\">\n      <th></th>\n      <th>question</th>\n      <th>topic_num</th>\n    </tr>\n  </thead>\n  <tbody>\n    <tr>\n      <th>354</th>\n      <td>What universities does Sigma Designs recruit n...</td>\n      <td>8</td>\n    </tr>\n    <tr>\n      <th>402</th>\n      <td>Do cricket players really drink tea on a tea b...</td>\n      <td>8</td>\n    </tr>\n    <tr>\n      <th>592</th>\n      <td>How is time travel possible?</td>\n      <td>8</td>\n    </tr>\n    <tr>\n      <th>427</th>\n      <td>How can the drive from Brooklyn to Staten Isla...</td>\n      <td>8</td>\n    </tr>\n    <tr>\n      <th>45</th>\n      <td>What is the quickest way to increase Instagram...</td>\n      <td>8</td>\n    </tr>\n  </tbody>\n</table>\n</div>"
     },
     "metadata": {},
     "execution_count": 125
    }
   ],
   "source": [
    "df.loc[df['topic_num'] == 8].sample(5)"
   ]
  },
  {
   "cell_type": "code",
   "execution_count": 126,
   "metadata": {},
   "outputs": [
    {
     "output_type": "execute_result",
     "data": {
      "text/plain": "                                              question  topic_num\n173  Does anyone see the relation between Greek god...          9\n829  What are common required and elective courses ...          9\n865  What is the main reason for all the problems i...          9\n917               Does all Muslims hate Narendra Modi?          9\n3    Why am I mentally very lonely? How can I solve...          9",
      "text/html": "<div>\n<style scoped>\n    .dataframe tbody tr th:only-of-type {\n        vertical-align: middle;\n    }\n\n    .dataframe tbody tr th {\n        vertical-align: top;\n    }\n\n    .dataframe thead th {\n        text-align: right;\n    }\n</style>\n<table border=\"1\" class=\"dataframe\">\n  <thead>\n    <tr style=\"text-align: right;\">\n      <th></th>\n      <th>question</th>\n      <th>topic_num</th>\n    </tr>\n  </thead>\n  <tbody>\n    <tr>\n      <th>173</th>\n      <td>Does anyone see the relation between Greek god...</td>\n      <td>9</td>\n    </tr>\n    <tr>\n      <th>829</th>\n      <td>What are common required and elective courses ...</td>\n      <td>9</td>\n    </tr>\n    <tr>\n      <th>865</th>\n      <td>What is the main reason for all the problems i...</td>\n      <td>9</td>\n    </tr>\n    <tr>\n      <th>917</th>\n      <td>Does all Muslims hate Narendra Modi?</td>\n      <td>9</td>\n    </tr>\n    <tr>\n      <th>3</th>\n      <td>Why am I mentally very lonely? How can I solve...</td>\n      <td>9</td>\n    </tr>\n  </tbody>\n</table>\n</div>"
     },
     "metadata": {},
     "execution_count": 126
    }
   ],
   "source": [
    "df.loc[df['topic_num'] == 9].sample(5)"
   ]
  },
  {
   "cell_type": "code",
   "execution_count": 128,
   "metadata": {},
   "outputs": [],
   "source": [
    "topic_list = {0: \"Opinions\", \n",
    "              1: \"Recreation, Sports, Travel, and Activities\", \n",
    "              2: \"Quora\", \n",
    "              3: \"Finances/Earning Money\", \n",
    "              4: \"Life\", \n",
    "              5: \"World Politics\", \n",
    "              6: \"Learning, Programming, and Education\", \n",
    "              7: \"US Presedential Elections\", \n",
    "              8: \"Career and Motivation\", \n",
    "              9: \"Relationship\"}\n",
    "\n",
    "topic = df[\"topic_num\"].map(topic_list)\n",
    "df[\"topic\"] = topic"
   ]
  },
  {
   "cell_type": "code",
   "execution_count": 129,
   "metadata": {},
   "outputs": [
    {
     "output_type": "execute_result",
     "data": {
      "text/plain": "                                             question  topic_num  \\\n0   What is the step by step guide to invest in sh...          1   \n1   What is the story of Kohinoor (Koh-i-Noor) Dia...          6   \n2   How can I increase the speed of my internet co...          7   \n3   Why am I mentally very lonely? How can I solve...          9   \n4   Which one dissolve in water quikly sugar, salt...          7   \n5   Astrology: I am a Capricorn Sun Cap moon and c...          7   \n6                                 Should I buy tiago?          8   \n7                      How can I be a good geologist?          2   \n8                 When do you use ã‚· instead of ã—?          8   \n9   Motorola (company): Can I hack my Charter Moto...          3   \n10  Method to find separation of slits using fresn...          3   \n11        How do I read and find my YouTube comments?          8   \n12               What can make Physics easy to learn?          8   \n13        What was your first sexual experience like?          7   \n14  What are the laws to change your status from a...          2   \n15  What would a Trump presidency mean for current...          4   \n16                       What does manipulation mean?          1   \n17  Why do girls want to be friends with the guy t...          6   \n18  Why are so many Quora users posting questions ...          6   \n19  Which is the best digital marketing institutio...          5   \n20                         Why do rockets look white?          2   \n21              What's causing someone to be jealous?          3   \n22    What are the questions should not ask on Quora?          9   \n23                           How much is 30 kV in HP?          3   \n24  What does it mean that every time I look at th...          1   \n\n                                         topic  \n0   Recreation, Sports, Travel, and Activities  \n1         Learning, Programming, and Education  \n2                    US Presedential Elections  \n3                                 Relationship  \n4                    US Presedential Elections  \n5                    US Presedential Elections  \n6                        Career and Motivation  \n7                                        Quora  \n8                        Career and Motivation  \n9                       Finances/Earning Money  \n10                      Finances/Earning Money  \n11                       Career and Motivation  \n12                       Career and Motivation  \n13                   US Presedential Elections  \n14                                       Quora  \n15                                        Life  \n16  Recreation, Sports, Travel, and Activities  \n17        Learning, Programming, and Education  \n18        Learning, Programming, and Education  \n19                              World Politics  \n20                                       Quora  \n21                      Finances/Earning Money  \n22                                Relationship  \n23                      Finances/Earning Money  \n24  Recreation, Sports, Travel, and Activities  ",
      "text/html": "<div>\n<style scoped>\n    .dataframe tbody tr th:only-of-type {\n        vertical-align: middle;\n    }\n\n    .dataframe tbody tr th {\n        vertical-align: top;\n    }\n\n    .dataframe thead th {\n        text-align: right;\n    }\n</style>\n<table border=\"1\" class=\"dataframe\">\n  <thead>\n    <tr style=\"text-align: right;\">\n      <th></th>\n      <th>question</th>\n      <th>topic_num</th>\n      <th>topic</th>\n    </tr>\n  </thead>\n  <tbody>\n    <tr>\n      <th>0</th>\n      <td>What is the step by step guide to invest in sh...</td>\n      <td>1</td>\n      <td>Recreation, Sports, Travel, and Activities</td>\n    </tr>\n    <tr>\n      <th>1</th>\n      <td>What is the story of Kohinoor (Koh-i-Noor) Dia...</td>\n      <td>6</td>\n      <td>Learning, Programming, and Education</td>\n    </tr>\n    <tr>\n      <th>2</th>\n      <td>How can I increase the speed of my internet co...</td>\n      <td>7</td>\n      <td>US Presedential Elections</td>\n    </tr>\n    <tr>\n      <th>3</th>\n      <td>Why am I mentally very lonely? How can I solve...</td>\n      <td>9</td>\n      <td>Relationship</td>\n    </tr>\n    <tr>\n      <th>4</th>\n      <td>Which one dissolve in water quikly sugar, salt...</td>\n      <td>7</td>\n      <td>US Presedential Elections</td>\n    </tr>\n    <tr>\n      <th>5</th>\n      <td>Astrology: I am a Capricorn Sun Cap moon and c...</td>\n      <td>7</td>\n      <td>US Presedential Elections</td>\n    </tr>\n    <tr>\n      <th>6</th>\n      <td>Should I buy tiago?</td>\n      <td>8</td>\n      <td>Career and Motivation</td>\n    </tr>\n    <tr>\n      <th>7</th>\n      <td>How can I be a good geologist?</td>\n      <td>2</td>\n      <td>Quora</td>\n    </tr>\n    <tr>\n      <th>8</th>\n      <td>When do you use ã‚· instead of ã—?</td>\n      <td>8</td>\n      <td>Career and Motivation</td>\n    </tr>\n    <tr>\n      <th>9</th>\n      <td>Motorola (company): Can I hack my Charter Moto...</td>\n      <td>3</td>\n      <td>Finances/Earning Money</td>\n    </tr>\n    <tr>\n      <th>10</th>\n      <td>Method to find separation of slits using fresn...</td>\n      <td>3</td>\n      <td>Finances/Earning Money</td>\n    </tr>\n    <tr>\n      <th>11</th>\n      <td>How do I read and find my YouTube comments?</td>\n      <td>8</td>\n      <td>Career and Motivation</td>\n    </tr>\n    <tr>\n      <th>12</th>\n      <td>What can make Physics easy to learn?</td>\n      <td>8</td>\n      <td>Career and Motivation</td>\n    </tr>\n    <tr>\n      <th>13</th>\n      <td>What was your first sexual experience like?</td>\n      <td>7</td>\n      <td>US Presedential Elections</td>\n    </tr>\n    <tr>\n      <th>14</th>\n      <td>What are the laws to change your status from a...</td>\n      <td>2</td>\n      <td>Quora</td>\n    </tr>\n    <tr>\n      <th>15</th>\n      <td>What would a Trump presidency mean for current...</td>\n      <td>4</td>\n      <td>Life</td>\n    </tr>\n    <tr>\n      <th>16</th>\n      <td>What does manipulation mean?</td>\n      <td>1</td>\n      <td>Recreation, Sports, Travel, and Activities</td>\n    </tr>\n    <tr>\n      <th>17</th>\n      <td>Why do girls want to be friends with the guy t...</td>\n      <td>6</td>\n      <td>Learning, Programming, and Education</td>\n    </tr>\n    <tr>\n      <th>18</th>\n      <td>Why are so many Quora users posting questions ...</td>\n      <td>6</td>\n      <td>Learning, Programming, and Education</td>\n    </tr>\n    <tr>\n      <th>19</th>\n      <td>Which is the best digital marketing institutio...</td>\n      <td>5</td>\n      <td>World Politics</td>\n    </tr>\n    <tr>\n      <th>20</th>\n      <td>Why do rockets look white?</td>\n      <td>2</td>\n      <td>Quora</td>\n    </tr>\n    <tr>\n      <th>21</th>\n      <td>What's causing someone to be jealous?</td>\n      <td>3</td>\n      <td>Finances/Earning Money</td>\n    </tr>\n    <tr>\n      <th>22</th>\n      <td>What are the questions should not ask on Quora?</td>\n      <td>9</td>\n      <td>Relationship</td>\n    </tr>\n    <tr>\n      <th>23</th>\n      <td>How much is 30 kV in HP?</td>\n      <td>3</td>\n      <td>Finances/Earning Money</td>\n    </tr>\n    <tr>\n      <th>24</th>\n      <td>What does it mean that every time I look at th...</td>\n      <td>1</td>\n      <td>Recreation, Sports, Travel, and Activities</td>\n    </tr>\n  </tbody>\n</table>\n</div>"
     },
     "metadata": {},
     "execution_count": 129
    }
   ],
   "source": [
    "df.head(25)"
   ]
  },
  {
   "cell_type": "code",
   "execution_count": null,
   "metadata": {},
   "outputs": [],
   "source": [
    "df.to_csv('lda_modelled.csv')"
   ]
  }
 ],
 "metadata": {
  "kernelspec": {
   "display_name": "Python 3.7.6 64-bit ('AI2_course': conda)",
   "language": "python",
   "name": "python37664bitai2courseconda371d0ac7346d46c683e74ae2ba78d451"
  },
  "language_info": {
   "codemirror_mode": {
    "name": "ipython",
    "version": 3
   },
   "file_extension": ".py",
   "mimetype": "text/x-python",
   "name": "python",
   "nbconvert_exporter": "python",
   "pygments_lexer": "ipython3",
   "version": "3.8.2-final"
  }
 },
 "nbformat": 4,
 "nbformat_minor": 4
}