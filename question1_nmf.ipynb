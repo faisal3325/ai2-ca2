{
 "nbformat": 4,
 "nbformat_minor": 2,
 "metadata": {
  "language_info": {
   "name": "python",
   "codemirror_mode": {
    "name": "ipython",
    "version": 3
   },
   "version": "3.8.2-final"
  },
  "orig_nbformat": 2,
  "file_extension": ".py",
  "mimetype": "text/x-python",
  "name": "python",
  "npconvert_exporter": "python",
  "pygments_lexer": "ipython3",
  "version": 3,
  "kernelspec": {
   "name": "python37664bitai2courseconda371d0ac7346d46c683e74ae2ba78d451",
   "display_name": "Python 3.7.6 64-bit ('AI2_course': conda)"
  }
 },
 "cells": [
  {
   "cell_type": "code",
   "execution_count": 1,
   "metadata": {},
   "outputs": [],
   "source": [
    "# importing libraries\n",
    "import pandas as pd\n",
    "import time\n",
    "import re\n",
    "import string"
   ]
  },
  {
   "cell_type": "code",
   "execution_count": 387,
   "metadata": {},
   "outputs": [],
   "source": [
    "# Helper functions\n",
    "\n",
    "def time_elapsed_start():\n",
    "    return time.time()\n",
    "\n",
    "def time_elapsed_stop(start):\n",
    "    sec = time.time() - start\n",
    "    min = sec/60\n",
    "    hour = min/60\n",
    "    print(f\"Execution took {sec} seconds - ({min} minutes), ({hour} hours)\")\n",
    "\n",
    "def save_model(model, model_name):\n",
    "    # save the model to disk\n",
    "    filename = f'{model_name}.sav'\n",
    "    pickle.dump(model, open(filename, 'wb'))"
   ]
  },
  {
   "cell_type": "code",
   "execution_count": 288,
   "metadata": {},
   "outputs": [],
   "source": [
    "# loading data\n",
    "ROWS_TO_READ = 200000\n",
    "df = pd.read_csv('quora_questions.csv', nrows=ROWS_TO_READ)"
   ]
  },
  {
   "cell_type": "code",
   "execution_count": 289,
   "metadata": {},
   "outputs": [],
   "source": [
    "df.dropna(inplace=True)"
   ]
  },
  {
   "cell_type": "code",
   "execution_count": 290,
   "metadata": {},
   "outputs": [
    {
     "output_type": "execute_result",
     "data": {
      "text/plain": "                                                 question\n168037  Can the brain actually be active for a few min...\n21900   Will I have to return my GATE stipend if I lea...\n21331          What are the best Urdu Kafi Azmi couplets?\n126243             What is the greatest secret of wealth?\n31253   How can I log out from instagram on other devi...",
      "text/html": "<div>\n<style scoped>\n    .dataframe tbody tr th:only-of-type {\n        vertical-align: middle;\n    }\n\n    .dataframe tbody tr th {\n        vertical-align: top;\n    }\n\n    .dataframe thead th {\n        text-align: right;\n    }\n</style>\n<table border=\"1\" class=\"dataframe\">\n  <thead>\n    <tr style=\"text-align: right;\">\n      <th></th>\n      <th>question</th>\n    </tr>\n  </thead>\n  <tbody>\n    <tr>\n      <th>168037</th>\n      <td>Can the brain actually be active for a few min...</td>\n    </tr>\n    <tr>\n      <th>21900</th>\n      <td>Will I have to return my GATE stipend if I lea...</td>\n    </tr>\n    <tr>\n      <th>21331</th>\n      <td>What are the best Urdu Kafi Azmi couplets?</td>\n    </tr>\n    <tr>\n      <th>126243</th>\n      <td>What is the greatest secret of wealth?</td>\n    </tr>\n    <tr>\n      <th>31253</th>\n      <td>How can I log out from instagram on other devi...</td>\n    </tr>\n  </tbody>\n</table>\n</div>"
     },
     "metadata": {},
     "execution_count": 290
    }
   ],
   "source": [
    "df.sample(5)"
   ]
  },
  {
   "cell_type": "code",
   "execution_count": 291,
   "metadata": {},
   "outputs": [
    {
     "output_type": "stream",
     "name": "stdout",
     "text": "Will there really be any war between India and Pakistan over the Uri attack? What will be its effects?\nDid Ronald Reagan have a mannerism in his speech?\nWhat were the war strategies of the Union and the Confederates during the Civil War?\nWhich is the best fiction novel of 2016?\nCan I recover my email if I forgot the password?\nWill the recent demonetisation results in higher GDP? If so how much?\nHave you ever heard of travel hacking?\nWhat's the difference between love and pity?\nHow competitive is the hiring process at Republic Bank?\nHow Google helps in spam ranking adjustment of the search results?\n"
    }
   ],
   "source": [
    "for i in range(100, 110):\n",
    "    print(df['question'][i])"
   ]
  },
  {
   "cell_type": "code",
   "execution_count": 292,
   "metadata": {},
   "outputs": [
    {
     "output_type": "execute_result",
     "data": {
      "text/plain": "                                                 question\n131057            What are the best free plagarism sites?\n113263  How do I see who has watched my story on Snapc...\n70486                What does reddit think of AutoAdmit?\n127787  What is the difference between associate direc...\n36103   What is the difference between SQL Server and ...",
      "text/html": "<div>\n<style scoped>\n    .dataframe tbody tr th:only-of-type {\n        vertical-align: middle;\n    }\n\n    .dataframe tbody tr th {\n        vertical-align: top;\n    }\n\n    .dataframe thead th {\n        text-align: right;\n    }\n</style>\n<table border=\"1\" class=\"dataframe\">\n  <thead>\n    <tr style=\"text-align: right;\">\n      <th></th>\n      <th>question</th>\n    </tr>\n  </thead>\n  <tbody>\n    <tr>\n      <th>131057</th>\n      <td>What are the best free plagarism sites?</td>\n    </tr>\n    <tr>\n      <th>113263</th>\n      <td>How do I see who has watched my story on Snapc...</td>\n    </tr>\n    <tr>\n      <th>70486</th>\n      <td>What does reddit think of AutoAdmit?</td>\n    </tr>\n    <tr>\n      <th>127787</th>\n      <td>What is the difference between associate direc...</td>\n    </tr>\n    <tr>\n      <th>36103</th>\n      <td>What is the difference between SQL Server and ...</td>\n    </tr>\n  </tbody>\n</table>\n</div>"
     },
     "metadata": {},
     "execution_count": 292
    }
   ],
   "source": [
    "df.sample(5)"
   ]
  },
  {
   "cell_type": "code",
   "execution_count": 293,
   "metadata": {},
   "outputs": [
    {
     "output_type": "execute_result",
     "data": {
      "text/plain": "<200000x27884 sparse matrix of type '<class 'numpy.float64'>'\n\twith 981746 stored elements in Compressed Sparse Row format>"
     },
     "metadata": {},
     "execution_count": 293
    }
   ],
   "source": [
    "from sklearn.feature_extraction.text import TfidfVectorizer\n",
    "tfidf = TfidfVectorizer(max_df=0.9, min_df=2, stop_words=\"english\")\n",
    "dtm_with_tfidf = tfidf.fit_transform(df[\"question\"])\n",
    "dtm_with_tfidf_feature_names = tfidf.get_feature_names()\n",
    "dtm_with_tfidf"
   ]
  },
  {
   "cell_type": "code",
   "execution_count": 294,
   "metadata": {},
   "outputs": [],
   "source": [
    "from sklearn.decomposition import NMF"
   ]
  },
  {
   "cell_type": "code",
   "execution_count": 360,
   "metadata": {},
   "outputs": [],
   "source": [
    "nmf_model = NMF(n_components=10, random_state=1)"
   ]
  },
  {
   "cell_type": "code",
   "execution_count": 361,
   "metadata": {},
   "outputs": [
    {
     "output_type": "stream",
     "name": "stdout",
     "text": "Execution took 24.932465076446533 seconds - (0.4155410846074422 minutes), (0.00692568474345737 hours)\n"
    }
   ],
   "source": [
    "start = time_elapsed_start()\n",
    "nmf_model.fit(dtm_with_tfidf)\n",
    "time_elapsed_stop(start)"
   ]
  },
  {
   "cell_type": "code",
   "execution_count": 362,
   "metadata": {},
   "outputs": [
    {
     "output_type": "stream",
     "name": "stdout",
     "text": "Top words for topic 0 are : \n['visit']['places']['phone']['buy']['weight']['time']['laptop']['ways']['movie']['2016']['books']['book']['movies']['way']['best']\n\nTop words for topic 1 are : \n['looking']['look']['exist']['girl']['compare']['cost']['really']['time']['sex']['long']['work']['feel']['like']['mean']['does']\n\nTop words for topic 2 are : \n['use']['answered']['post']['needing']['easily']['improvement']['delete']['asked']['google']['answers']['answer']['ask']['question']['questions']['quora']\n\nTop words for topic 3 are : \n['free']['easiest']['easy']['home']['notes']['500']['1000']['black']['youtube']['ways']['way']['earn']['online']['make']['money']\n\nTop words for topic 4 are : \n['death']['did']['live']['changed']['want']['change']['things']['moment']['real']['day']['thing']['important']['meaning']['purpose']['life']\n\nTop words for topic 5 are : \n['think']['economy']['black']['world']['ban']['banning']['indian']['rupee']['rs']['war']['pakistan']['1000']['notes']['500']['india']\n\nTop words for topic 6 are : \n['did']['languages']['java']['speaking']['writing']['speak']['learning']['skills']['start']['way']['programming']['improve']['language']['english']['learn']\n\nTop words for topic 7 are : \n['presidency']['happen']['presidential']['2016']['think']['vote']['better']['election']['win']['did']['hillary']['president']['clinton']['donald']['trump']\n\nTop words for topic 8 are : \n['songs']['business']['start']['year']['read']['work']['job']['engineering']['bad']['ways']['books']['time']['lose']['weight']['good']\n\nTop words for topic 9 are : \n['hate']['believe']['ask']['mind']['going']['world']['day']['new']['things']['don']['like']['love']['think']['know']['people']\n\n"
    }
   ],
   "source": [
    "word_list = []\n",
    "probability_list = []\n",
    "\n",
    "top_number = 15\n",
    "count = 0\n",
    "for probability_number in nmf_model.components_: # model.components contains the prob of each word for each doc\n",
    "    text_message = f\"Top words for topic {count} are : \"\n",
    "    print(text_message)    \n",
    "    for number in probability_number.argsort()[-top_number:]: # we're only interested in the top words\n",
    "        print([dtm_with_tfidf_feature_names[number]], end= \"\")\n",
    "        word_list.append([dtm_with_tfidf_feature_names[number]])\n",
    "        probability_list.append(number)\n",
    "    #show_chart(word_list, probability_list, text_message)\n",
    "    print(\"\\n\")  \n",
    "    count += 1"
   ]
  },
  {
   "cell_type": "code",
   "execution_count": 363,
   "metadata": {},
   "outputs": [],
   "source": [
    "textfile_topics = nmf_model.transform(dtm_with_tfidf)"
   ]
  },
  {
   "cell_type": "code",
   "execution_count": 364,
   "metadata": {},
   "outputs": [
    {
     "output_type": "execute_result",
     "data": {
      "text/plain": "(200000, 10)"
     },
     "metadata": {},
     "execution_count": 364
    }
   ],
   "source": [
    "textfile_topics.shape"
   ]
  },
  {
   "cell_type": "code",
   "execution_count": 365,
   "metadata": {},
   "outputs": [
    {
     "output_type": "execute_result",
     "data": {
      "text/plain": "5"
     },
     "metadata": {},
     "execution_count": 365
    }
   ],
   "source": [
    "textfile_topics[0].argmax()"
   ]
  },
  {
   "cell_type": "code",
   "execution_count": 366,
   "metadata": {},
   "outputs": [],
   "source": [
    "topic_list = []\n",
    "# Textfile_topics is a list of arrays containing \n",
    "# all index positions of words for each textfile\n",
    "for popular_index_pos in textfile_topics:\n",
    "    # Get the max index position in each array\n",
    "    # and add to the topic_list list\n",
    "    topic_list.append(popular_index_pos.argmax())\n",
    "\n",
    "# Add a new column to the dataframe\n",
    "df[\"topic_num\"] = topic_list"
   ]
  },
  {
   "cell_type": "code",
   "execution_count": 367,
   "metadata": {},
   "outputs": [
    {
     "output_type": "execute_result",
     "data": {
      "text/plain": "                                                 question  topic_num\n0       What is the step by step guide to invest in sh...          5\n1       What is the story of Kohinoor (Koh-i-Noor) Dia...          0\n2       How can I increase the speed of my internet co...          3\n3       Why am I mentally very lonely? How can I solve...          9\n4       Which one dissolve in water quikly sugar, salt...          1\n5       Astrology: I am a Capricorn Sun Cap moon and c...          1\n6                                     Should I buy tiago?          0\n7                          How can I be a good geologist?          8\n8                     When do you use ã‚· instead of ã—?          2\n9       Motorola (company): Can I hack my Charter Moto...          5\n10      Method to find separation of slits using fresn...          2\n11            How do I read and find my YouTube comments?          3\n12                   What can make Physics easy to learn?          6\n13            What was your first sexual experience like?          9\n14      What are the laws to change your status from a...          1\n15      What would a Trump presidency mean for current...          7\n16                           What does manipulation mean?          1\n17      Why do girls want to be friends with the guy t...          9\n18      Why are so many Quora users posting questions ...          2\n19      Which is the best digital marketing institutio...          0\n20                             Why do rockets look white?          9\n21                  What's causing someone to be jealous?          9\n22        What are the questions should not ask on Quora?          2\n23                               How much is 30 kV in HP?          1\n24      What does it mean that every time I look at th...          1\n25      What are some tips on making it through the jo...          8\n26                               What is web application?          6\n27      Does society place too much importance on sports?          1\n28                 What is best way to make money online?          3\n29                 How should I prepare for CA final law?          8\n...                                                   ...        ...\n199970  What are the things that one should do before ...          9\n199971  In a boat double slit experiment does the boat...          1\n199972      Which are the best Tamil songs by A R Rahman?          0\n199973  Which San Francisco restaurant has the best ok...          0\n199974  How can I enable the insert rows option in my ...          8\n199975  What were the effects of Cuban Missile Crisis ...          7\n199976  How do I gain access to a person's instagram p...          9\n199977                    Are VCDs still popular in Asia?          2\n199978  Can we use old 500 and 1000 notes as described...          5\n199979  How can I meet Brits in Toronto, Ontario, Canada?          9\n199980  What are the best ways to prepare for and crac...          0\n199981  How could I get more answers to my questions o...          2\n199982  Why is the USA the only industrialized country...          5\n199983  Why don't videos play automatically in Quora, ...          2\n199984  What user should do when he looses a USA phone...          5\n199985                 Can you have a DRIP using Zerodha?          3\n199986      Should I take ECE at LNMIIT or JIIT (Sec 62)?          8\n199987                           What is web application?          6\n199988  What is the difference between standard deviat...          5\n199989  Who are Top Writers 2012 who did not become To...          7\n199990  How many different types of car brands are there?          9\n199991        Why are people so selfish and hypocritical?          9\n199992  How do I stop my Pit Bull/English Bulldog mix ...          6\n199993  How can I figure out my girlfriendâ€™s ring si...          2\n199994  When people say urine is sterile, what do they...          9\n199995     Why was the Battle of Vimy Ridge so important?          4\n199996       Which of these TV shows should I watch next?          0\n199997                           Should I change my name?          4\n199998  Should I buy the new MacBook 2016 or one from ...          9\n199999          What is your review of Love (2011 movie)?          9\n\n[200000 rows x 2 columns]",
      "text/html": "<div>\n<style scoped>\n    .dataframe tbody tr th:only-of-type {\n        vertical-align: middle;\n    }\n\n    .dataframe tbody tr th {\n        vertical-align: top;\n    }\n\n    .dataframe thead th {\n        text-align: right;\n    }\n</style>\n<table border=\"1\" class=\"dataframe\">\n  <thead>\n    <tr style=\"text-align: right;\">\n      <th></th>\n      <th>question</th>\n      <th>topic_num</th>\n    </tr>\n  </thead>\n  <tbody>\n    <tr>\n      <th>0</th>\n      <td>What is the step by step guide to invest in sh...</td>\n      <td>5</td>\n    </tr>\n    <tr>\n      <th>1</th>\n      <td>What is the story of Kohinoor (Koh-i-Noor) Dia...</td>\n      <td>0</td>\n    </tr>\n    <tr>\n      <th>2</th>\n      <td>How can I increase the speed of my internet co...</td>\n      <td>3</td>\n    </tr>\n    <tr>\n      <th>3</th>\n      <td>Why am I mentally very lonely? How can I solve...</td>\n      <td>9</td>\n    </tr>\n    <tr>\n      <th>4</th>\n      <td>Which one dissolve in water quikly sugar, salt...</td>\n      <td>1</td>\n    </tr>\n    <tr>\n      <th>5</th>\n      <td>Astrology: I am a Capricorn Sun Cap moon and c...</td>\n      <td>1</td>\n    </tr>\n    <tr>\n      <th>6</th>\n      <td>Should I buy tiago?</td>\n      <td>0</td>\n    </tr>\n    <tr>\n      <th>7</th>\n      <td>How can I be a good geologist?</td>\n      <td>8</td>\n    </tr>\n    <tr>\n      <th>8</th>\n      <td>When do you use ã‚· instead of ã—?</td>\n      <td>2</td>\n    </tr>\n    <tr>\n      <th>9</th>\n      <td>Motorola (company): Can I hack my Charter Moto...</td>\n      <td>5</td>\n    </tr>\n    <tr>\n      <th>10</th>\n      <td>Method to find separation of slits using fresn...</td>\n      <td>2</td>\n    </tr>\n    <tr>\n      <th>11</th>\n      <td>How do I read and find my YouTube comments?</td>\n      <td>3</td>\n    </tr>\n    <tr>\n      <th>12</th>\n      <td>What can make Physics easy to learn?</td>\n      <td>6</td>\n    </tr>\n    <tr>\n      <th>13</th>\n      <td>What was your first sexual experience like?</td>\n      <td>9</td>\n    </tr>\n    <tr>\n      <th>14</th>\n      <td>What are the laws to change your status from a...</td>\n      <td>1</td>\n    </tr>\n    <tr>\n      <th>15</th>\n      <td>What would a Trump presidency mean for current...</td>\n      <td>7</td>\n    </tr>\n    <tr>\n      <th>16</th>\n      <td>What does manipulation mean?</td>\n      <td>1</td>\n    </tr>\n    <tr>\n      <th>17</th>\n      <td>Why do girls want to be friends with the guy t...</td>\n      <td>9</td>\n    </tr>\n    <tr>\n      <th>18</th>\n      <td>Why are so many Quora users posting questions ...</td>\n      <td>2</td>\n    </tr>\n    <tr>\n      <th>19</th>\n      <td>Which is the best digital marketing institutio...</td>\n      <td>0</td>\n    </tr>\n    <tr>\n      <th>20</th>\n      <td>Why do rockets look white?</td>\n      <td>9</td>\n    </tr>\n    <tr>\n      <th>21</th>\n      <td>What's causing someone to be jealous?</td>\n      <td>9</td>\n    </tr>\n    <tr>\n      <th>22</th>\n      <td>What are the questions should not ask on Quora?</td>\n      <td>2</td>\n    </tr>\n    <tr>\n      <th>23</th>\n      <td>How much is 30 kV in HP?</td>\n      <td>1</td>\n    </tr>\n    <tr>\n      <th>24</th>\n      <td>What does it mean that every time I look at th...</td>\n      <td>1</td>\n    </tr>\n    <tr>\n      <th>25</th>\n      <td>What are some tips on making it through the jo...</td>\n      <td>8</td>\n    </tr>\n    <tr>\n      <th>26</th>\n      <td>What is web application?</td>\n      <td>6</td>\n    </tr>\n    <tr>\n      <th>27</th>\n      <td>Does society place too much importance on sports?</td>\n      <td>1</td>\n    </tr>\n    <tr>\n      <th>28</th>\n      <td>What is best way to make money online?</td>\n      <td>3</td>\n    </tr>\n    <tr>\n      <th>29</th>\n      <td>How should I prepare for CA final law?</td>\n      <td>8</td>\n    </tr>\n    <tr>\n      <th>...</th>\n      <td>...</td>\n      <td>...</td>\n    </tr>\n    <tr>\n      <th>199970</th>\n      <td>What are the things that one should do before ...</td>\n      <td>9</td>\n    </tr>\n    <tr>\n      <th>199971</th>\n      <td>In a boat double slit experiment does the boat...</td>\n      <td>1</td>\n    </tr>\n    <tr>\n      <th>199972</th>\n      <td>Which are the best Tamil songs by A R Rahman?</td>\n      <td>0</td>\n    </tr>\n    <tr>\n      <th>199973</th>\n      <td>Which San Francisco restaurant has the best ok...</td>\n      <td>0</td>\n    </tr>\n    <tr>\n      <th>199974</th>\n      <td>How can I enable the insert rows option in my ...</td>\n      <td>8</td>\n    </tr>\n    <tr>\n      <th>199975</th>\n      <td>What were the effects of Cuban Missile Crisis ...</td>\n      <td>7</td>\n    </tr>\n    <tr>\n      <th>199976</th>\n      <td>How do I gain access to a person's instagram p...</td>\n      <td>9</td>\n    </tr>\n    <tr>\n      <th>199977</th>\n      <td>Are VCDs still popular in Asia?</td>\n      <td>2</td>\n    </tr>\n    <tr>\n      <th>199978</th>\n      <td>Can we use old 500 and 1000 notes as described...</td>\n      <td>5</td>\n    </tr>\n    <tr>\n      <th>199979</th>\n      <td>How can I meet Brits in Toronto, Ontario, Canada?</td>\n      <td>9</td>\n    </tr>\n    <tr>\n      <th>199980</th>\n      <td>What are the best ways to prepare for and crac...</td>\n      <td>0</td>\n    </tr>\n    <tr>\n      <th>199981</th>\n      <td>How could I get more answers to my questions o...</td>\n      <td>2</td>\n    </tr>\n    <tr>\n      <th>199982</th>\n      <td>Why is the USA the only industrialized country...</td>\n      <td>5</td>\n    </tr>\n    <tr>\n      <th>199983</th>\n      <td>Why don't videos play automatically in Quora, ...</td>\n      <td>2</td>\n    </tr>\n    <tr>\n      <th>199984</th>\n      <td>What user should do when he looses a USA phone...</td>\n      <td>5</td>\n    </tr>\n    <tr>\n      <th>199985</th>\n      <td>Can you have a DRIP using Zerodha?</td>\n      <td>3</td>\n    </tr>\n    <tr>\n      <th>199986</th>\n      <td>Should I take ECE at LNMIIT or JIIT (Sec 62)?</td>\n      <td>8</td>\n    </tr>\n    <tr>\n      <th>199987</th>\n      <td>What is web application?</td>\n      <td>6</td>\n    </tr>\n    <tr>\n      <th>199988</th>\n      <td>What is the difference between standard deviat...</td>\n      <td>5</td>\n    </tr>\n    <tr>\n      <th>199989</th>\n      <td>Who are Top Writers 2012 who did not become To...</td>\n      <td>7</td>\n    </tr>\n    <tr>\n      <th>199990</th>\n      <td>How many different types of car brands are there?</td>\n      <td>9</td>\n    </tr>\n    <tr>\n      <th>199991</th>\n      <td>Why are people so selfish and hypocritical?</td>\n      <td>9</td>\n    </tr>\n    <tr>\n      <th>199992</th>\n      <td>How do I stop my Pit Bull/English Bulldog mix ...</td>\n      <td>6</td>\n    </tr>\n    <tr>\n      <th>199993</th>\n      <td>How can I figure out my girlfriendâ€™s ring si...</td>\n      <td>2</td>\n    </tr>\n    <tr>\n      <th>199994</th>\n      <td>When people say urine is sterile, what do they...</td>\n      <td>9</td>\n    </tr>\n    <tr>\n      <th>199995</th>\n      <td>Why was the Battle of Vimy Ridge so important?</td>\n      <td>4</td>\n    </tr>\n    <tr>\n      <th>199996</th>\n      <td>Which of these TV shows should I watch next?</td>\n      <td>0</td>\n    </tr>\n    <tr>\n      <th>199997</th>\n      <td>Should I change my name?</td>\n      <td>4</td>\n    </tr>\n    <tr>\n      <th>199998</th>\n      <td>Should I buy the new MacBook 2016 or one from ...</td>\n      <td>9</td>\n    </tr>\n    <tr>\n      <th>199999</th>\n      <td>What is your review of Love (2011 movie)?</td>\n      <td>9</td>\n    </tr>\n  </tbody>\n</table>\n<p>200000 rows × 2 columns</p>\n</div>"
     },
     "metadata": {},
     "execution_count": 367
    }
   ],
   "source": [
    "df"
   ]
  },
  {
   "cell_type": "code",
   "execution_count": 368,
   "metadata": {},
   "outputs": [
    {
     "output_type": "execute_result",
     "data": {
      "text/plain": "                                                 question  topic_num\n170382                 Which is the best book for python?          0\n183286          What are some of the best phones gadgets?          0\n169593                                 What is Star Trek?          0\n8617        What is the best way to control our emotions?          0\n28698   What is the easier way to understand the conce...          0",
      "text/html": "<div>\n<style scoped>\n    .dataframe tbody tr th:only-of-type {\n        vertical-align: middle;\n    }\n\n    .dataframe tbody tr th {\n        vertical-align: top;\n    }\n\n    .dataframe thead th {\n        text-align: right;\n    }\n</style>\n<table border=\"1\" class=\"dataframe\">\n  <thead>\n    <tr style=\"text-align: right;\">\n      <th></th>\n      <th>question</th>\n      <th>topic_num</th>\n    </tr>\n  </thead>\n  <tbody>\n    <tr>\n      <th>170382</th>\n      <td>Which is the best book for python?</td>\n      <td>0</td>\n    </tr>\n    <tr>\n      <th>183286</th>\n      <td>What are some of the best phones gadgets?</td>\n      <td>0</td>\n    </tr>\n    <tr>\n      <th>169593</th>\n      <td>What is Star Trek?</td>\n      <td>0</td>\n    </tr>\n    <tr>\n      <th>8617</th>\n      <td>What is the best way to control our emotions?</td>\n      <td>0</td>\n    </tr>\n    <tr>\n      <th>28698</th>\n      <td>What is the easier way to understand the conce...</td>\n      <td>0</td>\n    </tr>\n  </tbody>\n</table>\n</div>"
     },
     "metadata": {},
     "execution_count": 368
    }
   ],
   "source": [
    "df.loc[df['topic_num'] == 0].sample(5)"
   ]
  },
  {
   "cell_type": "code",
   "execution_count": 380,
   "metadata": {},
   "outputs": [
    {
     "output_type": "execute_result",
     "data": {
      "text/plain": "                                                 question  topic_num\n109919                       How do you feel about music?          1\n71898   In what way does the fake currency detector wo...          1\n162082  What are the prerequisites for understanding R...          1\n46094                 Does our mind control our emotions?          1\n170323             What is venture debt and how it works?          1",
      "text/html": "<div>\n<style scoped>\n    .dataframe tbody tr th:only-of-type {\n        vertical-align: middle;\n    }\n\n    .dataframe tbody tr th {\n        vertical-align: top;\n    }\n\n    .dataframe thead th {\n        text-align: right;\n    }\n</style>\n<table border=\"1\" class=\"dataframe\">\n  <thead>\n    <tr style=\"text-align: right;\">\n      <th></th>\n      <th>question</th>\n      <th>topic_num</th>\n    </tr>\n  </thead>\n  <tbody>\n    <tr>\n      <th>109919</th>\n      <td>How do you feel about music?</td>\n      <td>1</td>\n    </tr>\n    <tr>\n      <th>71898</th>\n      <td>In what way does the fake currency detector wo...</td>\n      <td>1</td>\n    </tr>\n    <tr>\n      <th>162082</th>\n      <td>What are the prerequisites for understanding R...</td>\n      <td>1</td>\n    </tr>\n    <tr>\n      <th>46094</th>\n      <td>Does our mind control our emotions?</td>\n      <td>1</td>\n    </tr>\n    <tr>\n      <th>170323</th>\n      <td>What is venture debt and how it works?</td>\n      <td>1</td>\n    </tr>\n  </tbody>\n</table>\n</div>"
     },
     "metadata": {},
     "execution_count": 380
    }
   ],
   "source": [
    "df.loc[df['topic_num'] == 1].sample(5)"
   ]
  },
  {
   "cell_type": "code",
   "execution_count": 370,
   "metadata": {},
   "outputs": [
    {
     "output_type": "execute_result",
     "data": {
      "text/plain": "                                                 question  topic_num\n119900                     Is there advertising on Quora?          2\n178466      What are the best ways to advertise on Quora?          2\n26568                    What went wrong with Yahoo Labs?          2\n46359   Who are the contemporary Hindi poets I must fo...          2\n29670   Why should we ask questions on Quora, when we ...          2",
      "text/html": "<div>\n<style scoped>\n    .dataframe tbody tr th:only-of-type {\n        vertical-align: middle;\n    }\n\n    .dataframe tbody tr th {\n        vertical-align: top;\n    }\n\n    .dataframe thead th {\n        text-align: right;\n    }\n</style>\n<table border=\"1\" class=\"dataframe\">\n  <thead>\n    <tr style=\"text-align: right;\">\n      <th></th>\n      <th>question</th>\n      <th>topic_num</th>\n    </tr>\n  </thead>\n  <tbody>\n    <tr>\n      <th>119900</th>\n      <td>Is there advertising on Quora?</td>\n      <td>2</td>\n    </tr>\n    <tr>\n      <th>178466</th>\n      <td>What are the best ways to advertise on Quora?</td>\n      <td>2</td>\n    </tr>\n    <tr>\n      <th>26568</th>\n      <td>What went wrong with Yahoo Labs?</td>\n      <td>2</td>\n    </tr>\n    <tr>\n      <th>46359</th>\n      <td>Who are the contemporary Hindi poets I must fo...</td>\n      <td>2</td>\n    </tr>\n    <tr>\n      <th>29670</th>\n      <td>Why should we ask questions on Quora, when we ...</td>\n      <td>2</td>\n    </tr>\n  </tbody>\n</table>\n</div>"
     },
     "metadata": {},
     "execution_count": 370
    }
   ],
   "source": [
    "df.loc[df['topic_num'] == 2].sample(5)"
   ]
  },
  {
   "cell_type": "code",
   "execution_count": 371,
   "metadata": {},
   "outputs": [
    {
     "output_type": "execute_result",
     "data": {
      "text/plain": "                                                 question  topic_num\n19275   If you had a billion dollars, what would you d...          3\n132679                How can I earn money easily online?          3\n77816                      How do astrologers make money?          3\n58460              How can I earn money part time online?          3\n6237    What would happend to me I dont tip in USA? Wo...          3",
      "text/html": "<div>\n<style scoped>\n    .dataframe tbody tr th:only-of-type {\n        vertical-align: middle;\n    }\n\n    .dataframe tbody tr th {\n        vertical-align: top;\n    }\n\n    .dataframe thead th {\n        text-align: right;\n    }\n</style>\n<table border=\"1\" class=\"dataframe\">\n  <thead>\n    <tr style=\"text-align: right;\">\n      <th></th>\n      <th>question</th>\n      <th>topic_num</th>\n    </tr>\n  </thead>\n  <tbody>\n    <tr>\n      <th>19275</th>\n      <td>If you had a billion dollars, what would you d...</td>\n      <td>3</td>\n    </tr>\n    <tr>\n      <th>132679</th>\n      <td>How can I earn money easily online?</td>\n      <td>3</td>\n    </tr>\n    <tr>\n      <th>77816</th>\n      <td>How do astrologers make money?</td>\n      <td>3</td>\n    </tr>\n    <tr>\n      <th>58460</th>\n      <td>How can I earn money part time online?</td>\n      <td>3</td>\n    </tr>\n    <tr>\n      <th>6237</th>\n      <td>What would happend to me I dont tip in USA? Wo...</td>\n      <td>3</td>\n    </tr>\n  </tbody>\n</table>\n</div>"
     },
     "metadata": {},
     "execution_count": 371
    }
   ],
   "source": [
    "df.loc[df['topic_num'] == 3].sample(5)"
   ]
  },
  {
   "cell_type": "code",
   "execution_count": 372,
   "metadata": {},
   "outputs": [
    {
     "output_type": "execute_result",
     "data": {
      "text/plain": "                                                 question  topic_num\n108507  How did Life (2017 movie) get greenlit? What's...          4\n169460            Can you change the team in PokÃ©mon GO?          4\n11792          What is your wildest honeymoon experience?          4\n138264  I have an untreatable and life-long disabling ...          4\n96073    I'm 21 and dont have a purpose what should I do?          4",
      "text/html": "<div>\n<style scoped>\n    .dataframe tbody tr th:only-of-type {\n        vertical-align: middle;\n    }\n\n    .dataframe tbody tr th {\n        vertical-align: top;\n    }\n\n    .dataframe thead th {\n        text-align: right;\n    }\n</style>\n<table border=\"1\" class=\"dataframe\">\n  <thead>\n    <tr style=\"text-align: right;\">\n      <th></th>\n      <th>question</th>\n      <th>topic_num</th>\n    </tr>\n  </thead>\n  <tbody>\n    <tr>\n      <th>108507</th>\n      <td>How did Life (2017 movie) get greenlit? What's...</td>\n      <td>4</td>\n    </tr>\n    <tr>\n      <th>169460</th>\n      <td>Can you change the team in PokÃ©mon GO?</td>\n      <td>4</td>\n    </tr>\n    <tr>\n      <th>11792</th>\n      <td>What is your wildest honeymoon experience?</td>\n      <td>4</td>\n    </tr>\n    <tr>\n      <th>138264</th>\n      <td>I have an untreatable and life-long disabling ...</td>\n      <td>4</td>\n    </tr>\n    <tr>\n      <th>96073</th>\n      <td>I'm 21 and dont have a purpose what should I do?</td>\n      <td>4</td>\n    </tr>\n  </tbody>\n</table>\n</div>"
     },
     "metadata": {},
     "execution_count": 372
    }
   ],
   "source": [
    "df.loc[df['topic_num'] == 4].sample(5)"
   ]
  },
  {
   "cell_type": "code",
   "execution_count": 373,
   "metadata": {},
   "outputs": [
    {
     "output_type": "execute_result",
     "data": {
      "text/plain": "                                                 question  topic_num\n14337   Which country constitution is ideal democratic...          5\n54              How GST affects the CAs and tax officers?          5\n139420  Why has the Modi Government banned the 500 and...          5\n68054     Why is Saltwater taffy candy imported in China?          5\n163330  Why do hotels in India confiscate the passport...          5",
      "text/html": "<div>\n<style scoped>\n    .dataframe tbody tr th:only-of-type {\n        vertical-align: middle;\n    }\n\n    .dataframe tbody tr th {\n        vertical-align: top;\n    }\n\n    .dataframe thead th {\n        text-align: right;\n    }\n</style>\n<table border=\"1\" class=\"dataframe\">\n  <thead>\n    <tr style=\"text-align: right;\">\n      <th></th>\n      <th>question</th>\n      <th>topic_num</th>\n    </tr>\n  </thead>\n  <tbody>\n    <tr>\n      <th>14337</th>\n      <td>Which country constitution is ideal democratic...</td>\n      <td>5</td>\n    </tr>\n    <tr>\n      <th>54</th>\n      <td>How GST affects the CAs and tax officers?</td>\n      <td>5</td>\n    </tr>\n    <tr>\n      <th>139420</th>\n      <td>Why has the Modi Government banned the 500 and...</td>\n      <td>5</td>\n    </tr>\n    <tr>\n      <th>68054</th>\n      <td>Why is Saltwater taffy candy imported in China?</td>\n      <td>5</td>\n    </tr>\n    <tr>\n      <th>163330</th>\n      <td>Why do hotels in India confiscate the passport...</td>\n      <td>5</td>\n    </tr>\n  </tbody>\n</table>\n</div>"
     },
     "metadata": {},
     "execution_count": 373
    }
   ],
   "source": [
    "df.loc[df['topic_num'] == 5].sample(5)"
   ]
  },
  {
   "cell_type": "code",
   "execution_count": 374,
   "metadata": {},
   "outputs": [
    {
     "output_type": "execute_result",
     "data": {
      "text/plain": "                                                 question  topic_num\n105475  For an MS in mechanical, which taught program ...          6\n43095    How do I increase confidence in public speaking?          6\n47338   What is the best programming language I should...          6\n18377            How should I start for upsc preparation?          6\n45072               What are the contexts of development?          6",
      "text/html": "<div>\n<style scoped>\n    .dataframe tbody tr th:only-of-type {\n        vertical-align: middle;\n    }\n\n    .dataframe tbody tr th {\n        vertical-align: top;\n    }\n\n    .dataframe thead th {\n        text-align: right;\n    }\n</style>\n<table border=\"1\" class=\"dataframe\">\n  <thead>\n    <tr style=\"text-align: right;\">\n      <th></th>\n      <th>question</th>\n      <th>topic_num</th>\n    </tr>\n  </thead>\n  <tbody>\n    <tr>\n      <th>105475</th>\n      <td>For an MS in mechanical, which taught program ...</td>\n      <td>6</td>\n    </tr>\n    <tr>\n      <th>43095</th>\n      <td>How do I increase confidence in public speaking?</td>\n      <td>6</td>\n    </tr>\n    <tr>\n      <th>47338</th>\n      <td>What is the best programming language I should...</td>\n      <td>6</td>\n    </tr>\n    <tr>\n      <th>18377</th>\n      <td>How should I start for upsc preparation?</td>\n      <td>6</td>\n    </tr>\n    <tr>\n      <th>45072</th>\n      <td>What are the contexts of development?</td>\n      <td>6</td>\n    </tr>\n  </tbody>\n</table>\n</div>"
     },
     "metadata": {},
     "execution_count": 374
    }
   ],
   "source": [
    "df.loc[df['topic_num'] == 6].sample(5)"
   ]
  },
  {
   "cell_type": "code",
   "execution_count": 375,
   "metadata": {},
   "outputs": [
    {
     "output_type": "execute_result",
     "data": {
      "text/plain": "                                                 question  topic_num\n117727           What do Europeans think of Donald Trump?          7\n22663    What is it like to be the President? In general.          7\n15515               Am I eligible for working in the USA?          7\n160185  Where did the phrase \"actions speak louder tha...          7\n107856        What would happen if Russia invaded Poland?          7",
      "text/html": "<div>\n<style scoped>\n    .dataframe tbody tr th:only-of-type {\n        vertical-align: middle;\n    }\n\n    .dataframe tbody tr th {\n        vertical-align: top;\n    }\n\n    .dataframe thead th {\n        text-align: right;\n    }\n</style>\n<table border=\"1\" class=\"dataframe\">\n  <thead>\n    <tr style=\"text-align: right;\">\n      <th></th>\n      <th>question</th>\n      <th>topic_num</th>\n    </tr>\n  </thead>\n  <tbody>\n    <tr>\n      <th>117727</th>\n      <td>What do Europeans think of Donald Trump?</td>\n      <td>7</td>\n    </tr>\n    <tr>\n      <th>22663</th>\n      <td>What is it like to be the President? In general.</td>\n      <td>7</td>\n    </tr>\n    <tr>\n      <th>15515</th>\n      <td>Am I eligible for working in the USA?</td>\n      <td>7</td>\n    </tr>\n    <tr>\n      <th>160185</th>\n      <td>Where did the phrase \"actions speak louder tha...</td>\n      <td>7</td>\n    </tr>\n    <tr>\n      <th>107856</th>\n      <td>What would happen if Russia invaded Poland?</td>\n      <td>7</td>\n    </tr>\n  </tbody>\n</table>\n</div>"
     },
     "metadata": {},
     "execution_count": 375
    }
   ],
   "source": [
    "df.loc[df['topic_num'] == 7].sample(5)"
   ]
  },
  {
   "cell_type": "code",
   "execution_count": 376,
   "metadata": {},
   "outputs": [
    {
     "output_type": "execute_result",
     "data": {
      "text/plain": "                                                 question  topic_num\n72487   How do I get prepared for SSC CGL tier III des...          8\n183817              How can a fresher get a job in Delhi?          8\n198648  In what manner are the planets in our solar sy...          8\n2402         What is the health condition of Jayalalitha?          8\n19261    Why was it impossible to rescue Omayra SÃ¡nchez?          8",
      "text/html": "<div>\n<style scoped>\n    .dataframe tbody tr th:only-of-type {\n        vertical-align: middle;\n    }\n\n    .dataframe tbody tr th {\n        vertical-align: top;\n    }\n\n    .dataframe thead th {\n        text-align: right;\n    }\n</style>\n<table border=\"1\" class=\"dataframe\">\n  <thead>\n    <tr style=\"text-align: right;\">\n      <th></th>\n      <th>question</th>\n      <th>topic_num</th>\n    </tr>\n  </thead>\n  <tbody>\n    <tr>\n      <th>72487</th>\n      <td>How do I get prepared for SSC CGL tier III des...</td>\n      <td>8</td>\n    </tr>\n    <tr>\n      <th>183817</th>\n      <td>How can a fresher get a job in Delhi?</td>\n      <td>8</td>\n    </tr>\n    <tr>\n      <th>198648</th>\n      <td>In what manner are the planets in our solar sy...</td>\n      <td>8</td>\n    </tr>\n    <tr>\n      <th>2402</th>\n      <td>What is the health condition of Jayalalitha?</td>\n      <td>8</td>\n    </tr>\n    <tr>\n      <th>19261</th>\n      <td>Why was it impossible to rescue Omayra SÃ¡nchez?</td>\n      <td>8</td>\n    </tr>\n  </tbody>\n</table>\n</div>"
     },
     "metadata": {},
     "execution_count": 376
    }
   ],
   "source": [
    "df.loc[df['topic_num'] == 8].sample(5)"
   ]
  },
  {
   "cell_type": "code",
   "execution_count": 377,
   "metadata": {},
   "outputs": [
    {
     "output_type": "execute_result",
     "data": {
      "text/plain": "                                                 question  topic_num\n16477                       What makes a girl love a boy?          9\n58422   What is the origin of saying \"bless you\" when ...          9\n127201  What comes to your mind when you hear the term...          9\n72677   How do you find the total number of left and r...          9\n26234   How common is it for women to cheat? What moti...          9",
      "text/html": "<div>\n<style scoped>\n    .dataframe tbody tr th:only-of-type {\n        vertical-align: middle;\n    }\n\n    .dataframe tbody tr th {\n        vertical-align: top;\n    }\n\n    .dataframe thead th {\n        text-align: right;\n    }\n</style>\n<table border=\"1\" class=\"dataframe\">\n  <thead>\n    <tr style=\"text-align: right;\">\n      <th></th>\n      <th>question</th>\n      <th>topic_num</th>\n    </tr>\n  </thead>\n  <tbody>\n    <tr>\n      <th>16477</th>\n      <td>What makes a girl love a boy?</td>\n      <td>9</td>\n    </tr>\n    <tr>\n      <th>58422</th>\n      <td>What is the origin of saying \"bless you\" when ...</td>\n      <td>9</td>\n    </tr>\n    <tr>\n      <th>127201</th>\n      <td>What comes to your mind when you hear the term...</td>\n      <td>9</td>\n    </tr>\n    <tr>\n      <th>72677</th>\n      <td>How do you find the total number of left and r...</td>\n      <td>9</td>\n    </tr>\n    <tr>\n      <th>26234</th>\n      <td>How common is it for women to cheat? What moti...</td>\n      <td>9</td>\n    </tr>\n  </tbody>\n</table>\n</div>"
     },
     "metadata": {},
     "execution_count": 377
    }
   ],
   "source": [
    "df.loc[df['topic_num'] == 9].sample(5)"
   ]
  },
  {
   "cell_type": "code",
   "execution_count": 382,
   "metadata": {},
   "outputs": [],
   "source": [
    "topic_list = {0: \"Opinions\", \n",
    "              1: \"Recreation, Sports, Travel, and Activities\", \n",
    "              2: \"Quora\", \n",
    "              3: \"Finances/Earning Money\", \n",
    "              4: \"Life\", \n",
    "              5: \"World Politics\", \n",
    "              6: \"Learning, Programming, and Education\", \n",
    "              7: \"US Presedential Elections\", \n",
    "              8: \"Career and Motivation\", \n",
    "              9: \"Relationship\"}\n",
    "\n",
    "topic = df[\"topic_num\"].map(topic_list)\n",
    "df[\"topic\"] = topic"
   ]
  },
  {
   "cell_type": "code",
   "execution_count": 384,
   "metadata": {},
   "outputs": [
    {
     "output_type": "execute_result",
     "data": {
      "text/plain": "                                             question  topic_num  \\\n0   What is the step by step guide to invest in sh...          5   \n1   What is the story of Kohinoor (Koh-i-Noor) Dia...          0   \n2   How can I increase the speed of my internet co...          3   \n3   Why am I mentally very lonely? How can I solve...          9   \n4   Which one dissolve in water quikly sugar, salt...          1   \n5   Astrology: I am a Capricorn Sun Cap moon and c...          1   \n6                                 Should I buy tiago?          0   \n7                      How can I be a good geologist?          8   \n8                 When do you use ã‚· instead of ã—?          2   \n9   Motorola (company): Can I hack my Charter Moto...          5   \n10  Method to find separation of slits using fresn...          2   \n11        How do I read and find my YouTube comments?          3   \n12               What can make Physics easy to learn?          6   \n13        What was your first sexual experience like?          9   \n14  What are the laws to change your status from a...          1   \n15  What would a Trump presidency mean for current...          7   \n16                       What does manipulation mean?          1   \n17  Why do girls want to be friends with the guy t...          9   \n18  Why are so many Quora users posting questions ...          2   \n19  Which is the best digital marketing institutio...          0   \n20                         Why do rockets look white?          9   \n21              What's causing someone to be jealous?          9   \n22    What are the questions should not ask on Quora?          2   \n23                           How much is 30 kV in HP?          1   \n24  What does it mean that every time I look at th...          1   \n\n                                         topic  \n0                               World Politics  \n1                                     Opinions  \n2                       Finances/Earning Money  \n3                                 Relationship  \n4   Recreation, Sports, Travel, and Activities  \n5   Recreation, Sports, Travel, and Activities  \n6                                     Opinions  \n7                        Career and Motivation  \n8                                        Quora  \n9                               World Politics  \n10                                       Quora  \n11                      Finances/Earning Money  \n12        Learning, Programming, and Education  \n13                                Relationship  \n14  Recreation, Sports, Travel, and Activities  \n15                   US Presedential Elections  \n16  Recreation, Sports, Travel, and Activities  \n17                                Relationship  \n18                                       Quora  \n19                                    Opinions  \n20                                Relationship  \n21                                Relationship  \n22                                       Quora  \n23  Recreation, Sports, Travel, and Activities  \n24  Recreation, Sports, Travel, and Activities  ",
      "text/html": "<div>\n<style scoped>\n    .dataframe tbody tr th:only-of-type {\n        vertical-align: middle;\n    }\n\n    .dataframe tbody tr th {\n        vertical-align: top;\n    }\n\n    .dataframe thead th {\n        text-align: right;\n    }\n</style>\n<table border=\"1\" class=\"dataframe\">\n  <thead>\n    <tr style=\"text-align: right;\">\n      <th></th>\n      <th>question</th>\n      <th>topic_num</th>\n      <th>topic</th>\n    </tr>\n  </thead>\n  <tbody>\n    <tr>\n      <th>0</th>\n      <td>What is the step by step guide to invest in sh...</td>\n      <td>5</td>\n      <td>World Politics</td>\n    </tr>\n    <tr>\n      <th>1</th>\n      <td>What is the story of Kohinoor (Koh-i-Noor) Dia...</td>\n      <td>0</td>\n      <td>Opinions</td>\n    </tr>\n    <tr>\n      <th>2</th>\n      <td>How can I increase the speed of my internet co...</td>\n      <td>3</td>\n      <td>Finances/Earning Money</td>\n    </tr>\n    <tr>\n      <th>3</th>\n      <td>Why am I mentally very lonely? How can I solve...</td>\n      <td>9</td>\n      <td>Relationship</td>\n    </tr>\n    <tr>\n      <th>4</th>\n      <td>Which one dissolve in water quikly sugar, salt...</td>\n      <td>1</td>\n      <td>Recreation, Sports, Travel, and Activities</td>\n    </tr>\n    <tr>\n      <th>5</th>\n      <td>Astrology: I am a Capricorn Sun Cap moon and c...</td>\n      <td>1</td>\n      <td>Recreation, Sports, Travel, and Activities</td>\n    </tr>\n    <tr>\n      <th>6</th>\n      <td>Should I buy tiago?</td>\n      <td>0</td>\n      <td>Opinions</td>\n    </tr>\n    <tr>\n      <th>7</th>\n      <td>How can I be a good geologist?</td>\n      <td>8</td>\n      <td>Career and Motivation</td>\n    </tr>\n    <tr>\n      <th>8</th>\n      <td>When do you use ã‚· instead of ã—?</td>\n      <td>2</td>\n      <td>Quora</td>\n    </tr>\n    <tr>\n      <th>9</th>\n      <td>Motorola (company): Can I hack my Charter Moto...</td>\n      <td>5</td>\n      <td>World Politics</td>\n    </tr>\n    <tr>\n      <th>10</th>\n      <td>Method to find separation of slits using fresn...</td>\n      <td>2</td>\n      <td>Quora</td>\n    </tr>\n    <tr>\n      <th>11</th>\n      <td>How do I read and find my YouTube comments?</td>\n      <td>3</td>\n      <td>Finances/Earning Money</td>\n    </tr>\n    <tr>\n      <th>12</th>\n      <td>What can make Physics easy to learn?</td>\n      <td>6</td>\n      <td>Learning, Programming, and Education</td>\n    </tr>\n    <tr>\n      <th>13</th>\n      <td>What was your first sexual experience like?</td>\n      <td>9</td>\n      <td>Relationship</td>\n    </tr>\n    <tr>\n      <th>14</th>\n      <td>What are the laws to change your status from a...</td>\n      <td>1</td>\n      <td>Recreation, Sports, Travel, and Activities</td>\n    </tr>\n    <tr>\n      <th>15</th>\n      <td>What would a Trump presidency mean for current...</td>\n      <td>7</td>\n      <td>US Presedential Elections</td>\n    </tr>\n    <tr>\n      <th>16</th>\n      <td>What does manipulation mean?</td>\n      <td>1</td>\n      <td>Recreation, Sports, Travel, and Activities</td>\n    </tr>\n    <tr>\n      <th>17</th>\n      <td>Why do girls want to be friends with the guy t...</td>\n      <td>9</td>\n      <td>Relationship</td>\n    </tr>\n    <tr>\n      <th>18</th>\n      <td>Why are so many Quora users posting questions ...</td>\n      <td>2</td>\n      <td>Quora</td>\n    </tr>\n    <tr>\n      <th>19</th>\n      <td>Which is the best digital marketing institutio...</td>\n      <td>0</td>\n      <td>Opinions</td>\n    </tr>\n    <tr>\n      <th>20</th>\n      <td>Why do rockets look white?</td>\n      <td>9</td>\n      <td>Relationship</td>\n    </tr>\n    <tr>\n      <th>21</th>\n      <td>What's causing someone to be jealous?</td>\n      <td>9</td>\n      <td>Relationship</td>\n    </tr>\n    <tr>\n      <th>22</th>\n      <td>What are the questions should not ask on Quora?</td>\n      <td>2</td>\n      <td>Quora</td>\n    </tr>\n    <tr>\n      <th>23</th>\n      <td>How much is 30 kV in HP?</td>\n      <td>1</td>\n      <td>Recreation, Sports, Travel, and Activities</td>\n    </tr>\n    <tr>\n      <th>24</th>\n      <td>What does it mean that every time I look at th...</td>\n      <td>1</td>\n      <td>Recreation, Sports, Travel, and Activities</td>\n    </tr>\n  </tbody>\n</table>\n</div>"
     },
     "metadata": {},
     "execution_count": 384
    }
   ],
   "source": [
    "df.head(25)"
   ]
  },
  {
   "cell_type": "code",
   "execution_count": 385,
   "metadata": {},
   "outputs": [],
   "source": [
    "df.to_csv('nmf_modelled.csv')"
   ]
  }
 ]
}