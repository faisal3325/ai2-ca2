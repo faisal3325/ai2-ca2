{
 "nbformat": 4,
 "nbformat_minor": 2,
 "metadata": {
  "language_info": {
   "name": "python",
   "codemirror_mode": {
    "name": "ipython",
    "version": 3
   },
   "version": "3.8.2-final"
  },
  "orig_nbformat": 2,
  "file_extension": ".py",
  "mimetype": "text/x-python",
  "name": "python",
  "npconvert_exporter": "python",
  "pygments_lexer": "ipython3",
  "version": 3,
  "kernelspec": {
   "name": "python37664bitai2courseconda371d0ac7346d46c683e74ae2ba78d451",
   "display_name": "Python 3.7.6 64-bit ('AI2_course': conda)"
  }
 },
 "cells": [
  {
   "cell_type": "markdown",
   "metadata": {},
   "source": [
    "# CA-2\n",
    "GitHub Repo Link- https://github.com/faisal3325/ai2-ca2"
   ]
  },
  {
   "cell_type": "markdown",
   "metadata": {},
   "source": [
    "## Q1 Running supervised ML for predicting\n",
    "We have selected NMF classification data as it more accurately classified topics as compared to LDA. We found that the probability of words in a few topics were quite low based on the observations of the graphs."
   ]
  },
  {
   "cell_type": "code",
   "execution_count": 80,
   "metadata": {},
   "outputs": [],
   "source": [
    "# importing libraries\n",
    "import pandas as pd # for dataframe\n",
    "import time # for timer used to calculate execution time\n",
    "import pickle # for exporting model"
   ]
  },
  {
   "cell_type": "code",
   "execution_count": 81,
   "metadata": {},
   "outputs": [],
   "source": [
    "# Helper functions\n",
    "\n",
    "# Timer functions for calculating execution time of models\n",
    "def time_elapsed_start():\n",
    "    # Starting the timer\n",
    "    return time.time()\n",
    "\n",
    "def time_elapsed_stop(start):\n",
    "    # Stoping timer and calculating time in\n",
    "    # seconds, minutes, and hours\n",
    "    sec = time.time() - start\n",
    "    min = sec/60\n",
    "    hour = min/60\n",
    "    print(f\"Execution took {sec} seconds - ({min} minutes), ({hour} hours)\")\n",
    "\n",
    "def save_model(model, model_name):\n",
    "    # Saving the model to disk\n",
    "    filename = f'{model_name}.sav'\n",
    "    pickle.dump(model, open(filename, 'wb'))"
   ]
  },
  {
   "cell_type": "code",
   "execution_count": 7,
   "metadata": {},
   "outputs": [],
   "source": [
    "# loading data\n",
    "df = pd.read_csv('quora_supervised.csv')"
   ]
  },
  {
   "cell_type": "code",
   "execution_count": 8,
   "metadata": {},
   "outputs": [
    {
     "output_type": "execute_result",
     "data": {
      "text/plain": "                                                 question  topic_num  \\\n34833   What are the pros and cons of choosing .com ve...          3   \n54082    What is the best node.js ide available for free?          0   \n145534    Where can I get audiobooks for free in English?          6   \n32674                  How can you find a Korean pen pal?          6   \n47009       What is funniest video you have ever watched?          0   \n\n                                       topic  \n34833                 Finances/Earning Money  \n54082                               Opinions  \n145534  Learning, Programming, and Education  \n32674   Learning, Programming, and Education  \n47009                               Opinions  ",
      "text/html": "<div>\n<style scoped>\n    .dataframe tbody tr th:only-of-type {\n        vertical-align: middle;\n    }\n\n    .dataframe tbody tr th {\n        vertical-align: top;\n    }\n\n    .dataframe thead th {\n        text-align: right;\n    }\n</style>\n<table border=\"1\" class=\"dataframe\">\n  <thead>\n    <tr style=\"text-align: right;\">\n      <th></th>\n      <th>question</th>\n      <th>topic_num</th>\n      <th>topic</th>\n    </tr>\n  </thead>\n  <tbody>\n    <tr>\n      <th>34833</th>\n      <td>What are the pros and cons of choosing .com ve...</td>\n      <td>3</td>\n      <td>Finances/Earning Money</td>\n    </tr>\n    <tr>\n      <th>54082</th>\n      <td>What is the best node.js ide available for free?</td>\n      <td>0</td>\n      <td>Opinions</td>\n    </tr>\n    <tr>\n      <th>145534</th>\n      <td>Where can I get audiobooks for free in English?</td>\n      <td>6</td>\n      <td>Learning, Programming, and Education</td>\n    </tr>\n    <tr>\n      <th>32674</th>\n      <td>How can you find a Korean pen pal?</td>\n      <td>6</td>\n      <td>Learning, Programming, and Education</td>\n    </tr>\n    <tr>\n      <th>47009</th>\n      <td>What is funniest video you have ever watched?</td>\n      <td>0</td>\n      <td>Opinions</td>\n    </tr>\n  </tbody>\n</table>\n</div>"
     },
     "metadata": {},
     "execution_count": 8
    }
   ],
   "source": [
    "df.sample(5)"
   ]
  },
  {
   "cell_type": "code",
   "execution_count": 9,
   "metadata": {},
   "outputs": [
    {
     "output_type": "stream",
     "name": "stdout",
     "text": "<class 'pandas.core.frame.DataFrame'>\nRangeIndex: 200000 entries, 0 to 199999\nData columns (total 3 columns):\nquestion     200000 non-null object\ntopic_num    200000 non-null int64\ntopic        200000 non-null object\ndtypes: int64(1), object(2)\nmemory usage: 4.6+ MB\n"
    }
   ],
   "source": [
    "df.info()"
   ]
  },
  {
   "cell_type": "markdown",
   "metadata": {},
   "source": [
    "Converting our questions to numeric form using TfidfVectorizer with 0.9 max_df and 5 min_df."
   ]
  },
  {
   "cell_type": "code",
   "execution_count": 43,
   "metadata": {},
   "outputs": [
    {
     "output_type": "execute_result",
     "data": {
      "text/plain": "<200000x15154 sparse matrix of type '<class 'numpy.float64'>'\n\twith 948262 stored elements in Compressed Sparse Row format>"
     },
     "metadata": {},
     "execution_count": 43
    }
   ],
   "source": [
    "from sklearn.feature_extraction.text import TfidfVectorizer\n",
    "tfidf = TfidfVectorizer(max_df=0.9, min_df=5, stop_words=\"english\")\n",
    "X_tfidf = tfidf.fit_transform(df['question'])\n",
    "X_tfidf"
   ]
  },
  {
   "cell_type": "markdown",
   "metadata": {},
   "source": [
    "Splitting data into training and testing with 20% testing and rest 80% for training."
   ]
  },
  {
   "cell_type": "code",
   "execution_count": 44,
   "metadata": {},
   "outputs": [],
   "source": [
    "from sklearn.model_selection import train_test_split\n",
    "y = df['topic_num']\n",
    "X_train, X_test, y_train, y_test = train_test_split(X_tfidf, y, test_size=0.2, random_state=0)"
   ]
  },
  {
   "cell_type": "markdown",
   "metadata": {},
   "source": [
    "## LogisticRegression"
   ]
  },
  {
   "cell_type": "code",
   "execution_count": 45,
   "metadata": {},
   "outputs": [
    {
     "output_type": "stream",
     "name": "stderr",
     "text": "C:\\Users\\faisa\\Anaconda3\\envs\\AI2_course\\lib\\site-packages\\sklearn\\linear_model\\logistic.py:460: FutureWarning: Default multi_class will be changed to 'auto' in 0.22. Specify the multi_class option to silence this warning.\n  \"this warning.\", FutureWarning)\nC:\\Users\\faisa\\Anaconda3\\envs\\AI2_course\\lib\\site-packages\\sklearn\\linear_model\\logistic.py:758: ConvergenceWarning: lbfgs failed to converge. Increase the number of iterations.\n  \"of iterations.\", ConvergenceWarning)\nC:\\Users\\faisa\\Anaconda3\\envs\\AI2_course\\lib\\site-packages\\sklearn\\linear_model\\logistic.py:758: ConvergenceWarning: lbfgs failed to converge. Increase the number of iterations.\n  \"of iterations.\", ConvergenceWarning)\nC:\\Users\\faisa\\Anaconda3\\envs\\AI2_course\\lib\\site-packages\\sklearn\\linear_model\\logistic.py:758: ConvergenceWarning: lbfgs failed to converge. Increase the number of iterations.\n  \"of iterations.\", ConvergenceWarning)\nC:\\Users\\faisa\\Anaconda3\\envs\\AI2_course\\lib\\site-packages\\sklearn\\linear_model\\logistic.py:758: ConvergenceWarning: lbfgs failed to converge. Increase the number of iterations.\n  \"of iterations.\", ConvergenceWarning)\nC:\\Users\\faisa\\Anaconda3\\envs\\AI2_course\\lib\\site-packages\\sklearn\\linear_model\\logistic.py:758: ConvergenceWarning: lbfgs failed to converge. Increase the number of iterations.\n  \"of iterations.\", ConvergenceWarning)\nC:\\Users\\faisa\\Anaconda3\\envs\\AI2_course\\lib\\site-packages\\sklearn\\linear_model\\logistic.py:758: ConvergenceWarning: lbfgs failed to converge. Increase the number of iterations.\n  \"of iterations.\", ConvergenceWarning)\n"
    },
    {
     "output_type": "execute_result",
     "data": {
      "text/plain": "LogisticRegression(C=1.0, class_weight=None, dual=False, fit_intercept=True,\n          intercept_scaling=1, max_iter=100, multi_class='warn',\n          n_jobs=None, penalty='l2', random_state=None, solver='lbfgs',\n          tol=0.0001, verbose=0, warm_start=False)"
     },
     "metadata": {},
     "execution_count": 45
    }
   ],
   "source": [
    "from sklearn.linear_model import LogisticRegression\n",
    "\n",
    "lin_reg_model = LogisticRegression(solver='lbfgs')\n",
    "lin_reg_model.fit(X_train, y_train)"
   ]
  },
  {
   "cell_type": "code",
   "execution_count": 46,
   "metadata": {},
   "outputs": [],
   "source": [
    "from sklearn import metrics\n",
    "\n",
    "lin_reg_model_predictions = lin_reg_model.predict(X_test)"
   ]
  },
  {
   "cell_type": "code",
   "execution_count": 47,
   "metadata": {},
   "outputs": [
    {
     "output_type": "execute_result",
     "data": {
      "text/plain": "array([3, 3, 6, ..., 9, 1, 9], dtype=int64)"
     },
     "metadata": {},
     "execution_count": 47
    }
   ],
   "source": [
    "lin_reg_model_predictions"
   ]
  },
  {
   "cell_type": "markdown",
   "metadata": {},
   "source": [
    "### Confusion Matrix"
   ]
  },
  {
   "cell_type": "code",
   "execution_count": 48,
   "metadata": {},
   "outputs": [
    {
     "output_type": "stream",
     "name": "stdout",
     "text": "[[4340   32   15    7    5   62   17    7  109  266]\n [  29 4248   11    5   10   90   12   10   84  335]\n [  29   52 1610   10    8   36   12    7   90  176]\n [  36   34   10 1858    2   80   10    7   64  129]\n [  16   43    3    6 1708   38    8    3   43  127]\n [  53   65    7   10   19 4091   13   16  143  332]\n [  32   34    4    5    9   48 2041   15   91  174]\n [  15   43    6    2    6   79    5 2283   61  186]\n [  41   93   11   21   15  116   41    5 4828  281]\n [  46   78   58   18   23  124   23   29  141 8171]]\n"
    }
   ],
   "source": [
    "print(metrics.confusion_matrix(y_test,lin_reg_model_predictions))"
   ]
  },
  {
   "cell_type": "code",
   "execution_count": 50,
   "metadata": {},
   "outputs": [
    {
     "output_type": "execute_result",
     "data": {
      "text/plain": "            predicted 1  predicted 2  predicted 3  predicted 4  predicted 5  \\\ncorrect 1          4340           32           15            7            5   \ncorrect 2            29         4248           11            5           10   \ncorrect 3            29           52         1610           10            8   \ncorrect 4            36           34           10         1858            2   \ncorrect 5            16           43            3            6         1708   \ncorrect 6            53           65            7           10           19   \ncorrect 7            32           34            4            5            9   \ncorrect 8            15           43            6            2            6   \ncorrect 9            41           93           11           21           15   \ncorrect 10           46           78           58           18           23   \n\n            predicted 6  predicted 7  predicted 8  predicted 9  predicted 10  \ncorrect 1            62           17            7          109           266  \ncorrect 2            90           12           10           84           335  \ncorrect 3            36           12            7           90           176  \ncorrect 4            80           10            7           64           129  \ncorrect 5            38            8            3           43           127  \ncorrect 6          4091           13           16          143           332  \ncorrect 7            48         2041           15           91           174  \ncorrect 8            79            5         2283           61           186  \ncorrect 9           116           41            5         4828           281  \ncorrect 10          124           23           29          141          8171  ",
      "text/html": "<div>\n<style scoped>\n    .dataframe tbody tr th:only-of-type {\n        vertical-align: middle;\n    }\n\n    .dataframe tbody tr th {\n        vertical-align: top;\n    }\n\n    .dataframe thead th {\n        text-align: right;\n    }\n</style>\n<table border=\"1\" class=\"dataframe\">\n  <thead>\n    <tr style=\"text-align: right;\">\n      <th></th>\n      <th>predicted 1</th>\n      <th>predicted 2</th>\n      <th>predicted 3</th>\n      <th>predicted 4</th>\n      <th>predicted 5</th>\n      <th>predicted 6</th>\n      <th>predicted 7</th>\n      <th>predicted 8</th>\n      <th>predicted 9</th>\n      <th>predicted 10</th>\n    </tr>\n  </thead>\n  <tbody>\n    <tr>\n      <th>correct 1</th>\n      <td>4340</td>\n      <td>32</td>\n      <td>15</td>\n      <td>7</td>\n      <td>5</td>\n      <td>62</td>\n      <td>17</td>\n      <td>7</td>\n      <td>109</td>\n      <td>266</td>\n    </tr>\n    <tr>\n      <th>correct 2</th>\n      <td>29</td>\n      <td>4248</td>\n      <td>11</td>\n      <td>5</td>\n      <td>10</td>\n      <td>90</td>\n      <td>12</td>\n      <td>10</td>\n      <td>84</td>\n      <td>335</td>\n    </tr>\n    <tr>\n      <th>correct 3</th>\n      <td>29</td>\n      <td>52</td>\n      <td>1610</td>\n      <td>10</td>\n      <td>8</td>\n      <td>36</td>\n      <td>12</td>\n      <td>7</td>\n      <td>90</td>\n      <td>176</td>\n    </tr>\n    <tr>\n      <th>correct 4</th>\n      <td>36</td>\n      <td>34</td>\n      <td>10</td>\n      <td>1858</td>\n      <td>2</td>\n      <td>80</td>\n      <td>10</td>\n      <td>7</td>\n      <td>64</td>\n      <td>129</td>\n    </tr>\n    <tr>\n      <th>correct 5</th>\n      <td>16</td>\n      <td>43</td>\n      <td>3</td>\n      <td>6</td>\n      <td>1708</td>\n      <td>38</td>\n      <td>8</td>\n      <td>3</td>\n      <td>43</td>\n      <td>127</td>\n    </tr>\n    <tr>\n      <th>correct 6</th>\n      <td>53</td>\n      <td>65</td>\n      <td>7</td>\n      <td>10</td>\n      <td>19</td>\n      <td>4091</td>\n      <td>13</td>\n      <td>16</td>\n      <td>143</td>\n      <td>332</td>\n    </tr>\n    <tr>\n      <th>correct 7</th>\n      <td>32</td>\n      <td>34</td>\n      <td>4</td>\n      <td>5</td>\n      <td>9</td>\n      <td>48</td>\n      <td>2041</td>\n      <td>15</td>\n      <td>91</td>\n      <td>174</td>\n    </tr>\n    <tr>\n      <th>correct 8</th>\n      <td>15</td>\n      <td>43</td>\n      <td>6</td>\n      <td>2</td>\n      <td>6</td>\n      <td>79</td>\n      <td>5</td>\n      <td>2283</td>\n      <td>61</td>\n      <td>186</td>\n    </tr>\n    <tr>\n      <th>correct 9</th>\n      <td>41</td>\n      <td>93</td>\n      <td>11</td>\n      <td>21</td>\n      <td>15</td>\n      <td>116</td>\n      <td>41</td>\n      <td>5</td>\n      <td>4828</td>\n      <td>281</td>\n    </tr>\n    <tr>\n      <th>correct 10</th>\n      <td>46</td>\n      <td>78</td>\n      <td>58</td>\n      <td>18</td>\n      <td>23</td>\n      <td>124</td>\n      <td>23</td>\n      <td>29</td>\n      <td>141</td>\n      <td>8171</td>\n    </tr>\n  </tbody>\n</table>\n</div>"
     },
     "metadata": {},
     "execution_count": 50
    }
   ],
   "source": [
    "dataframe_labels = pd.DataFrame(metrics.confusion_matrix(y_test,lin_reg_model_predictions), \n",
    "                  index=['correct 1', 'correct 2', 'correct 3', 'correct 4', 'correct 5', 'correct 6', 'correct 7', 'correct 8', 'correct 9', 'correct 10'], \n",
    "                  columns=['predicted 1', 'predicted 2', 'predicted 3', 'predicted 4', 'predicted 5', 'predicted 6', 'predicted 7', 'predicted 8', 'predicted 9', 'predicted 10'])\n",
    "dataframe_labels"
   ]
  },
  {
   "cell_type": "code",
   "execution_count": 51,
   "metadata": {},
   "outputs": [
    {
     "output_type": "stream",
     "name": "stdout",
     "text": "precision    recall  f1-score   support\n\n           0       0.94      0.89      0.91      4860\n           1       0.90      0.88      0.89      4834\n           2       0.93      0.79      0.86      2030\n           3       0.96      0.83      0.89      2230\n           4       0.95      0.86      0.90      1995\n           5       0.86      0.86      0.86      4749\n           6       0.94      0.83      0.88      2453\n           7       0.96      0.85      0.90      2686\n           8       0.85      0.89      0.87      5452\n           9       0.80      0.94      0.87      8711\n\n   micro avg       0.88      0.88      0.88     40000\n   macro avg       0.91      0.86      0.88     40000\nweighted avg       0.88      0.88      0.88     40000\n\n"
    }
   ],
   "source": [
    "print(metrics.classification_report(y_test,lin_reg_model_predictions))"
   ]
  },
  {
   "cell_type": "code",
   "execution_count": 52,
   "metadata": {},
   "outputs": [
    {
     "output_type": "stream",
     "name": "stdout",
     "text": "0.87945\n"
    }
   ],
   "source": [
    "print(metrics.accuracy_score(y_test,lin_reg_model_predictions))"
   ]
  },
  {
   "cell_type": "markdown",
   "metadata": {},
   "source": [
    "Accuracy we got using LR- 87%"
   ]
  },
  {
   "cell_type": "markdown",
   "metadata": {},
   "source": [
    "## Navie Bayes"
   ]
  },
  {
   "cell_type": "code",
   "execution_count": 53,
   "metadata": {},
   "outputs": [
    {
     "output_type": "execute_result",
     "data": {
      "text/plain": "MultinomialNB(alpha=1.0, class_prior=None, fit_prior=True)"
     },
     "metadata": {},
     "execution_count": 53
    }
   ],
   "source": [
    "from sklearn.naive_bayes import MultinomialNB\n",
    "\n",
    "nb_model = MultinomialNB()\n",
    "\n",
    "nb_model.fit(X_train, y_train)"
   ]
  },
  {
   "cell_type": "code",
   "execution_count": 83,
   "metadata": {},
   "outputs": [],
   "source": [
    "nb_model_predictions = nb_model.predict(X_test)"
   ]
  },
  {
   "cell_type": "markdown",
   "metadata": {},
   "source": [
    "### Confusing matrix"
   ]
  },
  {
   "cell_type": "code",
   "execution_count": 54,
   "metadata": {},
   "outputs": [
    {
     "output_type": "stream",
     "name": "stdout",
     "text": "[[3608   61   41   31   18  159   96   10  328  508]\n [  84 3347   43   33   11  228   38   53  260  737]\n [ 102   93 1226   19    5   40   31   21  130  363]\n [ 224   82    8 1109    9  222   31   16  170  359]\n [  56  104    7   10 1091   89   13   10  110  505]\n [ 194  160    5   24    8 3428   27   46  320  537]\n [ 150   81    4    5    5   84 1625    6  256  237]\n [ 114  115   16   10    9  206   22 1532  200  462]\n [ 265  209   12   24   12  161   65   24 4021  659]\n [ 197  243   44   36   23  273   48   59  266 7522]]\n"
    }
   ],
   "source": [
    "print(metrics.confusion_matrix(y_test,nb_model_predictions))"
   ]
  },
  {
   "cell_type": "code",
   "execution_count": 71,
   "metadata": {},
   "outputs": [
    {
     "output_type": "execute_result",
     "data": {
      "text/plain": "            predicted 1  predicted 2  predicted 3  predicted 4  predicted 5  \\\ncorrect 1          3608           61           41           31           18   \ncorrect 2            84         3347           43           33           11   \ncorrect 3           102           93         1226           19            5   \ncorrect 4           224           82            8         1109            9   \ncorrect 5            56          104            7           10         1091   \ncorrect 6           194          160            5           24            8   \ncorrect 7           150           81            4            5            5   \ncorrect 8           114          115           16           10            9   \ncorrect 9           265          209           12           24           12   \ncorrect 10          197          243           44           36           23   \n\n            predicted 6  predicted 7  predicted 8  predicted 9  predicted 10  \ncorrect 1           159           96           10          328           508  \ncorrect 2           228           38           53          260           737  \ncorrect 3            40           31           21          130           363  \ncorrect 4           222           31           16          170           359  \ncorrect 5            89           13           10          110           505  \ncorrect 6          3428           27           46          320           537  \ncorrect 7            84         1625            6          256           237  \ncorrect 8           206           22         1532          200           462  \ncorrect 9           161           65           24         4021           659  \ncorrect 10          273           48           59          266          7522  ",
      "text/html": "<div>\n<style scoped>\n    .dataframe tbody tr th:only-of-type {\n        vertical-align: middle;\n    }\n\n    .dataframe tbody tr th {\n        vertical-align: top;\n    }\n\n    .dataframe thead th {\n        text-align: right;\n    }\n</style>\n<table border=\"1\" class=\"dataframe\">\n  <thead>\n    <tr style=\"text-align: right;\">\n      <th></th>\n      <th>predicted 1</th>\n      <th>predicted 2</th>\n      <th>predicted 3</th>\n      <th>predicted 4</th>\n      <th>predicted 5</th>\n      <th>predicted 6</th>\n      <th>predicted 7</th>\n      <th>predicted 8</th>\n      <th>predicted 9</th>\n      <th>predicted 10</th>\n    </tr>\n  </thead>\n  <tbody>\n    <tr>\n      <th>correct 1</th>\n      <td>3608</td>\n      <td>61</td>\n      <td>41</td>\n      <td>31</td>\n      <td>18</td>\n      <td>159</td>\n      <td>96</td>\n      <td>10</td>\n      <td>328</td>\n      <td>508</td>\n    </tr>\n    <tr>\n      <th>correct 2</th>\n      <td>84</td>\n      <td>3347</td>\n      <td>43</td>\n      <td>33</td>\n      <td>11</td>\n      <td>228</td>\n      <td>38</td>\n      <td>53</td>\n      <td>260</td>\n      <td>737</td>\n    </tr>\n    <tr>\n      <th>correct 3</th>\n      <td>102</td>\n      <td>93</td>\n      <td>1226</td>\n      <td>19</td>\n      <td>5</td>\n      <td>40</td>\n      <td>31</td>\n      <td>21</td>\n      <td>130</td>\n      <td>363</td>\n    </tr>\n    <tr>\n      <th>correct 4</th>\n      <td>224</td>\n      <td>82</td>\n      <td>8</td>\n      <td>1109</td>\n      <td>9</td>\n      <td>222</td>\n      <td>31</td>\n      <td>16</td>\n      <td>170</td>\n      <td>359</td>\n    </tr>\n    <tr>\n      <th>correct 5</th>\n      <td>56</td>\n      <td>104</td>\n      <td>7</td>\n      <td>10</td>\n      <td>1091</td>\n      <td>89</td>\n      <td>13</td>\n      <td>10</td>\n      <td>110</td>\n      <td>505</td>\n    </tr>\n    <tr>\n      <th>correct 6</th>\n      <td>194</td>\n      <td>160</td>\n      <td>5</td>\n      <td>24</td>\n      <td>8</td>\n      <td>3428</td>\n      <td>27</td>\n      <td>46</td>\n      <td>320</td>\n      <td>537</td>\n    </tr>\n    <tr>\n      <th>correct 7</th>\n      <td>150</td>\n      <td>81</td>\n      <td>4</td>\n      <td>5</td>\n      <td>5</td>\n      <td>84</td>\n      <td>1625</td>\n      <td>6</td>\n      <td>256</td>\n      <td>237</td>\n    </tr>\n    <tr>\n      <th>correct 8</th>\n      <td>114</td>\n      <td>115</td>\n      <td>16</td>\n      <td>10</td>\n      <td>9</td>\n      <td>206</td>\n      <td>22</td>\n      <td>1532</td>\n      <td>200</td>\n      <td>462</td>\n    </tr>\n    <tr>\n      <th>correct 9</th>\n      <td>265</td>\n      <td>209</td>\n      <td>12</td>\n      <td>24</td>\n      <td>12</td>\n      <td>161</td>\n      <td>65</td>\n      <td>24</td>\n      <td>4021</td>\n      <td>659</td>\n    </tr>\n    <tr>\n      <th>correct 10</th>\n      <td>197</td>\n      <td>243</td>\n      <td>44</td>\n      <td>36</td>\n      <td>23</td>\n      <td>273</td>\n      <td>48</td>\n      <td>59</td>\n      <td>266</td>\n      <td>7522</td>\n    </tr>\n  </tbody>\n</table>\n</div>"
     },
     "metadata": {},
     "execution_count": 71
    }
   ],
   "source": [
    "dataframe_labels = pd.DataFrame(metrics.confusion_matrix(y_test,nb_model_predictions), \n",
    "                  index=['correct 1', 'correct 2', 'correct 3', 'correct 4', 'correct 5', 'correct 6', 'correct 7', 'correct 8', 'correct 9', 'correct 10'], \n",
    "                  columns=['predicted 1', 'predicted 2', 'predicted 3', 'predicted 4', 'predicted 5', 'predicted 6', 'predicted 7', 'predicted 8', 'predicted 9', 'predicted 10'])\n",
    "dataframe_labels"
   ]
  },
  {
   "cell_type": "code",
   "execution_count": 56,
   "metadata": {},
   "outputs": [
    {
     "output_type": "stream",
     "name": "stdout",
     "text": "precision    recall  f1-score   support\n\n           0       0.72      0.74      0.73      4860\n           1       0.74      0.69      0.72      4834\n           2       0.87      0.60      0.71      2030\n           3       0.85      0.50      0.63      2230\n           4       0.92      0.55      0.68      1995\n           5       0.70      0.72      0.71      4749\n           6       0.81      0.66      0.73      2453\n           7       0.86      0.57      0.69      2686\n           8       0.66      0.74      0.70      5452\n           9       0.63      0.86      0.73      8711\n\n   micro avg       0.71      0.71      0.71     40000\n   macro avg       0.78      0.66      0.70     40000\nweighted avg       0.73      0.71      0.71     40000\n\n"
    }
   ],
   "source": [
    "print(metrics.classification_report(y_test,nb_model_predictions))"
   ]
  },
  {
   "cell_type": "code",
   "execution_count": 57,
   "metadata": {},
   "outputs": [
    {
     "output_type": "stream",
     "name": "stdout",
     "text": "0.712725\n"
    }
   ],
   "source": [
    "print(metrics.accuracy_score(y_test,nb_model_predictions))"
   ]
  },
  {
   "cell_type": "markdown",
   "metadata": {},
   "source": [
    "Accuracy we got using NavieBayes- 71%"
   ]
  },
  {
   "cell_type": "markdown",
   "metadata": {},
   "source": [
    "## Random Forest Classifier"
   ]
  },
  {
   "cell_type": "code",
   "execution_count": 67,
   "metadata": {},
   "outputs": [
    {
     "output_type": "stream",
     "name": "stderr",
     "text": "C:\\Users\\faisa\\Anaconda3\\envs\\AI2_course\\lib\\site-packages\\sklearn\\ensemble\\forest.py:246: FutureWarning: The default value of n_estimators will change from 10 in version 0.20 to 100 in 0.22.\n  \"10 in version 0.20 to 100 in 0.22.\", FutureWarning)\nExecution took 70.71564793586731 seconds - (1.178594132264455 minutes), (0.01964323553774092 hours)\n"
    }
   ],
   "source": [
    "from sklearn.ensemble import RandomForestClassifier\n",
    "\n",
    "rf_model = RandomForestClassifier()\n",
    "\n",
    "start = time_elapsed_start()\n",
    "rf_model.fit(X_train, y_train)\n",
    "time_elapsed_stop(start)"
   ]
  },
  {
   "cell_type": "code",
   "execution_count": 84,
   "metadata": {},
   "outputs": [],
   "source": [
    "rf_model_predictions = rf_model.predict(X_test)"
   ]
  },
  {
   "cell_type": "code",
   "execution_count": 68,
   "metadata": {},
   "outputs": [
    {
     "output_type": "stream",
     "name": "stdout",
     "text": "[[4614   31   13   14    5   35   24    7   66   51]\n [ 134 4334   29   22   24   58   14   15   67  137]\n [  43   29 1812   15    6   23    7    1   35   59]\n [  45   26   12 2054    3   26    4   11   17   32]\n [  26   23    2    5 1868   11    3    7   20   30]\n [ 135   78   15   33   38 4129   17   26  107  171]\n [  52   25   17   11    9   28 2179   11   55   66]\n [  37   31    8    4    8   46   10 2462   25   55]\n [ 159   81   25   41   39  112   46   20 4802  127]\n [ 157  118  121   41   48  146   42   49  174 7815]]\n"
    }
   ],
   "source": [
    "print(metrics.confusion_matrix(y_test,rf_model_predictions))"
   ]
  },
  {
   "cell_type": "markdown",
   "metadata": {},
   "source": [
    "### Confusion matrix"
   ]
  },
  {
   "cell_type": "code",
   "execution_count": 72,
   "metadata": {},
   "outputs": [
    {
     "output_type": "execute_result",
     "data": {
      "text/plain": "            predicted 1  predicted 2  predicted 3  predicted 4  predicted 5  \\\ncorrect 1          4614           31           13           14            5   \ncorrect 2           134         4334           29           22           24   \ncorrect 3            43           29         1812           15            6   \ncorrect 4            45           26           12         2054            3   \ncorrect 5            26           23            2            5         1868   \ncorrect 6           135           78           15           33           38   \ncorrect 7            52           25           17           11            9   \ncorrect 8            37           31            8            4            8   \ncorrect 9           159           81           25           41           39   \ncorrect 10          157          118          121           41           48   \n\n            predicted 6  predicted 7  predicted 8  predicted 9  predicted 10  \ncorrect 1            35           24            7           66            51  \ncorrect 2            58           14           15           67           137  \ncorrect 3            23            7            1           35            59  \ncorrect 4            26            4           11           17            32  \ncorrect 5            11            3            7           20            30  \ncorrect 6          4129           17           26          107           171  \ncorrect 7            28         2179           11           55            66  \ncorrect 8            46           10         2462           25            55  \ncorrect 9           112           46           20         4802           127  \ncorrect 10          146           42           49          174          7815  ",
      "text/html": "<div>\n<style scoped>\n    .dataframe tbody tr th:only-of-type {\n        vertical-align: middle;\n    }\n\n    .dataframe tbody tr th {\n        vertical-align: top;\n    }\n\n    .dataframe thead th {\n        text-align: right;\n    }\n</style>\n<table border=\"1\" class=\"dataframe\">\n  <thead>\n    <tr style=\"text-align: right;\">\n      <th></th>\n      <th>predicted 1</th>\n      <th>predicted 2</th>\n      <th>predicted 3</th>\n      <th>predicted 4</th>\n      <th>predicted 5</th>\n      <th>predicted 6</th>\n      <th>predicted 7</th>\n      <th>predicted 8</th>\n      <th>predicted 9</th>\n      <th>predicted 10</th>\n    </tr>\n  </thead>\n  <tbody>\n    <tr>\n      <th>correct 1</th>\n      <td>4614</td>\n      <td>31</td>\n      <td>13</td>\n      <td>14</td>\n      <td>5</td>\n      <td>35</td>\n      <td>24</td>\n      <td>7</td>\n      <td>66</td>\n      <td>51</td>\n    </tr>\n    <tr>\n      <th>correct 2</th>\n      <td>134</td>\n      <td>4334</td>\n      <td>29</td>\n      <td>22</td>\n      <td>24</td>\n      <td>58</td>\n      <td>14</td>\n      <td>15</td>\n      <td>67</td>\n      <td>137</td>\n    </tr>\n    <tr>\n      <th>correct 3</th>\n      <td>43</td>\n      <td>29</td>\n      <td>1812</td>\n      <td>15</td>\n      <td>6</td>\n      <td>23</td>\n      <td>7</td>\n      <td>1</td>\n      <td>35</td>\n      <td>59</td>\n    </tr>\n    <tr>\n      <th>correct 4</th>\n      <td>45</td>\n      <td>26</td>\n      <td>12</td>\n      <td>2054</td>\n      <td>3</td>\n      <td>26</td>\n      <td>4</td>\n      <td>11</td>\n      <td>17</td>\n      <td>32</td>\n    </tr>\n    <tr>\n      <th>correct 5</th>\n      <td>26</td>\n      <td>23</td>\n      <td>2</td>\n      <td>5</td>\n      <td>1868</td>\n      <td>11</td>\n      <td>3</td>\n      <td>7</td>\n      <td>20</td>\n      <td>30</td>\n    </tr>\n    <tr>\n      <th>correct 6</th>\n      <td>135</td>\n      <td>78</td>\n      <td>15</td>\n      <td>33</td>\n      <td>38</td>\n      <td>4129</td>\n      <td>17</td>\n      <td>26</td>\n      <td>107</td>\n      <td>171</td>\n    </tr>\n    <tr>\n      <th>correct 7</th>\n      <td>52</td>\n      <td>25</td>\n      <td>17</td>\n      <td>11</td>\n      <td>9</td>\n      <td>28</td>\n      <td>2179</td>\n      <td>11</td>\n      <td>55</td>\n      <td>66</td>\n    </tr>\n    <tr>\n      <th>correct 8</th>\n      <td>37</td>\n      <td>31</td>\n      <td>8</td>\n      <td>4</td>\n      <td>8</td>\n      <td>46</td>\n      <td>10</td>\n      <td>2462</td>\n      <td>25</td>\n      <td>55</td>\n    </tr>\n    <tr>\n      <th>correct 9</th>\n      <td>159</td>\n      <td>81</td>\n      <td>25</td>\n      <td>41</td>\n      <td>39</td>\n      <td>112</td>\n      <td>46</td>\n      <td>20</td>\n      <td>4802</td>\n      <td>127</td>\n    </tr>\n    <tr>\n      <th>correct 10</th>\n      <td>157</td>\n      <td>118</td>\n      <td>121</td>\n      <td>41</td>\n      <td>48</td>\n      <td>146</td>\n      <td>42</td>\n      <td>49</td>\n      <td>174</td>\n      <td>7815</td>\n    </tr>\n  </tbody>\n</table>\n</div>"
     },
     "metadata": {},
     "execution_count": 72
    }
   ],
   "source": [
    "dataframe_labels = pd.DataFrame(metrics.confusion_matrix(y_test,rf_model_predictions), \n",
    "                  index=['correct 1', 'correct 2', 'correct 3', 'correct 4', 'correct 5', 'correct 6', 'correct 7', 'correct 8', 'correct 9', 'correct 10'], \n",
    "                  columns=['predicted 1', 'predicted 2', 'predicted 3', 'predicted 4', 'predicted 5', 'predicted 6', 'predicted 7', 'predicted 8', 'predicted 9', 'predicted 10'])\n",
    "dataframe_labels"
   ]
  },
  {
   "cell_type": "code",
   "execution_count": 70,
   "metadata": {},
   "outputs": [
    {
     "output_type": "stream",
     "name": "stdout",
     "text": "0.901725\n"
    }
   ],
   "source": [
    "print(metrics.accuracy_score(y_test,rf_model_predictions))"
   ]
  },
  {
   "cell_type": "markdown",
   "metadata": {},
   "source": [
    "Accuracy we got using Random Forest- 90%"
   ]
  },
  {
   "cell_type": "markdown",
   "metadata": {},
   "source": [
    "## Support Vector Classifier"
   ]
  },
  {
   "cell_type": "code",
   "execution_count": 73,
   "metadata": {},
   "outputs": [
    {
     "output_type": "stream",
     "name": "stdout",
     "text": "Execution took 5735.429756402969 seconds - (95.5904959400495 minutes), (1.5931749323341582 hours)\n[[   0    0    0    0    0    0    0    0    0 4860]\n [   0    0    0    0    0    0    0    0    0 4834]\n [   0    0    0    0    0    0    0    0    0 2030]\n [   0    0    0    0    0    0    0    0    0 2230]\n [   0    0    0    0    0    0    0    0    0 1995]\n [   0    0    0    0    0    0    0    0    0 4749]\n [   0    0    0    0    0    0    0    0    0 2453]\n [   0    0    0    0    0    0    0    0    0 2686]\n [   0    0    0    0    0    0    0    0    0 5452]\n [   0    0    0    0    0    0    0    0    0 8711]]\n"
    }
   ],
   "source": [
    "from sklearn.svm import SVC\n",
    "\n",
    "svc_model = SVC(gamma=\"auto\")\n",
    "\n",
    "start = time_elapsed_start()\n",
    "svc_model.fit(X_train, y_train)\n",
    "time_elapsed_stop(start)\n",
    "\n",
    "svc_model_predictions = svc_model.predict(X_test)\n",
    "\n",
    "print(metrics.confusion_matrix(y_test, svc_model_predictions))"
   ]
  },
  {
   "cell_type": "code",
   "execution_count": 85,
   "metadata": {},
   "outputs": [],
   "source": [
    "svc_model_predictions = svc_model.predict(X_test)"
   ]
  },
  {
   "cell_type": "markdown",
   "metadata": {},
   "source": [
    "### Confusion Matrix"
   ]
  },
  {
   "cell_type": "code",
   "execution_count": 86,
   "metadata": {},
   "outputs": [
    {
     "output_type": "stream",
     "name": "stdout",
     "text": "[[   0    0    0    0    0    0    0    0    0 4860]\n [   0    0    0    0    0    0    0    0    0 4834]\n [   0    0    0    0    0    0    0    0    0 2030]\n [   0    0    0    0    0    0    0    0    0 2230]\n [   0    0    0    0    0    0    0    0    0 1995]\n [   0    0    0    0    0    0    0    0    0 4749]\n [   0    0    0    0    0    0    0    0    0 2453]\n [   0    0    0    0    0    0    0    0    0 2686]\n [   0    0    0    0    0    0    0    0    0 5452]\n [   0    0    0    0    0    0    0    0    0 8711]]\n"
    }
   ],
   "source": [
    "print(metrics.confusion_matrix(y_test, svc_model_predictions))"
   ]
  },
  {
   "cell_type": "code",
   "execution_count": 82,
   "metadata": {},
   "outputs": [],
   "source": [
    "save_model(svc_model, 'svc_model')"
   ]
  },
  {
   "cell_type": "code",
   "execution_count": 74,
   "metadata": {},
   "outputs": [
    {
     "output_type": "execute_result",
     "data": {
      "text/plain": "            predicted 1  predicted 2  predicted 3  predicted 4  predicted 5  \\\ncorrect 1             0            0            0            0            0   \ncorrect 2             0            0            0            0            0   \ncorrect 3             0            0            0            0            0   \ncorrect 4             0            0            0            0            0   \ncorrect 5             0            0            0            0            0   \ncorrect 6             0            0            0            0            0   \ncorrect 7             0            0            0            0            0   \ncorrect 8             0            0            0            0            0   \ncorrect 9             0            0            0            0            0   \ncorrect 10            0            0            0            0            0   \n\n            predicted 6  predicted 7  predicted 8  predicted 9  predicted 10  \ncorrect 1             0            0            0            0          4860  \ncorrect 2             0            0            0            0          4834  \ncorrect 3             0            0            0            0          2030  \ncorrect 4             0            0            0            0          2230  \ncorrect 5             0            0            0            0          1995  \ncorrect 6             0            0            0            0          4749  \ncorrect 7             0            0            0            0          2453  \ncorrect 8             0            0            0            0          2686  \ncorrect 9             0            0            0            0          5452  \ncorrect 10            0            0            0            0          8711  ",
      "text/html": "<div>\n<style scoped>\n    .dataframe tbody tr th:only-of-type {\n        vertical-align: middle;\n    }\n\n    .dataframe tbody tr th {\n        vertical-align: top;\n    }\n\n    .dataframe thead th {\n        text-align: right;\n    }\n</style>\n<table border=\"1\" class=\"dataframe\">\n  <thead>\n    <tr style=\"text-align: right;\">\n      <th></th>\n      <th>predicted 1</th>\n      <th>predicted 2</th>\n      <th>predicted 3</th>\n      <th>predicted 4</th>\n      <th>predicted 5</th>\n      <th>predicted 6</th>\n      <th>predicted 7</th>\n      <th>predicted 8</th>\n      <th>predicted 9</th>\n      <th>predicted 10</th>\n    </tr>\n  </thead>\n  <tbody>\n    <tr>\n      <th>correct 1</th>\n      <td>0</td>\n      <td>0</td>\n      <td>0</td>\n      <td>0</td>\n      <td>0</td>\n      <td>0</td>\n      <td>0</td>\n      <td>0</td>\n      <td>0</td>\n      <td>4860</td>\n    </tr>\n    <tr>\n      <th>correct 2</th>\n      <td>0</td>\n      <td>0</td>\n      <td>0</td>\n      <td>0</td>\n      <td>0</td>\n      <td>0</td>\n      <td>0</td>\n      <td>0</td>\n      <td>0</td>\n      <td>4834</td>\n    </tr>\n    <tr>\n      <th>correct 3</th>\n      <td>0</td>\n      <td>0</td>\n      <td>0</td>\n      <td>0</td>\n      <td>0</td>\n      <td>0</td>\n      <td>0</td>\n      <td>0</td>\n      <td>0</td>\n      <td>2030</td>\n    </tr>\n    <tr>\n      <th>correct 4</th>\n      <td>0</td>\n      <td>0</td>\n      <td>0</td>\n      <td>0</td>\n      <td>0</td>\n      <td>0</td>\n      <td>0</td>\n      <td>0</td>\n      <td>0</td>\n      <td>2230</td>\n    </tr>\n    <tr>\n      <th>correct 5</th>\n      <td>0</td>\n      <td>0</td>\n      <td>0</td>\n      <td>0</td>\n      <td>0</td>\n      <td>0</td>\n      <td>0</td>\n      <td>0</td>\n      <td>0</td>\n      <td>1995</td>\n    </tr>\n    <tr>\n      <th>correct 6</th>\n      <td>0</td>\n      <td>0</td>\n      <td>0</td>\n      <td>0</td>\n      <td>0</td>\n      <td>0</td>\n      <td>0</td>\n      <td>0</td>\n      <td>0</td>\n      <td>4749</td>\n    </tr>\n    <tr>\n      <th>correct 7</th>\n      <td>0</td>\n      <td>0</td>\n      <td>0</td>\n      <td>0</td>\n      <td>0</td>\n      <td>0</td>\n      <td>0</td>\n      <td>0</td>\n      <td>0</td>\n      <td>2453</td>\n    </tr>\n    <tr>\n      <th>correct 8</th>\n      <td>0</td>\n      <td>0</td>\n      <td>0</td>\n      <td>0</td>\n      <td>0</td>\n      <td>0</td>\n      <td>0</td>\n      <td>0</td>\n      <td>0</td>\n      <td>2686</td>\n    </tr>\n    <tr>\n      <th>correct 9</th>\n      <td>0</td>\n      <td>0</td>\n      <td>0</td>\n      <td>0</td>\n      <td>0</td>\n      <td>0</td>\n      <td>0</td>\n      <td>0</td>\n      <td>0</td>\n      <td>5452</td>\n    </tr>\n    <tr>\n      <th>correct 10</th>\n      <td>0</td>\n      <td>0</td>\n      <td>0</td>\n      <td>0</td>\n      <td>0</td>\n      <td>0</td>\n      <td>0</td>\n      <td>0</td>\n      <td>0</td>\n      <td>8711</td>\n    </tr>\n  </tbody>\n</table>\n</div>"
     },
     "metadata": {},
     "execution_count": 74
    }
   ],
   "source": [
    "# You can make the confusion matrix less confusing by adding labels:\n",
    "dataframe_labels = pd.DataFrame(metrics.confusion_matrix(y_test,svc_model_predictions), \n",
    "                  index=['correct 1', 'correct 2', 'correct 3', 'correct 4', 'correct 5', 'correct 6', 'correct 7', 'correct 8', 'correct 9', 'correct 10'], \n",
    "                  columns=['predicted 1', 'predicted 2', 'predicted 3', 'predicted 4', 'predicted 5', 'predicted 6', 'predicted 7', 'predicted 8', 'predicted 9', 'predicted 10'])\n",
    "dataframe_labels"
   ]
  },
  {
   "cell_type": "code",
   "execution_count": 75,
   "metadata": {},
   "outputs": [
    {
     "output_type": "stream",
     "name": "stdout",
     "text": "precision    recall  f1-score   support\n\n           0       0.00      0.00      0.00      4860\n           1       0.00      0.00      0.00      4834\n           2       0.00      0.00      0.00      2030\n           3       0.00      0.00      0.00      2230\n           4       0.00      0.00      0.00      1995\n           5       0.00      0.00      0.00      4749\n           6       0.00      0.00      0.00      2453\n           7       0.00      0.00      0.00      2686\n           8       0.00      0.00      0.00      5452\n           9       0.22      1.00      0.36      8711\n\n   micro avg       0.22      0.22      0.22     40000\n   macro avg       0.02      0.10      0.04     40000\nweighted avg       0.05      0.22      0.08     40000\n\nC:\\Users\\faisa\\Anaconda3\\envs\\AI2_course\\lib\\site-packages\\sklearn\\metrics\\classification.py:1143: UndefinedMetricWarning: Precision and F-score are ill-defined and being set to 0.0 in labels with no predicted samples.\n  'precision', 'predicted', average, warn_for)\n"
    }
   ],
   "source": [
    "print(metrics.classification_report(y_test,svc_model_predictions))"
   ]
  },
  {
   "cell_type": "code",
   "execution_count": 77,
   "metadata": {},
   "outputs": [
    {
     "output_type": "stream",
     "name": "stdout",
     "text": "0.217775\n"
    }
   ],
   "source": [
    "print(metrics.accuracy_score(y_test,svc_model_predictions))"
   ]
  },
  {
   "cell_type": "markdown",
   "metadata": {},
   "source": [
    "Accuracy of SVC- 21%"
   ]
  },
  {
   "cell_type": "markdown",
   "metadata": {},
   "source": [
    "We have noticed that Random Forest has the highest accuracy with 90%."
   ]
  }
 ]
}